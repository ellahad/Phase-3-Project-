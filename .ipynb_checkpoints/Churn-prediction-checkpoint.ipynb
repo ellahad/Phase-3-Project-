{
 "cells": [
  {
   "cell_type": "code",
   "execution_count": 1,
   "metadata": {},
   "outputs": [],
   "source": [
    "## Data Understanding"
   ]
  },
  {
   "cell_type": "markdown",
   "metadata": {},
   "source": [
    "### Numerical data in 16/21 columns\n",
    "\n",
    "**account length** - the duration of time the client has been active\n",
    "\n",
    "**area code** - area code of client residence\n",
    "\n",
    "**number vmail messages** - total vmail messages sent by client\n",
    "\n",
    "**total day minutes** - total day minutes used by client\n",
    "\n",
    "**total day calls** - total number of day calls made\n",
    "\n",
    "**total day charge** - total charge for the day calls\n",
    "\n",
    "**total eve minutes** - total evening minutes used by client\n",
    "\n",
    "**total eve calls** - total number of evening calls made\n",
    "\n",
    "**total eve charge** - total charge for the evening calls\n",
    "\n",
    "**total night minutes** - total night minutes used by client\n",
    "\n",
    "**total night calls**- total number of night calls made\n",
    "\n",
    "**total night charge** - total charge forthe night calls\n",
    "\n",
    "**total intl minutes** - total international minutes used by the client\n",
    "\n",
    "**total intl calls**- total number of international calls made\n",
    "\n",
    "**total intl charge**- total charge for the international calls\n",
    "\n",
    "**customer service calls** - total number of calls made by client to the customer service\n",
    "\n",
    "### Categorical data in 5/21 columns\n",
    "\n",
    "**state** - this is the state where the client resides\n",
    "\n",
    "**phone number** - the phone contact of the client\n",
    "\n",
    "**international plan** - for a client who has subscribed to an international plan\n",
    "\n",
    "**voice mail plan** - for a client who has subscribed to a voicemail plan\n",
    "\n",
    "**churn** - status of a client as either churned(True) or not churned(False) Syriatel company services"
   ]
  },
  {
   "cell_type": "code",
   "execution_count": 2,
   "metadata": {},
   "outputs": [],
   "source": [
    "import pandas as pd\n",
    "import seaborn as sns\n",
    "import matplotlib.pyplot as plt\n",
    "%matplotlib inline\n",
    "from sklearn.impute import SimpleImputer\n",
    "from sklearn.tree import DecisionTreeClassifier"
   ]
  },
  {
   "cell_type": "code",
   "execution_count": 3,
   "metadata": {},
   "outputs": [
    {
     "data": {
      "text/html": [
       "<div>\n",
       "<style scoped>\n",
       "    .dataframe tbody tr th:only-of-type {\n",
       "        vertical-align: middle;\n",
       "    }\n",
       "\n",
       "    .dataframe tbody tr th {\n",
       "        vertical-align: top;\n",
       "    }\n",
       "\n",
       "    .dataframe thead th {\n",
       "        text-align: right;\n",
       "    }\n",
       "</style>\n",
       "<table border=\"1\" class=\"dataframe\">\n",
       "  <thead>\n",
       "    <tr style=\"text-align: right;\">\n",
       "      <th></th>\n",
       "      <th>state</th>\n",
       "      <th>account length</th>\n",
       "      <th>area code</th>\n",
       "      <th>phone number</th>\n",
       "      <th>international plan</th>\n",
       "      <th>voice mail plan</th>\n",
       "      <th>number vmail messages</th>\n",
       "      <th>total day minutes</th>\n",
       "      <th>total day calls</th>\n",
       "      <th>total day charge</th>\n",
       "      <th>...</th>\n",
       "      <th>total eve calls</th>\n",
       "      <th>total eve charge</th>\n",
       "      <th>total night minutes</th>\n",
       "      <th>total night calls</th>\n",
       "      <th>total night charge</th>\n",
       "      <th>total intl minutes</th>\n",
       "      <th>total intl calls</th>\n",
       "      <th>total intl charge</th>\n",
       "      <th>customer service calls</th>\n",
       "      <th>churn</th>\n",
       "    </tr>\n",
       "  </thead>\n",
       "  <tbody>\n",
       "    <tr>\n",
       "      <th>0</th>\n",
       "      <td>KS</td>\n",
       "      <td>128</td>\n",
       "      <td>415</td>\n",
       "      <td>382-4657</td>\n",
       "      <td>no</td>\n",
       "      <td>yes</td>\n",
       "      <td>25</td>\n",
       "      <td>265.1</td>\n",
       "      <td>110</td>\n",
       "      <td>45.07</td>\n",
       "      <td>...</td>\n",
       "      <td>99</td>\n",
       "      <td>16.78</td>\n",
       "      <td>244.7</td>\n",
       "      <td>91</td>\n",
       "      <td>11.01</td>\n",
       "      <td>10.0</td>\n",
       "      <td>3</td>\n",
       "      <td>2.70</td>\n",
       "      <td>1</td>\n",
       "      <td>False</td>\n",
       "    </tr>\n",
       "    <tr>\n",
       "      <th>1</th>\n",
       "      <td>OH</td>\n",
       "      <td>107</td>\n",
       "      <td>415</td>\n",
       "      <td>371-7191</td>\n",
       "      <td>no</td>\n",
       "      <td>yes</td>\n",
       "      <td>26</td>\n",
       "      <td>161.6</td>\n",
       "      <td>123</td>\n",
       "      <td>27.47</td>\n",
       "      <td>...</td>\n",
       "      <td>103</td>\n",
       "      <td>16.62</td>\n",
       "      <td>254.4</td>\n",
       "      <td>103</td>\n",
       "      <td>11.45</td>\n",
       "      <td>13.7</td>\n",
       "      <td>3</td>\n",
       "      <td>3.70</td>\n",
       "      <td>1</td>\n",
       "      <td>False</td>\n",
       "    </tr>\n",
       "    <tr>\n",
       "      <th>2</th>\n",
       "      <td>NJ</td>\n",
       "      <td>137</td>\n",
       "      <td>415</td>\n",
       "      <td>358-1921</td>\n",
       "      <td>no</td>\n",
       "      <td>no</td>\n",
       "      <td>0</td>\n",
       "      <td>243.4</td>\n",
       "      <td>114</td>\n",
       "      <td>41.38</td>\n",
       "      <td>...</td>\n",
       "      <td>110</td>\n",
       "      <td>10.30</td>\n",
       "      <td>162.6</td>\n",
       "      <td>104</td>\n",
       "      <td>7.32</td>\n",
       "      <td>12.2</td>\n",
       "      <td>5</td>\n",
       "      <td>3.29</td>\n",
       "      <td>0</td>\n",
       "      <td>False</td>\n",
       "    </tr>\n",
       "    <tr>\n",
       "      <th>3</th>\n",
       "      <td>OH</td>\n",
       "      <td>84</td>\n",
       "      <td>408</td>\n",
       "      <td>375-9999</td>\n",
       "      <td>yes</td>\n",
       "      <td>no</td>\n",
       "      <td>0</td>\n",
       "      <td>299.4</td>\n",
       "      <td>71</td>\n",
       "      <td>50.90</td>\n",
       "      <td>...</td>\n",
       "      <td>88</td>\n",
       "      <td>5.26</td>\n",
       "      <td>196.9</td>\n",
       "      <td>89</td>\n",
       "      <td>8.86</td>\n",
       "      <td>6.6</td>\n",
       "      <td>7</td>\n",
       "      <td>1.78</td>\n",
       "      <td>2</td>\n",
       "      <td>False</td>\n",
       "    </tr>\n",
       "    <tr>\n",
       "      <th>4</th>\n",
       "      <td>OK</td>\n",
       "      <td>75</td>\n",
       "      <td>415</td>\n",
       "      <td>330-6626</td>\n",
       "      <td>yes</td>\n",
       "      <td>no</td>\n",
       "      <td>0</td>\n",
       "      <td>166.7</td>\n",
       "      <td>113</td>\n",
       "      <td>28.34</td>\n",
       "      <td>...</td>\n",
       "      <td>122</td>\n",
       "      <td>12.61</td>\n",
       "      <td>186.9</td>\n",
       "      <td>121</td>\n",
       "      <td>8.41</td>\n",
       "      <td>10.1</td>\n",
       "      <td>3</td>\n",
       "      <td>2.73</td>\n",
       "      <td>3</td>\n",
       "      <td>False</td>\n",
       "    </tr>\n",
       "  </tbody>\n",
       "</table>\n",
       "<p>5 rows × 21 columns</p>\n",
       "</div>"
      ],
      "text/plain": [
       "  state  account length  area code phone number international plan  \\\n",
       "0    KS             128        415     382-4657                 no   \n",
       "1    OH             107        415     371-7191                 no   \n",
       "2    NJ             137        415     358-1921                 no   \n",
       "3    OH              84        408     375-9999                yes   \n",
       "4    OK              75        415     330-6626                yes   \n",
       "\n",
       "  voice mail plan  number vmail messages  total day minutes  total day calls  \\\n",
       "0             yes                     25              265.1              110   \n",
       "1             yes                     26              161.6              123   \n",
       "2              no                      0              243.4              114   \n",
       "3              no                      0              299.4               71   \n",
       "4              no                      0              166.7              113   \n",
       "\n",
       "   total day charge  ...  total eve calls  total eve charge  \\\n",
       "0             45.07  ...               99             16.78   \n",
       "1             27.47  ...              103             16.62   \n",
       "2             41.38  ...              110             10.30   \n",
       "3             50.90  ...               88              5.26   \n",
       "4             28.34  ...              122             12.61   \n",
       "\n",
       "   total night minutes  total night calls  total night charge  \\\n",
       "0                244.7                 91               11.01   \n",
       "1                254.4                103               11.45   \n",
       "2                162.6                104                7.32   \n",
       "3                196.9                 89                8.86   \n",
       "4                186.9                121                8.41   \n",
       "\n",
       "   total intl minutes  total intl calls  total intl charge  \\\n",
       "0                10.0                 3               2.70   \n",
       "1                13.7                 3               3.70   \n",
       "2                12.2                 5               3.29   \n",
       "3                 6.6                 7               1.78   \n",
       "4                10.1                 3               2.73   \n",
       "\n",
       "   customer service calls  churn  \n",
       "0                       1  False  \n",
       "1                       1  False  \n",
       "2                       0  False  \n",
       "3                       2  False  \n",
       "4                       3  False  \n",
       "\n",
       "[5 rows x 21 columns]"
      ]
     },
     "execution_count": 3,
     "metadata": {},
     "output_type": "execute_result"
    }
   ],
   "source": [
    "df= pd.read_csv('Data.csv')\n",
    "df.head()"
   ]
  },
  {
   "cell_type": "code",
   "execution_count": 4,
   "metadata": {},
   "outputs": [
    {
     "data": {
      "text/plain": [
       "(3333, 21)"
      ]
     },
     "execution_count": 4,
     "metadata": {},
     "output_type": "execute_result"
    }
   ],
   "source": [
    "df.shape"
   ]
  },
  {
   "cell_type": "code",
   "execution_count": 5,
   "metadata": {},
   "outputs": [
    {
     "data": {
      "text/plain": [
       "Index(['state', 'account length', 'area code', 'phone number',\n",
       "       'international plan', 'voice mail plan', 'number vmail messages',\n",
       "       'total day minutes', 'total day calls', 'total day charge',\n",
       "       'total eve minutes', 'total eve calls', 'total eve charge',\n",
       "       'total night minutes', 'total night calls', 'total night charge',\n",
       "       'total intl minutes', 'total intl calls', 'total intl charge',\n",
       "       'customer service calls', 'churn'],\n",
       "      dtype='object')"
      ]
     },
     "execution_count": 5,
     "metadata": {},
     "output_type": "execute_result"
    }
   ],
   "source": [
    "df.columns"
   ]
  },
  {
   "cell_type": "code",
   "execution_count": 6,
   "metadata": {},
   "outputs": [
    {
     "data": {
      "text/plain": [
       "415    1655\n",
       "510     840\n",
       "408     838\n",
       "Name: area code, dtype: int64"
      ]
     },
     "execution_count": 6,
     "metadata": {},
     "output_type": "execute_result"
    }
   ],
   "source": [
    "df['area code'].value_counts()"
   ]
  },
  {
   "cell_type": "code",
   "execution_count": 7,
   "metadata": {},
   "outputs": [
    {
     "data": {
      "text/plain": [
       "state                     0\n",
       "account length            0\n",
       "area code                 0\n",
       "phone number              0\n",
       "international plan        0\n",
       "voice mail plan           0\n",
       "number vmail messages     0\n",
       "total day minutes         0\n",
       "total day calls           0\n",
       "total day charge          0\n",
       "total eve minutes         0\n",
       "total eve calls           0\n",
       "total eve charge          0\n",
       "total night minutes       0\n",
       "total night calls         0\n",
       "total night charge        0\n",
       "total intl minutes        0\n",
       "total intl calls          0\n",
       "total intl charge         0\n",
       "customer service calls    0\n",
       "churn                     0\n",
       "dtype: int64"
      ]
     },
     "execution_count": 7,
     "metadata": {},
     "output_type": "execute_result"
    }
   ],
   "source": [
    "df.isnull().sum()"
   ]
  },
  {
   "cell_type": "markdown",
   "metadata": {},
   "source": [
    "There are no missing values in this dataset"
   ]
  },
  {
   "cell_type": "code",
   "execution_count": 8,
   "metadata": {},
   "outputs": [
    {
     "data": {
      "text/html": [
       "<div>\n",
       "<style scoped>\n",
       "    .dataframe tbody tr th:only-of-type {\n",
       "        vertical-align: middle;\n",
       "    }\n",
       "\n",
       "    .dataframe tbody tr th {\n",
       "        vertical-align: top;\n",
       "    }\n",
       "\n",
       "    .dataframe thead th {\n",
       "        text-align: right;\n",
       "    }\n",
       "</style>\n",
       "<table border=\"1\" class=\"dataframe\">\n",
       "  <thead>\n",
       "    <tr style=\"text-align: right;\">\n",
       "      <th></th>\n",
       "      <th>account length</th>\n",
       "      <th>area code</th>\n",
       "      <th>number vmail messages</th>\n",
       "      <th>total day minutes</th>\n",
       "      <th>total day calls</th>\n",
       "      <th>total day charge</th>\n",
       "      <th>total eve minutes</th>\n",
       "      <th>total eve calls</th>\n",
       "      <th>total eve charge</th>\n",
       "      <th>total night minutes</th>\n",
       "      <th>total night calls</th>\n",
       "      <th>total night charge</th>\n",
       "      <th>total intl minutes</th>\n",
       "      <th>total intl calls</th>\n",
       "      <th>total intl charge</th>\n",
       "      <th>customer service calls</th>\n",
       "    </tr>\n",
       "  </thead>\n",
       "  <tbody>\n",
       "    <tr>\n",
       "      <th>count</th>\n",
       "      <td>3333.000000</td>\n",
       "      <td>3333.000000</td>\n",
       "      <td>3333.000000</td>\n",
       "      <td>3333.000000</td>\n",
       "      <td>3333.000000</td>\n",
       "      <td>3333.000000</td>\n",
       "      <td>3333.000000</td>\n",
       "      <td>3333.000000</td>\n",
       "      <td>3333.000000</td>\n",
       "      <td>3333.000000</td>\n",
       "      <td>3333.000000</td>\n",
       "      <td>3333.000000</td>\n",
       "      <td>3333.000000</td>\n",
       "      <td>3333.000000</td>\n",
       "      <td>3333.000000</td>\n",
       "      <td>3333.000000</td>\n",
       "    </tr>\n",
       "    <tr>\n",
       "      <th>mean</th>\n",
       "      <td>101.064806</td>\n",
       "      <td>437.182418</td>\n",
       "      <td>8.099010</td>\n",
       "      <td>179.775098</td>\n",
       "      <td>100.435644</td>\n",
       "      <td>30.562307</td>\n",
       "      <td>200.980348</td>\n",
       "      <td>100.114311</td>\n",
       "      <td>17.083540</td>\n",
       "      <td>200.872037</td>\n",
       "      <td>100.107711</td>\n",
       "      <td>9.039325</td>\n",
       "      <td>10.237294</td>\n",
       "      <td>4.479448</td>\n",
       "      <td>2.764581</td>\n",
       "      <td>1.562856</td>\n",
       "    </tr>\n",
       "    <tr>\n",
       "      <th>std</th>\n",
       "      <td>39.822106</td>\n",
       "      <td>42.371290</td>\n",
       "      <td>13.688365</td>\n",
       "      <td>54.467389</td>\n",
       "      <td>20.069084</td>\n",
       "      <td>9.259435</td>\n",
       "      <td>50.713844</td>\n",
       "      <td>19.922625</td>\n",
       "      <td>4.310668</td>\n",
       "      <td>50.573847</td>\n",
       "      <td>19.568609</td>\n",
       "      <td>2.275873</td>\n",
       "      <td>2.791840</td>\n",
       "      <td>2.461214</td>\n",
       "      <td>0.753773</td>\n",
       "      <td>1.315491</td>\n",
       "    </tr>\n",
       "    <tr>\n",
       "      <th>min</th>\n",
       "      <td>1.000000</td>\n",
       "      <td>408.000000</td>\n",
       "      <td>0.000000</td>\n",
       "      <td>0.000000</td>\n",
       "      <td>0.000000</td>\n",
       "      <td>0.000000</td>\n",
       "      <td>0.000000</td>\n",
       "      <td>0.000000</td>\n",
       "      <td>0.000000</td>\n",
       "      <td>23.200000</td>\n",
       "      <td>33.000000</td>\n",
       "      <td>1.040000</td>\n",
       "      <td>0.000000</td>\n",
       "      <td>0.000000</td>\n",
       "      <td>0.000000</td>\n",
       "      <td>0.000000</td>\n",
       "    </tr>\n",
       "    <tr>\n",
       "      <th>25%</th>\n",
       "      <td>74.000000</td>\n",
       "      <td>408.000000</td>\n",
       "      <td>0.000000</td>\n",
       "      <td>143.700000</td>\n",
       "      <td>87.000000</td>\n",
       "      <td>24.430000</td>\n",
       "      <td>166.600000</td>\n",
       "      <td>87.000000</td>\n",
       "      <td>14.160000</td>\n",
       "      <td>167.000000</td>\n",
       "      <td>87.000000</td>\n",
       "      <td>7.520000</td>\n",
       "      <td>8.500000</td>\n",
       "      <td>3.000000</td>\n",
       "      <td>2.300000</td>\n",
       "      <td>1.000000</td>\n",
       "    </tr>\n",
       "    <tr>\n",
       "      <th>50%</th>\n",
       "      <td>101.000000</td>\n",
       "      <td>415.000000</td>\n",
       "      <td>0.000000</td>\n",
       "      <td>179.400000</td>\n",
       "      <td>101.000000</td>\n",
       "      <td>30.500000</td>\n",
       "      <td>201.400000</td>\n",
       "      <td>100.000000</td>\n",
       "      <td>17.120000</td>\n",
       "      <td>201.200000</td>\n",
       "      <td>100.000000</td>\n",
       "      <td>9.050000</td>\n",
       "      <td>10.300000</td>\n",
       "      <td>4.000000</td>\n",
       "      <td>2.780000</td>\n",
       "      <td>1.000000</td>\n",
       "    </tr>\n",
       "    <tr>\n",
       "      <th>75%</th>\n",
       "      <td>127.000000</td>\n",
       "      <td>510.000000</td>\n",
       "      <td>20.000000</td>\n",
       "      <td>216.400000</td>\n",
       "      <td>114.000000</td>\n",
       "      <td>36.790000</td>\n",
       "      <td>235.300000</td>\n",
       "      <td>114.000000</td>\n",
       "      <td>20.000000</td>\n",
       "      <td>235.300000</td>\n",
       "      <td>113.000000</td>\n",
       "      <td>10.590000</td>\n",
       "      <td>12.100000</td>\n",
       "      <td>6.000000</td>\n",
       "      <td>3.270000</td>\n",
       "      <td>2.000000</td>\n",
       "    </tr>\n",
       "    <tr>\n",
       "      <th>max</th>\n",
       "      <td>243.000000</td>\n",
       "      <td>510.000000</td>\n",
       "      <td>51.000000</td>\n",
       "      <td>350.800000</td>\n",
       "      <td>165.000000</td>\n",
       "      <td>59.640000</td>\n",
       "      <td>363.700000</td>\n",
       "      <td>170.000000</td>\n",
       "      <td>30.910000</td>\n",
       "      <td>395.000000</td>\n",
       "      <td>175.000000</td>\n",
       "      <td>17.770000</td>\n",
       "      <td>20.000000</td>\n",
       "      <td>20.000000</td>\n",
       "      <td>5.400000</td>\n",
       "      <td>9.000000</td>\n",
       "    </tr>\n",
       "  </tbody>\n",
       "</table>\n",
       "</div>"
      ],
      "text/plain": [
       "       account length    area code  number vmail messages  total day minutes  \\\n",
       "count     3333.000000  3333.000000            3333.000000        3333.000000   \n",
       "mean       101.064806   437.182418               8.099010         179.775098   \n",
       "std         39.822106    42.371290              13.688365          54.467389   \n",
       "min          1.000000   408.000000               0.000000           0.000000   \n",
       "25%         74.000000   408.000000               0.000000         143.700000   \n",
       "50%        101.000000   415.000000               0.000000         179.400000   \n",
       "75%        127.000000   510.000000              20.000000         216.400000   \n",
       "max        243.000000   510.000000              51.000000         350.800000   \n",
       "\n",
       "       total day calls  total day charge  total eve minutes  total eve calls  \\\n",
       "count      3333.000000       3333.000000        3333.000000      3333.000000   \n",
       "mean        100.435644         30.562307         200.980348       100.114311   \n",
       "std          20.069084          9.259435          50.713844        19.922625   \n",
       "min           0.000000          0.000000           0.000000         0.000000   \n",
       "25%          87.000000         24.430000         166.600000        87.000000   \n",
       "50%         101.000000         30.500000         201.400000       100.000000   \n",
       "75%         114.000000         36.790000         235.300000       114.000000   \n",
       "max         165.000000         59.640000         363.700000       170.000000   \n",
       "\n",
       "       total eve charge  total night minutes  total night calls  \\\n",
       "count       3333.000000          3333.000000        3333.000000   \n",
       "mean          17.083540           200.872037         100.107711   \n",
       "std            4.310668            50.573847          19.568609   \n",
       "min            0.000000            23.200000          33.000000   \n",
       "25%           14.160000           167.000000          87.000000   \n",
       "50%           17.120000           201.200000         100.000000   \n",
       "75%           20.000000           235.300000         113.000000   \n",
       "max           30.910000           395.000000         175.000000   \n",
       "\n",
       "       total night charge  total intl minutes  total intl calls  \\\n",
       "count         3333.000000         3333.000000       3333.000000   \n",
       "mean             9.039325           10.237294          4.479448   \n",
       "std              2.275873            2.791840          2.461214   \n",
       "min              1.040000            0.000000          0.000000   \n",
       "25%              7.520000            8.500000          3.000000   \n",
       "50%              9.050000           10.300000          4.000000   \n",
       "75%             10.590000           12.100000          6.000000   \n",
       "max             17.770000           20.000000         20.000000   \n",
       "\n",
       "       total intl charge  customer service calls  \n",
       "count        3333.000000             3333.000000  \n",
       "mean            2.764581                1.562856  \n",
       "std             0.753773                1.315491  \n",
       "min             0.000000                0.000000  \n",
       "25%             2.300000                1.000000  \n",
       "50%             2.780000                1.000000  \n",
       "75%             3.270000                2.000000  \n",
       "max             5.400000                9.000000  "
      ]
     },
     "execution_count": 8,
     "metadata": {},
     "output_type": "execute_result"
    }
   ],
   "source": [
    "df.describe()"
   ]
  },
  {
   "cell_type": "markdown",
   "metadata": {},
   "source": [
    "The above dataframe gives the count, mean, std deviation,min and max value, and the 25th, 50th and 75th quartile"
   ]
  },
  {
   "cell_type": "markdown",
   "metadata": {},
   "source": [
    "## Exploratory Data Analysis"
   ]
  },
  {
   "cell_type": "markdown",
   "metadata": {},
   "source": [
    "### Exploring customer churn column"
   ]
  },
  {
   "cell_type": "code",
   "execution_count": 9,
   "metadata": {},
   "outputs": [
    {
     "data": {
      "text/plain": [
       "False    2850\n",
       "True      483\n",
       "Name: churn, dtype: int64"
      ]
     },
     "execution_count": 9,
     "metadata": {},
     "output_type": "execute_result"
    }
   ],
   "source": [
    "#getting customer churn count\n",
    "df['churn'].value_counts()"
   ]
  },
  {
   "cell_type": "code",
   "execution_count": 10,
   "metadata": {},
   "outputs": [
    {
     "name": "stdout",
     "output_type": "stream",
     "text": [
      "0.14491449144914492\n"
     ]
    }
   ],
   "source": [
    "# percentage of customers that churn\n",
    "churned=df[df['churn']==True].shape[0]\n",
    "not_churned=df[df['churn']==False].shape[0]\n",
    "print(churned/(churned+not_churned))"
   ]
  },
  {
   "cell_type": "code",
   "execution_count": 11,
   "metadata": {},
   "outputs": [
    {
     "data": {
      "text/plain": [
       "<Axes: xlabel='churn', ylabel='count'>"
      ]
     },
     "execution_count": 11,
     "metadata": {},
     "output_type": "execute_result"
    },
    {
     "data": {
      "image/png": "[encoded data removed]",
      "text/plain": [
       "<Figure size 640x480 with 1 Axes>"
      ]
     },
     "metadata": {},
     "output_type": "display_data"
    }
   ],
   "source": [
    "#getting churn visualization\n",
    "sns.countplot(x='churn', data=df)"
   ]
  },
  {
   "cell_type": "markdown",
   "metadata": {},
   "source": [
    "### Bar plot of top 15 states with the highest churn rate"
   ]
  },
  {
   "cell_type": "code",
   "execution_count": 12,
   "metadata": {},
   "outputs": [
    {
     "data": {
      "image/png": "[encoded data removed]",
      "text/plain": [
       "<Figure size 1200x600 with 1 Axes>"
      ]
     },
     "metadata": {},
     "output_type": "display_data"
    }
   ],
   "source": [
    "# bar plot of customers who churned\n",
    "# getting churned df\n",
    "churned_df = df[df['churn'] == True]\n",
    "\n",
    "# getting churn counts for each state for churned customers\n",
    "churn_counts = churned_df['state'].value_counts().sort_values(ascending=False)\n",
    "top_15=churn_counts.head(15)\n",
    "# Set the size of the plot\n",
    "plt.figure(figsize=(12, 6))\n",
    "\n",
    "# Plot churn  for each state  in descending order\n",
    "sns.barplot(x=top_15.index, y=top_15.values)\n",
    "\n",
    "# Rotate x-axis labels for better readability\n",
    "plt.xticks(rotation=45)\n",
    "\n",
    "# Set labels \n",
    "plt.xlabel('State')\n",
    "plt.ylabel('Churn Count')\n",
    "plt.title('Churn Count for Each State', fontsize=14)\n",
    "\n",
    "# display the plot\n",
    "plt.tight_layout()  \n",
    "plt.show()\n"
   ]
  },
  {
   "cell_type": "markdown",
   "metadata": {},
   "source": [
    "### Bar plot of customers who did not churn"
   ]
  },
  {
   "cell_type": "code",
   "execution_count": 13,
   "metadata": {},
   "outputs": [
    {
     "data": {
      "image/png": "[encoded data removed]",
      "text/plain": [
       "<Figure size 1200x600 with 1 Axes>"
      ]
     },
     "metadata": {},
     "output_type": "display_data"
    }
   ],
   "source": [
    "# bar plot of customers who did not churn\n",
    "# getting customers that were retained df\n",
    "non_churn_df = df[df['churn'] == False]\n",
    "\n",
    "# getting non churn counts for each state for non churned customers\n",
    "non_churn_counts = non_churn_df['state'].value_counts().sort_values(ascending=False)\n",
    "top_15=non_churn_counts.head(15)\n",
    "# Set the size of the plot\n",
    "plt.figure(figsize=(12, 6))\n",
    "\n",
    "# Plot non churn  for each state  in descending order\n",
    "sns.barplot(x=top_15.index, y=top_15.values)\n",
    "\n",
    "# Rotate x-axis labels for better readability\n",
    "plt.xticks(rotation=45)\n",
    "\n",
    "# Set labels \n",
    "plt.xlabel('State')\n",
    "plt.ylabel('Churn Count')\n",
    "plt.title('Churn Count for Each State', fontsize=14)\n",
    "\n",
    "# display the plot\n",
    "plt.tight_layout()  \n",
    "plt.show()"
   ]
  },
  {
   "cell_type": "code",
   "execution_count": 14,
   "metadata": {},
   "outputs": [
    {
     "data": {
      "text/plain": [
       "<Axes: xlabel='customer service calls', ylabel='count'>"
      ]
     },
     "execution_count": 14,
     "metadata": {},
     "output_type": "execute_result"
    },
    {
     "data": {
      "image/png": "[encoded data removed]",
      "text/plain": [
       "<Figure size 640x480 with 1 Axes>"
      ]
     },
     "metadata": {},
     "output_type": "display_data"
    }
   ],
   "source": [
    "sns.countplot(x='customer service calls', hue='churn', data=df)"
   ]
  },
  {
   "cell_type": "code",
   "execution_count": 15,
   "metadata": {},
   "outputs": [
    {
     "data": {
      "text/plain": [
       "<Axes: xlabel='voice mail plan', ylabel='count'>"
      ]
     },
     "execution_count": 15,
     "metadata": {},
     "output_type": "execute_result"
    },
    {
     "data": {
      "image/png": "[encoded data removed]",
      "text/plain": [
       "<Figure size 640x480 with 1 Axes>"
      ]
     },
     "metadata": {},
     "output_type": "display_data"
    }
   ],
   "source": [
    "sns.countplot(x='voice mail plan', hue='churn', data=df)"
   ]
  },
  {
   "cell_type": "code",
   "execution_count": 16,
   "metadata": {},
   "outputs": [
    {
     "data": {
      "text/plain": [
       "<Axes: xlabel='international plan', ylabel='count'>"
      ]
     },
     "execution_count": 16,
     "metadata": {},
     "output_type": "execute_result"
    },
    {
     "data": {
      "image/png": "[encoded data removed]",
      "text/plain": [
       "<Figure size 640x480 with 1 Axes>"
      ]
     },
     "metadata": {},
     "output_type": "display_data"
    }
   ],
   "source": [
    "sns.countplot(x='international plan', hue='churn', data=df)"
   ]
  },
  {
   "cell_type": "code",
   "execution_count": 17,
   "metadata": {},
   "outputs": [
    {
     "name": "stdout",
     "output_type": "stream",
     "text": [
      "<class 'pandas.core.frame.DataFrame'>\n",
      "RangeIndex: 3333 entries, 0 to 3332\n",
      "Data columns (total 21 columns):\n",
      " #   Column                  Non-Null Count  Dtype  \n",
      "---  ------                  --------------  -----  \n",
      " 0   state                   3333 non-null   object \n",
      " 1   account length          3333 non-null   int64  \n",
      " 2   area code               3333 non-null   int64  \n",
      " 3   phone number            3333 non-null   object \n",
      " 4   international plan      3333 non-null   object \n",
      " 5   voice mail plan         3333 non-null   object \n",
      " 6   number vmail messages   3333 non-null   int64  \n",
      " 7   total day minutes       3333 non-null   float64\n",
      " 8   total day calls         3333 non-null   int64  \n",
      " 9   total day charge        3333 non-null   float64\n",
      " 10  total eve minutes       3333 non-null   float64\n",
      " 11  total eve calls         3333 non-null   int64  \n",
      " 12  total eve charge        3333 non-null   float64\n",
      " 13  total night minutes     3333 non-null   float64\n",
      " 14  total night calls       3333 non-null   int64  \n",
      " 15  total night charge      3333 non-null   float64\n",
      " 16  total intl minutes      3333 non-null   float64\n",
      " 17  total intl calls        3333 non-null   int64  \n",
      " 18  total intl charge       3333 non-null   float64\n",
      " 19  customer service calls  3333 non-null   int64  \n",
      " 20  churn                   3333 non-null   bool   \n",
      "dtypes: bool(1), float64(8), int64(8), object(4)\n",
      "memory usage: 524.2+ KB\n"
     ]
    }
   ],
   "source": [
    "df.info()"
   ]
  },
  {
   "cell_type": "code",
   "execution_count": 18,
   "metadata": {},
   "outputs": [],
   "source": [
    "#getting dummies for categorical variable, state\n",
    "dummy_state = pd.get_dummies(df['state'], prefix='state')  \n",
    "#Concatenate the dummy variables with the original DataFrame\n",
    "df = pd.concat([df, dummy_state], axis=1)\n",
    " \n",
    "# Dropping the original 'state' column\n",
    "df = df.drop('state', axis=1)\n",
    " \n",
    "df = df.replace({True: 1, False: 0})\n"
   ]
  },
  {
   "cell_type": "code",
   "execution_count": 19,
   "metadata": {},
   "outputs": [
    {
     "name": "stdout",
     "output_type": "stream",
     "text": [
      "<class 'pandas.core.frame.DataFrame'>\n",
      "RangeIndex: 3333 entries, 0 to 3332\n",
      "Data columns (total 71 columns):\n",
      " #   Column                  Non-Null Count  Dtype  \n",
      "---  ------                  --------------  -----  \n",
      " 0   account length          3333 non-null   int64  \n",
      " 1   area code               3333 non-null   int64  \n",
      " 2   phone number            3333 non-null   object \n",
      " 3   international plan      3333 non-null   object \n",
      " 4   voice mail plan         3333 non-null   object \n",
      " 5   number vmail messages   3333 non-null   int64  \n",
      " 6   total day minutes       3333 non-null   float64\n",
      " 7   total day calls         3333 non-null   int64  \n",
      " 8   total day charge        3333 non-null   float64\n",
      " 9   total eve minutes       3333 non-null   float64\n",
      " 10  total eve calls         3333 non-null   int64  \n",
      " 11  total eve charge        3333 non-null   float64\n",
      " 12  total night minutes     3333 non-null   float64\n",
      " 13  total night calls       3333 non-null   int64  \n",
      " 14  total night charge      3333 non-null   float64\n",
      " 15  total intl minutes      3333 non-null   float64\n",
      " 16  total intl calls        3333 non-null   int64  \n",
      " 17  total intl charge       3333 non-null   float64\n",
      " 18  customer service calls  3333 non-null   int64  \n",
      " 19  churn                   3333 non-null   int64  \n",
      " 20  state_AK                3333 non-null   uint8  \n",
      " 21  state_AL                3333 non-null   uint8  \n",
      " 22  state_AR                3333 non-null   uint8  \n",
      " 23  state_AZ                3333 non-null   uint8  \n",
      " 24  state_CA                3333 non-null   uint8  \n",
      " 25  state_CO                3333 non-null   uint8  \n",
      " 26  state_CT                3333 non-null   uint8  \n",
      " 27  state_DC                3333 non-null   uint8  \n",
      " 28  state_DE                3333 non-null   uint8  \n",
      " 29  state_FL                3333 non-null   uint8  \n",
      " 30  state_GA                3333 non-null   uint8  \n",
      " 31  state_HI                3333 non-null   uint8  \n",
      " 32  state_IA                3333 non-null   uint8  \n",
      " 33  state_ID                3333 non-null   uint8  \n",
      " 34  state_IL                3333 non-null   uint8  \n",
      " 35  state_IN                3333 non-null   uint8  \n",
      " 36  state_KS                3333 non-null   uint8  \n",
      " 37  state_KY                3333 non-null   uint8  \n",
      " 38  state_LA                3333 non-null   uint8  \n",
      " 39  state_MA                3333 non-null   uint8  \n",
      " 40  state_MD                3333 non-null   uint8  \n",
      " 41  state_ME                3333 non-null   uint8  \n",
      " 42  state_MI                3333 non-null   uint8  \n",
      " 43  state_MN                3333 non-null   uint8  \n",
      " 44  state_MO                3333 non-null   uint8  \n",
      " 45  state_MS                3333 non-null   uint8  \n",
      " 46  state_MT                3333 non-null   uint8  \n",
      " 47  state_NC                3333 non-null   uint8  \n",
      " 48  state_ND                3333 non-null   uint8  \n",
      " 49  state_NE                3333 non-null   uint8  \n",
      " 50  state_NH                3333 non-null   uint8  \n",
      " 51  state_NJ                3333 non-null   uint8  \n",
      " 52  state_NM                3333 non-null   uint8  \n",
      " 53  state_NV                3333 non-null   uint8  \n",
      " 54  state_NY                3333 non-null   uint8  \n",
      " 55  state_OH                3333 non-null   uint8  \n",
      " 56  state_OK                3333 non-null   uint8  \n",
      " 57  state_OR                3333 non-null   uint8  \n",
      " 58  state_PA                3333 non-null   uint8  \n",
      " 59  state_RI                3333 non-null   uint8  \n",
      " 60  state_SC                3333 non-null   uint8  \n",
      " 61  state_SD                3333 non-null   uint8  \n",
      " 62  state_TN                3333 non-null   uint8  \n",
      " 63  state_TX                3333 non-null   uint8  \n",
      " 64  state_UT                3333 non-null   uint8  \n",
      " 65  state_VA                3333 non-null   uint8  \n",
      " 66  state_VT                3333 non-null   uint8  \n",
      " 67  state_WA                3333 non-null   uint8  \n",
      " 68  state_WI                3333 non-null   uint8  \n",
      " 69  state_WV                3333 non-null   uint8  \n",
      " 70  state_WY                3333 non-null   uint8  \n",
      "dtypes: float64(8), int64(9), object(3), uint8(51)\n",
      "memory usage: 686.9+ KB\n"
     ]
    }
   ],
   "source": [
    "df.info()"
   ]
  },
  {
   "cell_type": "code",
   "execution_count": 20,
   "metadata": {},
   "outputs": [],
   "source": [
    "# importing label encoder\n",
    "from sklearn.preprocessing import LabelEncoder\n",
    "#label encoding categorical variables to binary\n",
    "# instantiate the label encoder\n",
    "label_encoder = LabelEncoder()\n",
    "# perform encoding\n",
    "df['international plan'] = label_encoder.fit_transform(df['international plan'])\n",
    "df['voice mail plan'] = label_encoder.fit_transform(df['voice mail plan'])\n",
    "df['international plan'] = df['international plan'].astype('int64')\n",
    "df['voice mail plan'] = df['voice mail plan'].astype('int64')"
   ]
  },
  {
   "cell_type": "code",
   "execution_count": 21,
   "metadata": {},
   "outputs": [
    {
     "name": "stdout",
     "output_type": "stream",
     "text": [
      "<class 'pandas.core.frame.DataFrame'>\n",
      "RangeIndex: 3333 entries, 0 to 3332\n",
      "Data columns (total 71 columns):\n",
      " #   Column                  Non-Null Count  Dtype  \n",
      "---  ------                  --------------  -----  \n",
      " 0   account length          3333 non-null   int64  \n",
      " 1   area code               3333 non-null   int64  \n",
      " 2   phone number            3333 non-null   object \n",
      " 3   international plan      3333 non-null   int64  \n",
      " 4   voice mail plan         3333 non-null   int64  \n",
      " 5   number vmail messages   3333 non-null   int64  \n",
      " 6   total day minutes       3333 non-null   float64\n",
      " 7   total day calls         3333 non-null   int64  \n",
      " 8   total day charge        3333 non-null   float64\n",
      " 9   total eve minutes       3333 non-null   float64\n",
      " 10  total eve calls         3333 non-null   int64  \n",
      " 11  total eve charge        3333 non-null   float64\n",
      " 12  total night minutes     3333 non-null   float64\n",
      " 13  total night calls       3333 non-null   int64  \n",
      " 14  total night charge      3333 non-null   float64\n",
      " 15  total intl minutes      3333 non-null   float64\n",
      " 16  total intl calls        3333 non-null   int64  \n",
      " 17  total intl charge       3333 non-null   float64\n",
      " 18  customer service calls  3333 non-null   int64  \n",
      " 19  churn                   3333 non-null   int64  \n",
      " 20  state_AK                3333 non-null   uint8  \n",
      " 21  state_AL                3333 non-null   uint8  \n",
      " 22  state_AR                3333 non-null   uint8  \n",
      " 23  state_AZ                3333 non-null   uint8  \n",
      " 24  state_CA                3333 non-null   uint8  \n",
      " 25  state_CO                3333 non-null   uint8  \n",
      " 26  state_CT                3333 non-null   uint8  \n",
      " 27  state_DC                3333 non-null   uint8  \n",
      " 28  state_DE                3333 non-null   uint8  \n",
      " 29  state_FL                3333 non-null   uint8  \n",
      " 30  state_GA                3333 non-null   uint8  \n",
      " 31  state_HI                3333 non-null   uint8  \n",
      " 32  state_IA                3333 non-null   uint8  \n",
      " 33  state_ID                3333 non-null   uint8  \n",
      " 34  state_IL                3333 non-null   uint8  \n",
      " 35  state_IN                3333 non-null   uint8  \n",
      " 36  state_KS                3333 non-null   uint8  \n",
      " 37  state_KY                3333 non-null   uint8  \n",
      " 38  state_LA                3333 non-null   uint8  \n",
      " 39  state_MA                3333 non-null   uint8  \n",
      " 40  state_MD                3333 non-null   uint8  \n",
      " 41  state_ME                3333 non-null   uint8  \n",
      " 42  state_MI                3333 non-null   uint8  \n",
      " 43  state_MN                3333 non-null   uint8  \n",
      " 44  state_MO                3333 non-null   uint8  \n",
      " 45  state_MS                3333 non-null   uint8  \n",
      " 46  state_MT                3333 non-null   uint8  \n",
      " 47  state_NC                3333 non-null   uint8  \n",
      " 48  state_ND                3333 non-null   uint8  \n",
      " 49  state_NE                3333 non-null   uint8  \n",
      " 50  state_NH                3333 non-null   uint8  \n",
      " 51  state_NJ                3333 non-null   uint8  \n",
      " 52  state_NM                3333 non-null   uint8  \n",
      " 53  state_NV                3333 non-null   uint8  \n",
      " 54  state_NY                3333 non-null   uint8  \n",
      " 55  state_OH                3333 non-null   uint8  \n",
      " 56  state_OK                3333 non-null   uint8  \n",
      " 57  state_OR                3333 non-null   uint8  \n",
      " 58  state_PA                3333 non-null   uint8  \n",
      " 59  state_RI                3333 non-null   uint8  \n",
      " 60  state_SC                3333 non-null   uint8  \n",
      " 61  state_SD                3333 non-null   uint8  \n",
      " 62  state_TN                3333 non-null   uint8  \n",
      " 63  state_TX                3333 non-null   uint8  \n",
      " 64  state_UT                3333 non-null   uint8  \n",
      " 65  state_VA                3333 non-null   uint8  \n",
      " 66  state_VT                3333 non-null   uint8  \n",
      " 67  state_WA                3333 non-null   uint8  \n",
      " 68  state_WI                3333 non-null   uint8  \n",
      " 69  state_WV                3333 non-null   uint8  \n",
      " 70  state_WY                3333 non-null   uint8  \n",
      "dtypes: float64(8), int64(11), object(1), uint8(51)\n",
      "memory usage: 686.9+ KB\n"
     ]
    }
   ],
   "source": [
    "df.info()"
   ]
  },
  {
   "cell_type": "markdown",
   "metadata": {},
   "source": [
    "Below, we will be dropping phone number column since we won't need it"
   ]
  },
  {
   "cell_type": "code",
   "execution_count": 22,
   "metadata": {},
   "outputs": [],
   "source": [
    "# dropping phone number column\n",
    "df.drop(['phone number'], axis=1, inplace=True)"
   ]
  },
  {
   "cell_type": "code",
   "execution_count": 23,
   "metadata": {},
   "outputs": [
    {
     "data": {
      "text/html": [
       "<div>\n",
       "<style scoped>\n",
       "    .dataframe tbody tr th:only-of-type {\n",
       "        vertical-align: middle;\n",
       "    }\n",
       "\n",
       "    .dataframe tbody tr th {\n",
       "        vertical-align: top;\n",
       "    }\n",
       "\n",
       "    .dataframe thead th {\n",
       "        text-align: right;\n",
       "    }\n",
       "</style>\n",
       "<table border=\"1\" class=\"dataframe\">\n",
       "  <thead>\n",
       "    <tr style=\"text-align: right;\">\n",
       "      <th></th>\n",
       "      <th>account length</th>\n",
       "      <th>area code</th>\n",
       "      <th>international plan</th>\n",
       "      <th>voice mail plan</th>\n",
       "      <th>number vmail messages</th>\n",
       "      <th>total day minutes</th>\n",
       "      <th>total day calls</th>\n",
       "      <th>total day charge</th>\n",
       "      <th>total eve minutes</th>\n",
       "      <th>total eve calls</th>\n",
       "      <th>...</th>\n",
       "      <th>state_SD</th>\n",
       "      <th>state_TN</th>\n",
       "      <th>state_TX</th>\n",
       "      <th>state_UT</th>\n",
       "      <th>state_VA</th>\n",
       "      <th>state_VT</th>\n",
       "      <th>state_WA</th>\n",
       "      <th>state_WI</th>\n",
       "      <th>state_WV</th>\n",
       "      <th>state_WY</th>\n",
       "    </tr>\n",
       "  </thead>\n",
       "  <tbody>\n",
       "    <tr>\n",
       "      <th>0</th>\n",
       "      <td>128</td>\n",
       "      <td>415</td>\n",
       "      <td>0</td>\n",
       "      <td>1</td>\n",
       "      <td>25</td>\n",
       "      <td>265.1</td>\n",
       "      <td>110</td>\n",
       "      <td>45.07</td>\n",
       "      <td>197.4</td>\n",
       "      <td>99</td>\n",
       "      <td>...</td>\n",
       "      <td>0</td>\n",
       "      <td>0</td>\n",
       "      <td>0</td>\n",
       "      <td>0</td>\n",
       "      <td>0</td>\n",
       "      <td>0</td>\n",
       "      <td>0</td>\n",
       "      <td>0</td>\n",
       "      <td>0</td>\n",
       "      <td>0</td>\n",
       "    </tr>\n",
       "    <tr>\n",
       "      <th>1</th>\n",
       "      <td>107</td>\n",
       "      <td>415</td>\n",
       "      <td>0</td>\n",
       "      <td>1</td>\n",
       "      <td>26</td>\n",
       "      <td>161.6</td>\n",
       "      <td>123</td>\n",
       "      <td>27.47</td>\n",
       "      <td>195.5</td>\n",
       "      <td>103</td>\n",
       "      <td>...</td>\n",
       "      <td>0</td>\n",
       "      <td>0</td>\n",
       "      <td>0</td>\n",
       "      <td>0</td>\n",
       "      <td>0</td>\n",
       "      <td>0</td>\n",
       "      <td>0</td>\n",
       "      <td>0</td>\n",
       "      <td>0</td>\n",
       "      <td>0</td>\n",
       "    </tr>\n",
       "    <tr>\n",
       "      <th>2</th>\n",
       "      <td>137</td>\n",
       "      <td>415</td>\n",
       "      <td>0</td>\n",
       "      <td>0</td>\n",
       "      <td>0</td>\n",
       "      <td>243.4</td>\n",
       "      <td>114</td>\n",
       "      <td>41.38</td>\n",
       "      <td>121.2</td>\n",
       "      <td>110</td>\n",
       "      <td>...</td>\n",
       "      <td>0</td>\n",
       "      <td>0</td>\n",
       "      <td>0</td>\n",
       "      <td>0</td>\n",
       "      <td>0</td>\n",
       "      <td>0</td>\n",
       "      <td>0</td>\n",
       "      <td>0</td>\n",
       "      <td>0</td>\n",
       "      <td>0</td>\n",
       "    </tr>\n",
       "    <tr>\n",
       "      <th>3</th>\n",
       "      <td>84</td>\n",
       "      <td>408</td>\n",
       "      <td>1</td>\n",
       "      <td>0</td>\n",
       "      <td>0</td>\n",
       "      <td>299.4</td>\n",
       "      <td>71</td>\n",
       "      <td>50.90</td>\n",
       "      <td>61.9</td>\n",
       "      <td>88</td>\n",
       "      <td>...</td>\n",
       "      <td>0</td>\n",
       "      <td>0</td>\n",
       "      <td>0</td>\n",
       "      <td>0</td>\n",
       "      <td>0</td>\n",
       "      <td>0</td>\n",
       "      <td>0</td>\n",
       "      <td>0</td>\n",
       "      <td>0</td>\n",
       "      <td>0</td>\n",
       "    </tr>\n",
       "    <tr>\n",
       "      <th>4</th>\n",
       "      <td>75</td>\n",
       "      <td>415</td>\n",
       "      <td>1</td>\n",
       "      <td>0</td>\n",
       "      <td>0</td>\n",
       "      <td>166.7</td>\n",
       "      <td>113</td>\n",
       "      <td>28.34</td>\n",
       "      <td>148.3</td>\n",
       "      <td>122</td>\n",
       "      <td>...</td>\n",
       "      <td>0</td>\n",
       "      <td>0</td>\n",
       "      <td>0</td>\n",
       "      <td>0</td>\n",
       "      <td>0</td>\n",
       "      <td>0</td>\n",
       "      <td>0</td>\n",
       "      <td>0</td>\n",
       "      <td>0</td>\n",
       "      <td>0</td>\n",
       "    </tr>\n",
       "  </tbody>\n",
       "</table>\n",
       "<p>5 rows × 70 columns</p>\n",
       "</div>"
      ],
      "text/plain": [
       "   account length  area code  international plan  voice mail plan  \\\n",
       "0             128        415                   0                1   \n",
       "1             107        415                   0                1   \n",
       "2             137        415                   0                0   \n",
       "3              84        408                   1                0   \n",
       "4              75        415                   1                0   \n",
       "\n",
       "   number vmail messages  total day minutes  total day calls  \\\n",
       "0                     25              265.1              110   \n",
       "1                     26              161.6              123   \n",
       "2                      0              243.4              114   \n",
       "3                      0              299.4               71   \n",
       "4                      0              166.7              113   \n",
       "\n",
       "   total day charge  total eve minutes  total eve calls  ...  state_SD  \\\n",
       "0             45.07              197.4               99  ...         0   \n",
       "1             27.47              195.5              103  ...         0   \n",
       "2             41.38              121.2              110  ...         0   \n",
       "3             50.90               61.9               88  ...         0   \n",
       "4             28.34              148.3              122  ...         0   \n",
       "\n",
       "   state_TN  state_TX  state_UT  state_VA  state_VT  state_WA  state_WI  \\\n",
       "0         0         0         0         0         0         0         0   \n",
       "1         0         0         0         0         0         0         0   \n",
       "2         0         0         0         0         0         0         0   \n",
       "3         0         0         0         0         0         0         0   \n",
       "4         0         0         0         0         0         0         0   \n",
       "\n",
       "   state_WV  state_WY  \n",
       "0         0         0  \n",
       "1         0         0  \n",
       "2         0         0  \n",
       "3         0         0  \n",
       "4         0         0  \n",
       "\n",
       "[5 rows x 70 columns]"
      ]
     },
     "execution_count": 23,
     "metadata": {},
     "output_type": "execute_result"
    }
   ],
   "source": [
    "df.head()"
   ]
  },
  {
   "cell_type": "code",
   "execution_count": 24,
   "metadata": {},
   "outputs": [
    {
     "data": {
      "text/plain": [
       "Index(['account length', 'area code', 'international plan', 'voice mail plan',\n",
       "       'number vmail messages', 'total day minutes', 'total day calls',\n",
       "       'total day charge', 'total eve minutes', 'total eve calls',\n",
       "       'total eve charge', 'total night minutes', 'total night calls',\n",
       "       'total night charge', 'total intl minutes', 'total intl calls',\n",
       "       'total intl charge', 'customer service calls', 'churn', 'state_AK',\n",
       "       'state_AL', 'state_AR', 'state_AZ', 'state_CA', 'state_CO', 'state_CT',\n",
       "       'state_DC', 'state_DE', 'state_FL', 'state_GA', 'state_HI', 'state_IA',\n",
       "       'state_ID', 'state_IL', 'state_IN', 'state_KS', 'state_KY', 'state_LA',\n",
       "       'state_MA', 'state_MD', 'state_ME', 'state_MI', 'state_MN', 'state_MO',\n",
       "       'state_MS', 'state_MT', 'state_NC', 'state_ND', 'state_NE', 'state_NH',\n",
       "       'state_NJ', 'state_NM', 'state_NV', 'state_NY', 'state_OH', 'state_OK',\n",
       "       'state_OR', 'state_PA', 'state_RI', 'state_SC', 'state_SD', 'state_TN',\n",
       "       'state_TX', 'state_UT', 'state_VA', 'state_VT', 'state_WA', 'state_WI',\n",
       "       'state_WV', 'state_WY'],\n",
       "      dtype='object')"
      ]
     },
     "execution_count": 24,
     "metadata": {},
     "output_type": "execute_result"
    }
   ],
   "source": [
    "# checking the columns again\n",
    "df.columns"
   ]
  },
  {
   "cell_type": "code",
   "execution_count": 25,
   "metadata": {},
   "outputs": [
    {
     "name": "stdout",
     "output_type": "stream",
     "text": [
      "<class 'pandas.core.frame.DataFrame'>\n",
      "RangeIndex: 3333 entries, 0 to 3332\n",
      "Data columns (total 70 columns):\n",
      " #   Column                  Non-Null Count  Dtype  \n",
      "---  ------                  --------------  -----  \n",
      " 0   account length          3333 non-null   int64  \n",
      " 1   area code               3333 non-null   int64  \n",
      " 2   international plan      3333 non-null   int64  \n",
      " 3   voice mail plan         3333 non-null   int64  \n",
      " 4   number vmail messages   3333 non-null   int64  \n",
      " 5   total day minutes       3333 non-null   float64\n",
      " 6   total day calls         3333 non-null   int64  \n",
      " 7   total day charge        3333 non-null   float64\n",
      " 8   total eve minutes       3333 non-null   float64\n",
      " 9   total eve calls         3333 non-null   int64  \n",
      " 10  total eve charge        3333 non-null   float64\n",
      " 11  total night minutes     3333 non-null   float64\n",
      " 12  total night calls       3333 non-null   int64  \n",
      " 13  total night charge      3333 non-null   float64\n",
      " 14  total intl minutes      3333 non-null   float64\n",
      " 15  total intl calls        3333 non-null   int64  \n",
      " 16  total intl charge       3333 non-null   float64\n",
      " 17  customer service calls  3333 non-null   int64  \n",
      " 18  churn                   3333 non-null   int64  \n",
      " 19  state_AK                3333 non-null   uint8  \n",
      " 20  state_AL                3333 non-null   uint8  \n",
      " 21  state_AR                3333 non-null   uint8  \n",
      " 22  state_AZ                3333 non-null   uint8  \n",
      " 23  state_CA                3333 non-null   uint8  \n",
      " 24  state_CO                3333 non-null   uint8  \n",
      " 25  state_CT                3333 non-null   uint8  \n",
      " 26  state_DC                3333 non-null   uint8  \n",
      " 27  state_DE                3333 non-null   uint8  \n",
      " 28  state_FL                3333 non-null   uint8  \n",
      " 29  state_GA                3333 non-null   uint8  \n",
      " 30  state_HI                3333 non-null   uint8  \n",
      " 31  state_IA                3333 non-null   uint8  \n",
      " 32  state_ID                3333 non-null   uint8  \n",
      " 33  state_IL                3333 non-null   uint8  \n",
      " 34  state_IN                3333 non-null   uint8  \n",
      " 35  state_KS                3333 non-null   uint8  \n",
      " 36  state_KY                3333 non-null   uint8  \n",
      " 37  state_LA                3333 non-null   uint8  \n",
      " 38  state_MA                3333 non-null   uint8  \n",
      " 39  state_MD                3333 non-null   uint8  \n",
      " 40  state_ME                3333 non-null   uint8  \n",
      " 41  state_MI                3333 non-null   uint8  \n",
      " 42  state_MN                3333 non-null   uint8  \n",
      " 43  state_MO                3333 non-null   uint8  \n",
      " 44  state_MS                3333 non-null   uint8  \n",
      " 45  state_MT                3333 non-null   uint8  \n",
      " 46  state_NC                3333 non-null   uint8  \n",
      " 47  state_ND                3333 non-null   uint8  \n",
      " 48  state_NE                3333 non-null   uint8  \n",
      " 49  state_NH                3333 non-null   uint8  \n",
      " 50  state_NJ                3333 non-null   uint8  \n",
      " 51  state_NM                3333 non-null   uint8  \n",
      " 52  state_NV                3333 non-null   uint8  \n",
      " 53  state_NY                3333 non-null   uint8  \n",
      " 54  state_OH                3333 non-null   uint8  \n",
      " 55  state_OK                3333 non-null   uint8  \n",
      " 56  state_OR                3333 non-null   uint8  \n",
      " 57  state_PA                3333 non-null   uint8  \n",
      " 58  state_RI                3333 non-null   uint8  \n",
      " 59  state_SC                3333 non-null   uint8  \n",
      " 60  state_SD                3333 non-null   uint8  \n",
      " 61  state_TN                3333 non-null   uint8  \n",
      " 62  state_TX                3333 non-null   uint8  \n",
      " 63  state_UT                3333 non-null   uint8  \n",
      " 64  state_VA                3333 non-null   uint8  \n",
      " 65  state_VT                3333 non-null   uint8  \n",
      " 66  state_WA                3333 non-null   uint8  \n",
      " 67  state_WI                3333 non-null   uint8  \n",
      " 68  state_WV                3333 non-null   uint8  \n",
      " 69  state_WY                3333 non-null   uint8  \n",
      "dtypes: float64(8), int64(11), uint8(51)\n",
      "memory usage: 660.9 KB\n"
     ]
    }
   ],
   "source": [
    "# checking the data types again\n",
    "df.info()"
   ]
  },
  {
   "cell_type": "markdown",
   "metadata": {},
   "source": [
    "## Feature Engineering"
   ]
  },
  {
   "cell_type": "code",
   "execution_count": 26,
   "metadata": {},
   "outputs": [
    {
     "data": {
      "text/html": [
       "<div>\n",
       "<style scoped>\n",
       "    .dataframe tbody tr th:only-of-type {\n",
       "        vertical-align: middle;\n",
       "    }\n",
       "\n",
       "    .dataframe tbody tr th {\n",
       "        vertical-align: top;\n",
       "    }\n",
       "\n",
       "    .dataframe thead th {\n",
       "        text-align: right;\n",
       "    }\n",
       "</style>\n",
       "<table border=\"1\" class=\"dataframe\">\n",
       "  <thead>\n",
       "    <tr style=\"text-align: right;\">\n",
       "      <th></th>\n",
       "      <th>account length</th>\n",
       "      <th>area code</th>\n",
       "      <th>international plan</th>\n",
       "      <th>voice mail plan</th>\n",
       "      <th>number vmail messages</th>\n",
       "      <th>total day minutes</th>\n",
       "      <th>total day calls</th>\n",
       "      <th>total day charge</th>\n",
       "      <th>total eve minutes</th>\n",
       "      <th>total eve calls</th>\n",
       "      <th>...</th>\n",
       "      <th>state_SD</th>\n",
       "      <th>state_TN</th>\n",
       "      <th>state_TX</th>\n",
       "      <th>state_UT</th>\n",
       "      <th>state_VA</th>\n",
       "      <th>state_VT</th>\n",
       "      <th>state_WA</th>\n",
       "      <th>state_WI</th>\n",
       "      <th>state_WV</th>\n",
       "      <th>state_WY</th>\n",
       "    </tr>\n",
       "  </thead>\n",
       "  <tbody>\n",
       "    <tr>\n",
       "      <th>0</th>\n",
       "      <td>128</td>\n",
       "      <td>415</td>\n",
       "      <td>0</td>\n",
       "      <td>1</td>\n",
       "      <td>25</td>\n",
       "      <td>265.1</td>\n",
       "      <td>110</td>\n",
       "      <td>45.07</td>\n",
       "      <td>197.4</td>\n",
       "      <td>99</td>\n",
       "      <td>...</td>\n",
       "      <td>0</td>\n",
       "      <td>0</td>\n",
       "      <td>0</td>\n",
       "      <td>0</td>\n",
       "      <td>0</td>\n",
       "      <td>0</td>\n",
       "      <td>0</td>\n",
       "      <td>0</td>\n",
       "      <td>0</td>\n",
       "      <td>0</td>\n",
       "    </tr>\n",
       "    <tr>\n",
       "      <th>1</th>\n",
       "      <td>107</td>\n",
       "      <td>415</td>\n",
       "      <td>0</td>\n",
       "      <td>1</td>\n",
       "      <td>26</td>\n",
       "      <td>161.6</td>\n",
       "      <td>123</td>\n",
       "      <td>27.47</td>\n",
       "      <td>195.5</td>\n",
       "      <td>103</td>\n",
       "      <td>...</td>\n",
       "      <td>0</td>\n",
       "      <td>0</td>\n",
       "      <td>0</td>\n",
       "      <td>0</td>\n",
       "      <td>0</td>\n",
       "      <td>0</td>\n",
       "      <td>0</td>\n",
       "      <td>0</td>\n",
       "      <td>0</td>\n",
       "      <td>0</td>\n",
       "    </tr>\n",
       "    <tr>\n",
       "      <th>2</th>\n",
       "      <td>137</td>\n",
       "      <td>415</td>\n",
       "      <td>0</td>\n",
       "      <td>0</td>\n",
       "      <td>0</td>\n",
       "      <td>243.4</td>\n",
       "      <td>114</td>\n",
       "      <td>41.38</td>\n",
       "      <td>121.2</td>\n",
       "      <td>110</td>\n",
       "      <td>...</td>\n",
       "      <td>0</td>\n",
       "      <td>0</td>\n",
       "      <td>0</td>\n",
       "      <td>0</td>\n",
       "      <td>0</td>\n",
       "      <td>0</td>\n",
       "      <td>0</td>\n",
       "      <td>0</td>\n",
       "      <td>0</td>\n",
       "      <td>0</td>\n",
       "    </tr>\n",
       "    <tr>\n",
       "      <th>3</th>\n",
       "      <td>84</td>\n",
       "      <td>408</td>\n",
       "      <td>1</td>\n",
       "      <td>0</td>\n",
       "      <td>0</td>\n",
       "      <td>299.4</td>\n",
       "      <td>71</td>\n",
       "      <td>50.90</td>\n",
       "      <td>61.9</td>\n",
       "      <td>88</td>\n",
       "      <td>...</td>\n",
       "      <td>0</td>\n",
       "      <td>0</td>\n",
       "      <td>0</td>\n",
       "      <td>0</td>\n",
       "      <td>0</td>\n",
       "      <td>0</td>\n",
       "      <td>0</td>\n",
       "      <td>0</td>\n",
       "      <td>0</td>\n",
       "      <td>0</td>\n",
       "    </tr>\n",
       "    <tr>\n",
       "      <th>4</th>\n",
       "      <td>75</td>\n",
       "      <td>415</td>\n",
       "      <td>1</td>\n",
       "      <td>0</td>\n",
       "      <td>0</td>\n",
       "      <td>166.7</td>\n",
       "      <td>113</td>\n",
       "      <td>28.34</td>\n",
       "      <td>148.3</td>\n",
       "      <td>122</td>\n",
       "      <td>...</td>\n",
       "      <td>0</td>\n",
       "      <td>0</td>\n",
       "      <td>0</td>\n",
       "      <td>0</td>\n",
       "      <td>0</td>\n",
       "      <td>0</td>\n",
       "      <td>0</td>\n",
       "      <td>0</td>\n",
       "      <td>0</td>\n",
       "      <td>0</td>\n",
       "    </tr>\n",
       "  </tbody>\n",
       "</table>\n",
       "<p>5 rows × 70 columns</p>\n",
       "</div>"
      ],
      "text/plain": [
       "   account length  area code  international plan  voice mail plan  \\\n",
       "0             128        415                   0                1   \n",
       "1             107        415                   0                1   \n",
       "2             137        415                   0                0   \n",
       "3              84        408                   1                0   \n",
       "4              75        415                   1                0   \n",
       "\n",
       "   number vmail messages  total day minutes  total day calls  \\\n",
       "0                     25              265.1              110   \n",
       "1                     26              161.6              123   \n",
       "2                      0              243.4              114   \n",
       "3                      0              299.4               71   \n",
       "4                      0              166.7              113   \n",
       "\n",
       "   total day charge  total eve minutes  total eve calls  ...  state_SD  \\\n",
       "0             45.07              197.4               99  ...         0   \n",
       "1             27.47              195.5              103  ...         0   \n",
       "2             41.38              121.2              110  ...         0   \n",
       "3             50.90               61.9               88  ...         0   \n",
       "4             28.34              148.3              122  ...         0   \n",
       "\n",
       "   state_TN  state_TX  state_UT  state_VA  state_VT  state_WA  state_WI  \\\n",
       "0         0         0         0         0         0         0         0   \n",
       "1         0         0         0         0         0         0         0   \n",
       "2         0         0         0         0         0         0         0   \n",
       "3         0         0         0         0         0         0         0   \n",
       "4         0         0         0         0         0         0         0   \n",
       "\n",
       "   state_WV  state_WY  \n",
       "0         0         0  \n",
       "1         0         0  \n",
       "2         0         0  \n",
       "3         0         0  \n",
       "4         0         0  \n",
       "\n",
       "[5 rows x 70 columns]"
      ]
     },
     "execution_count": 26,
     "metadata": {},
     "output_type": "execute_result"
    }
   ],
   "source": [
    "df.head()"
   ]
  },
  {
   "cell_type": "markdown",
   "metadata": {},
   "source": [
    "### Getting new features"
   ]
  },
  {
   "cell_type": "markdown",
   "metadata": {},
   "source": [
    "We will come up with columns with the features, for total call duration, avergerage charge per local and international calls, total charges and tenure years."
   ]
  },
  {
   "cell_type": "code",
   "execution_count": 27,
   "metadata": {},
   "outputs": [],
   "source": [
    "# Create new feature for total call duration \n",
    "df['total_call_duration'] = df['total day minutes'] + df['total eve minutes'] + df['total night minutes'] + df['total intl minutes']\n",
    "#getting average call charges for international \n",
    "# Calculate average charge per call for international calls\n",
    "df['average_charge_per_intl_call'] = df['total intl charge'] / df['total intl calls']\n",
    "#getting average call charges for local\n",
    "# Calculate average charge per call for local calls\n",
    "local_call_charges= ['total day charge', 'total eve charge', 'total night charge']\n",
    "total_local_call_charges= df[local_call_charges].sum(axis=1)\n",
    "total_local_calls = df[['total day calls', 'total eve calls', 'total night calls']].sum(axis=1)\n",
    "df['average_charge_per_local_call'] = total_local_call_charges / total_local_calls\n",
    "\n",
    "# Calculate total charges\n",
    "df['total_charges'] = (df['total day charge'] + df['total eve charge'] +\n",
    "                       df['total night charge'] + df['total intl charge'])\n",
    "\n",
    "# Convert account length to tenure in years\n",
    "df['tenure_years'] = df['account length'] / 12\n",
    "\n"
   ]
  },
  {
   "cell_type": "code",
   "execution_count": 28,
   "metadata": {},
   "outputs": [
    {
     "data": {
      "text/html": [
       "<div>\n",
       "<style scoped>\n",
       "    .dataframe tbody tr th:only-of-type {\n",
       "        vertical-align: middle;\n",
       "    }\n",
       "\n",
       "    .dataframe tbody tr th {\n",
       "        vertical-align: top;\n",
       "    }\n",
       "\n",
       "    .dataframe thead th {\n",
       "        text-align: right;\n",
       "    }\n",
       "</style>\n",
       "<table border=\"1\" class=\"dataframe\">\n",
       "  <thead>\n",
       "    <tr style=\"text-align: right;\">\n",
       "      <th></th>\n",
       "      <th>account length</th>\n",
       "      <th>area code</th>\n",
       "      <th>international plan</th>\n",
       "      <th>voice mail plan</th>\n",
       "      <th>number vmail messages</th>\n",
       "      <th>total day minutes</th>\n",
       "      <th>total day calls</th>\n",
       "      <th>total day charge</th>\n",
       "      <th>total eve minutes</th>\n",
       "      <th>total eve calls</th>\n",
       "      <th>...</th>\n",
       "      <th>state_VT</th>\n",
       "      <th>state_WA</th>\n",
       "      <th>state_WI</th>\n",
       "      <th>state_WV</th>\n",
       "      <th>state_WY</th>\n",
       "      <th>total_call_duration</th>\n",
       "      <th>average_charge_per_intl_call</th>\n",
       "      <th>average_charge_per_local_call</th>\n",
       "      <th>total_charges</th>\n",
       "      <th>tenure_years</th>\n",
       "    </tr>\n",
       "  </thead>\n",
       "  <tbody>\n",
       "    <tr>\n",
       "      <th>0</th>\n",
       "      <td>128</td>\n",
       "      <td>415</td>\n",
       "      <td>0</td>\n",
       "      <td>1</td>\n",
       "      <td>25</td>\n",
       "      <td>265.1</td>\n",
       "      <td>110</td>\n",
       "      <td>45.07</td>\n",
       "      <td>197.4</td>\n",
       "      <td>99</td>\n",
       "      <td>...</td>\n",
       "      <td>0</td>\n",
       "      <td>0</td>\n",
       "      <td>0</td>\n",
       "      <td>0</td>\n",
       "      <td>0</td>\n",
       "      <td>717.2</td>\n",
       "      <td>0.900000</td>\n",
       "      <td>0.242867</td>\n",
       "      <td>75.56</td>\n",
       "      <td>10.666667</td>\n",
       "    </tr>\n",
       "    <tr>\n",
       "      <th>1</th>\n",
       "      <td>107</td>\n",
       "      <td>415</td>\n",
       "      <td>0</td>\n",
       "      <td>1</td>\n",
       "      <td>26</td>\n",
       "      <td>161.6</td>\n",
       "      <td>123</td>\n",
       "      <td>27.47</td>\n",
       "      <td>195.5</td>\n",
       "      <td>103</td>\n",
       "      <td>...</td>\n",
       "      <td>0</td>\n",
       "      <td>0</td>\n",
       "      <td>0</td>\n",
       "      <td>0</td>\n",
       "      <td>0</td>\n",
       "      <td>625.2</td>\n",
       "      <td>1.233333</td>\n",
       "      <td>0.168815</td>\n",
       "      <td>59.24</td>\n",
       "      <td>8.916667</td>\n",
       "    </tr>\n",
       "    <tr>\n",
       "      <th>2</th>\n",
       "      <td>137</td>\n",
       "      <td>415</td>\n",
       "      <td>0</td>\n",
       "      <td>0</td>\n",
       "      <td>0</td>\n",
       "      <td>243.4</td>\n",
       "      <td>114</td>\n",
       "      <td>41.38</td>\n",
       "      <td>121.2</td>\n",
       "      <td>110</td>\n",
       "      <td>...</td>\n",
       "      <td>0</td>\n",
       "      <td>0</td>\n",
       "      <td>0</td>\n",
       "      <td>0</td>\n",
       "      <td>0</td>\n",
       "      <td>539.4</td>\n",
       "      <td>0.658000</td>\n",
       "      <td>0.179878</td>\n",
       "      <td>62.29</td>\n",
       "      <td>11.416667</td>\n",
       "    </tr>\n",
       "    <tr>\n",
       "      <th>3</th>\n",
       "      <td>84</td>\n",
       "      <td>408</td>\n",
       "      <td>1</td>\n",
       "      <td>0</td>\n",
       "      <td>0</td>\n",
       "      <td>299.4</td>\n",
       "      <td>71</td>\n",
       "      <td>50.90</td>\n",
       "      <td>61.9</td>\n",
       "      <td>88</td>\n",
       "      <td>...</td>\n",
       "      <td>0</td>\n",
       "      <td>0</td>\n",
       "      <td>0</td>\n",
       "      <td>0</td>\n",
       "      <td>0</td>\n",
       "      <td>564.8</td>\n",
       "      <td>0.254286</td>\n",
       "      <td>0.262177</td>\n",
       "      <td>66.80</td>\n",
       "      <td>7.000000</td>\n",
       "    </tr>\n",
       "    <tr>\n",
       "      <th>4</th>\n",
       "      <td>75</td>\n",
       "      <td>415</td>\n",
       "      <td>1</td>\n",
       "      <td>0</td>\n",
       "      <td>0</td>\n",
       "      <td>166.7</td>\n",
       "      <td>113</td>\n",
       "      <td>28.34</td>\n",
       "      <td>148.3</td>\n",
       "      <td>122</td>\n",
       "      <td>...</td>\n",
       "      <td>0</td>\n",
       "      <td>0</td>\n",
       "      <td>0</td>\n",
       "      <td>0</td>\n",
       "      <td>0</td>\n",
       "      <td>512.0</td>\n",
       "      <td>0.910000</td>\n",
       "      <td>0.138652</td>\n",
       "      <td>52.09</td>\n",
       "      <td>6.250000</td>\n",
       "    </tr>\n",
       "  </tbody>\n",
       "</table>\n",
       "<p>5 rows × 75 columns</p>\n",
       "</div>"
      ],
      "text/plain": [
       "   account length  area code  international plan  voice mail plan  \\\n",
       "0             128        415                   0                1   \n",
       "1             107        415                   0                1   \n",
       "2             137        415                   0                0   \n",
       "3              84        408                   1                0   \n",
       "4              75        415                   1                0   \n",
       "\n",
       "   number vmail messages  total day minutes  total day calls  \\\n",
       "0                     25              265.1              110   \n",
       "1                     26              161.6              123   \n",
       "2                      0              243.4              114   \n",
       "3                      0              299.4               71   \n",
       "4                      0              166.7              113   \n",
       "\n",
       "   total day charge  total eve minutes  total eve calls  ...  state_VT  \\\n",
       "0             45.07              197.4               99  ...         0   \n",
       "1             27.47              195.5              103  ...         0   \n",
       "2             41.38              121.2              110  ...         0   \n",
       "3             50.90               61.9               88  ...         0   \n",
       "4             28.34              148.3              122  ...         0   \n",
       "\n",
       "   state_WA  state_WI  state_WV  state_WY  total_call_duration  \\\n",
       "0         0         0         0         0                717.2   \n",
       "1         0         0         0         0                625.2   \n",
       "2         0         0         0         0                539.4   \n",
       "3         0         0         0         0                564.8   \n",
       "4         0         0         0         0                512.0   \n",
       "\n",
       "   average_charge_per_intl_call  average_charge_per_local_call  total_charges  \\\n",
       "0                      0.900000                       0.242867          75.56   \n",
       "1                      1.233333                       0.168815          59.24   \n",
       "2                      0.658000                       0.179878          62.29   \n",
       "3                      0.254286                       0.262177          66.80   \n",
       "4                      0.910000                       0.138652          52.09   \n",
       "\n",
       "   tenure_years  \n",
       "0     10.666667  \n",
       "1      8.916667  \n",
       "2     11.416667  \n",
       "3      7.000000  \n",
       "4      6.250000  \n",
       "\n",
       "[5 rows x 75 columns]"
      ]
     },
     "execution_count": 28,
     "metadata": {},
     "output_type": "execute_result"
    }
   ],
   "source": [
    "#checking our updated data frame\n",
    "df.head()"
   ]
  },
  {
   "cell_type": "code",
   "execution_count": 29,
   "metadata": {},
   "outputs": [
    {
     "name": "stdout",
     "output_type": "stream",
     "text": [
      "<class 'pandas.core.frame.DataFrame'>\n",
      "RangeIndex: 3333 entries, 0 to 3332\n",
      "Data columns (total 75 columns):\n",
      " #   Column                         Non-Null Count  Dtype  \n",
      "---  ------                         --------------  -----  \n",
      " 0   account length                 3333 non-null   int64  \n",
      " 1   area code                      3333 non-null   int64  \n",
      " 2   international plan             3333 non-null   int64  \n",
      " 3   voice mail plan                3333 non-null   int64  \n",
      " 4   number vmail messages          3333 non-null   int64  \n",
      " 5   total day minutes              3333 non-null   float64\n",
      " 6   total day calls                3333 non-null   int64  \n",
      " 7   total day charge               3333 non-null   float64\n",
      " 8   total eve minutes              3333 non-null   float64\n",
      " 9   total eve calls                3333 non-null   int64  \n",
      " 10  total eve charge               3333 non-null   float64\n",
      " 11  total night minutes            3333 non-null   float64\n",
      " 12  total night calls              3333 non-null   int64  \n",
      " 13  total night charge             3333 non-null   float64\n",
      " 14  total intl minutes             3333 non-null   float64\n",
      " 15  total intl calls               3333 non-null   int64  \n",
      " 16  total intl charge              3333 non-null   float64\n",
      " 17  customer service calls         3333 non-null   int64  \n",
      " 18  churn                          3333 non-null   int64  \n",
      " 19  state_AK                       3333 non-null   uint8  \n",
      " 20  state_AL                       3333 non-null   uint8  \n",
      " 21  state_AR                       3333 non-null   uint8  \n",
      " 22  state_AZ                       3333 non-null   uint8  \n",
      " 23  state_CA                       3333 non-null   uint8  \n",
      " 24  state_CO                       3333 non-null   uint8  \n",
      " 25  state_CT                       3333 non-null   uint8  \n",
      " 26  state_DC                       3333 non-null   uint8  \n",
      " 27  state_DE                       3333 non-null   uint8  \n",
      " 28  state_FL                       3333 non-null   uint8  \n",
      " 29  state_GA                       3333 non-null   uint8  \n",
      " 30  state_HI                       3333 non-null   uint8  \n",
      " 31  state_IA                       3333 non-null   uint8  \n",
      " 32  state_ID                       3333 non-null   uint8  \n",
      " 33  state_IL                       3333 non-null   uint8  \n",
      " 34  state_IN                       3333 non-null   uint8  \n",
      " 35  state_KS                       3333 non-null   uint8  \n",
      " 36  state_KY                       3333 non-null   uint8  \n",
      " 37  state_LA                       3333 non-null   uint8  \n",
      " 38  state_MA                       3333 non-null   uint8  \n",
      " 39  state_MD                       3333 non-null   uint8  \n",
      " 40  state_ME                       3333 non-null   uint8  \n",
      " 41  state_MI                       3333 non-null   uint8  \n",
      " 42  state_MN                       3333 non-null   uint8  \n",
      " 43  state_MO                       3333 non-null   uint8  \n",
      " 44  state_MS                       3333 non-null   uint8  \n",
      " 45  state_MT                       3333 non-null   uint8  \n",
      " 46  state_NC                       3333 non-null   uint8  \n",
      " 47  state_ND                       3333 non-null   uint8  \n",
      " 48  state_NE                       3333 non-null   uint8  \n",
      " 49  state_NH                       3333 non-null   uint8  \n",
      " 50  state_NJ                       3333 non-null   uint8  \n",
      " 51  state_NM                       3333 non-null   uint8  \n",
      " 52  state_NV                       3333 non-null   uint8  \n",
      " 53  state_NY                       3333 non-null   uint8  \n",
      " 54  state_OH                       3333 non-null   uint8  \n",
      " 55  state_OK                       3333 non-null   uint8  \n",
      " 56  state_OR                       3333 non-null   uint8  \n",
      " 57  state_PA                       3333 non-null   uint8  \n",
      " 58  state_RI                       3333 non-null   uint8  \n",
      " 59  state_SC                       3333 non-null   uint8  \n",
      " 60  state_SD                       3333 non-null   uint8  \n",
      " 61  state_TN                       3333 non-null   uint8  \n",
      " 62  state_TX                       3333 non-null   uint8  \n",
      " 63  state_UT                       3333 non-null   uint8  \n",
      " 64  state_VA                       3333 non-null   uint8  \n",
      " 65  state_VT                       3333 non-null   uint8  \n",
      " 66  state_WA                       3333 non-null   uint8  \n",
      " 67  state_WI                       3333 non-null   uint8  \n",
      " 68  state_WV                       3333 non-null   uint8  \n",
      " 69  state_WY                       3333 non-null   uint8  \n",
      " 70  total_call_duration            3333 non-null   float64\n",
      " 71  average_charge_per_intl_call   3315 non-null   float64\n",
      " 72  average_charge_per_local_call  3333 non-null   float64\n",
      " 73  total_charges                  3333 non-null   float64\n",
      " 74  tenure_years                   3333 non-null   float64\n",
      "dtypes: float64(13), int64(11), uint8(51)\n",
      "memory usage: 791.1 KB\n"
     ]
    }
   ],
   "source": [
    "df.info()"
   ]
  },
  {
   "cell_type": "markdown",
   "metadata": {},
   "source": [
    "# Logistic Regression Modelling."
   ]
  },
  {
   "cell_type": "code",
   "execution_count": 30,
   "metadata": {},
   "outputs": [],
   "source": [
    "#import relevant libraries\n",
    "from sklearn.model_selection import train_test_split\n",
    "from sklearn.linear_model import LogisticRegression\n",
    "from sklearn.metrics import accuracy_score, precision_score, recall_score, f1_score\n",
    "from sklearn.model_selection import GridSearchCV"
   ]
  },
  {
   "cell_type": "markdown",
   "metadata": {},
   "source": [
    "## Logistic Regression without Hyperparameter Tuning:"
   ]
  },
  {
   "cell_type": "code",
   "execution_count": 31,
   "metadata": {},
   "outputs": [
    {
     "name": "stdout",
     "output_type": "stream",
     "text": [
      "account length                    0\n",
      "area code                         0\n",
      "international plan                0\n",
      "voice mail plan                   0\n",
      "number vmail messages             0\n",
      "                                 ..\n",
      "total_call_duration               0\n",
      "average_charge_per_intl_call     18\n",
      "average_charge_per_local_call     0\n",
      "total_charges                     0\n",
      "tenure_years                      0\n",
      "Length: 75, dtype: int64\n"
     ]
    }
   ],
   "source": [
    "#Checking for missing values before perfoming Logistic Regression.\n",
    "print(df.isnull().sum())"
   ]
  },
  {
   "cell_type": "code",
   "execution_count": 32,
   "metadata": {},
   "outputs": [],
   "source": [
    "# Impute missing values in 'average_charge_per_intl_call' column with mean\n",
    "imputer = SimpleImputer(strategy='mean')\n",
    "df['average_charge_per_intl_call'] = imputer.fit_transform(df[['average_charge_per_intl_call']])\n"
   ]
  },
  {
   "cell_type": "code",
   "execution_count": 33,
   "metadata": {},
   "outputs": [],
   "source": [
    "# Define the features and target variable\n",
    "X = df.drop(['churn'], axis=1)\n",
    "y = df['churn']\n"
   ]
  },
  {
   "cell_type": "code",
   "execution_count": 34,
   "metadata": {},
   "outputs": [],
   "source": [
    "# Split the dataset into training and testing sets\n",
    "X_train, X_test, y_train, y_test = train_test_split(X, y, test_size=0.2, random_state=42)"
   ]
  },
  {
   "cell_type": "code",
   "execution_count": 35,
   "metadata": {},
   "outputs": [
    {
     "data": {
      "text/html": [
       "<style>#sk-container-id-1 {color: black;}#sk-container-id-1 pre{padding: 0;}#sk-container-id-1 div.sk-toggleable {background-color: white;}#sk-container-id-1 label.sk-toggleable__label {cursor: pointer;display: block;width: 100%;margin-bottom: 0;padding: 0.3em;box-sizing: border-box;text-align: center;}#sk-container-id-1 label.sk-toggleable__label-arrow:before {content: \"▸\";float: left;margin-right: 0.25em;color: #696969;}#sk-container-id-1 label.sk-toggleable__label-arrow:hover:before {color: black;}#sk-container-id-1 div.sk-estimator:hover label.sk-toggleable__label-arrow:before {color: black;}#sk-container-id-1 div.sk-toggleable__content {max-height: 0;max-width: 0;overflow: hidden;text-align: left;background-color: #f0f8ff;}#sk-container-id-1 div.sk-toggleable__content pre {margin: 0.2em;color: black;border-radius: 0.25em;background-color: #f0f8ff;}#sk-container-id-1 input.sk-toggleable__control:checked~div.sk-toggleable__content {max-height: 200px;max-width: 100%;overflow: auto;}#sk-container-id-1 input.sk-toggleable__control:checked~label.sk-toggleable__label-arrow:before {content: \"▾\";}#sk-container-id-1 div.sk-estimator input.sk-toggleable__control:checked~label.sk-toggleable__label {background-color: #d4ebff;}#sk-container-id-1 div.sk-label input.sk-toggleable__control:checked~label.sk-toggleable__label {background-color: #d4ebff;}#sk-container-id-1 input.sk-hidden--visually {border: 0;clip: rect(1px 1px 1px 1px);clip: rect(1px, 1px, 1px, 1px);height: 1px;margin: -1px;overflow: hidden;padding: 0;position: absolute;width: 1px;}#sk-container-id-1 div.sk-estimator {font-family: monospace;background-color: #f0f8ff;border: 1px dotted black;border-radius: 0.25em;box-sizing: border-box;margin-bottom: 0.5em;}#sk-container-id-1 div.sk-estimator:hover {background-color: #d4ebff;}#sk-container-id-1 div.sk-parallel-item::after {content: \"\";width: 100%;border-bottom: 1px solid gray;flex-grow: 1;}#sk-container-id-1 div.sk-label:hover label.sk-toggleable__label {background-color: #d4ebff;}#sk-container-id-1 div.sk-serial::before {content: \"\";position: absolute;border-left: 1px solid gray;box-sizing: border-box;top: 0;bottom: 0;left: 50%;z-index: 0;}#sk-container-id-1 div.sk-serial {display: flex;flex-direction: column;align-items: center;background-color: white;padding-right: 0.2em;padding-left: 0.2em;position: relative;}#sk-container-id-1 div.sk-item {position: relative;z-index: 1;}#sk-container-id-1 div.sk-parallel {display: flex;align-items: stretch;justify-content: center;background-color: white;position: relative;}#sk-container-id-1 div.sk-item::before, #sk-container-id-1 div.sk-parallel-item::before {content: \"\";position: absolute;border-left: 1px solid gray;box-sizing: border-box;top: 0;bottom: 0;left: 50%;z-index: -1;}#sk-container-id-1 div.sk-parallel-item {display: flex;flex-direction: column;z-index: 1;position: relative;background-color: white;}#sk-container-id-1 div.sk-parallel-item:first-child::after {align-self: flex-end;width: 50%;}#sk-container-id-1 div.sk-parallel-item:last-child::after {align-self: flex-start;width: 50%;}#sk-container-id-1 div.sk-parallel-item:only-child::after {width: 0;}#sk-container-id-1 div.sk-dashed-wrapped {border: 1px dashed gray;margin: 0 0.4em 0.5em 0.4em;box-sizing: border-box;padding-bottom: 0.4em;background-color: white;}#sk-container-id-1 div.sk-label label {font-family: monospace;font-weight: bold;display: inline-block;line-height: 1.2em;}#sk-container-id-1 div.sk-label-container {text-align: center;}#sk-container-id-1 div.sk-container {/* jupyter's `normalize.less` sets `[hidden] { display: none; }` but bootstrap.min.css set `[hidden] { display: none !important; }` so we also need the `!important` here to be able to override the default hidden behavior on the sphinx rendered scikit-learn.org. See: https://github.com/scikit-learn/scikit-learn/issues/21755 */display: inline-block !important;position: relative;}#sk-container-id-1 div.sk-text-repr-fallback {display: none;}</style><div id=\"sk-container-id-1\" class=\"sk-top-container\"><div class=\"sk-text-repr-fallback\"><pre>Pipeline(steps=[(&#x27;standardscaler&#x27;, StandardScaler()),\n",
       "                (&#x27;logisticregression&#x27;,\n",
       "                 LogisticRegression(max_iter=1000, random_state=42))])</pre><b>In a Jupyter environment, please rerun this cell to show the HTML representation or trust the notebook. <br />On GitHub, the HTML representation is unable to render, please try loading this page with nbviewer.org.</b></div><div class=\"sk-container\" hidden><div class=\"sk-item sk-dashed-wrapped\"><div class=\"sk-label-container\"><div class=\"sk-label sk-toggleable\"><input class=\"sk-toggleable__control sk-hidden--visually\" id=\"sk-estimator-id-1\" type=\"checkbox\" ><label for=\"sk-estimator-id-1\" class=\"sk-toggleable__label sk-toggleable__label-arrow\">Pipeline</label><div class=\"sk-toggleable__content\"><pre>Pipeline(steps=[(&#x27;standardscaler&#x27;, StandardScaler()),\n",
       "                (&#x27;logisticregression&#x27;,\n",
       "                 LogisticRegression(max_iter=1000, random_state=42))])</pre></div></div></div><div class=\"sk-serial\"><div class=\"sk-item\"><div class=\"sk-estimator sk-toggleable\"><input class=\"sk-toggleable__control sk-hidden--visually\" id=\"sk-estimator-id-2\" type=\"checkbox\" ><label for=\"sk-estimator-id-2\" class=\"sk-toggleable__label sk-toggleable__label-arrow\">StandardScaler</label><div class=\"sk-toggleable__content\"><pre>StandardScaler()</pre></div></div></div><div class=\"sk-item\"><div class=\"sk-estimator sk-toggleable\"><input class=\"sk-toggleable__control sk-hidden--visually\" id=\"sk-estimator-id-3\" type=\"checkbox\" ><label for=\"sk-estimator-id-3\" class=\"sk-toggleable__label sk-toggleable__label-arrow\">LogisticRegression</label><div class=\"sk-toggleable__content\"><pre>LogisticRegression(max_iter=1000, random_state=42)</pre></div></div></div></div></div></div></div>"
      ],
      "text/plain": [
       "Pipeline(steps=[('standardscaler', StandardScaler()),\n",
       "                ('logisticregression',\n",
       "                 LogisticRegression(max_iter=1000, random_state=42))])"
      ]
     },
     "execution_count": 35,
     "metadata": {},
     "output_type": "execute_result"
    }
   ],
   "source": [
    "from sklearn.preprocessing import StandardScaler\n",
    "from sklearn.pipeline import make_pipeline\n",
    "\n",
    "# Create a pipeline with StandardScaler and LogisticRegression\n",
    "pipeline = make_pipeline(StandardScaler(), LogisticRegression(max_iter=1000, random_state=42))\n",
    "\n",
    "# Fit the model\n",
    "pipeline.fit(X_train, y_train)"
   ]
  },
  {
   "cell_type": "code",
   "execution_count": 36,
   "metadata": {},
   "outputs": [],
   "source": [
    "# Predictions on the testing set\n",
    "y_pred = pipeline.predict(X_test)"
   ]
  },
  {
   "cell_type": "code",
   "execution_count": 37,
   "metadata": {},
   "outputs": [],
   "source": [
    "# Evaluate model performance\n",
    "accuracy = accuracy_score(y_test, y_pred)\n",
    "precision = precision_score(y_test, y_pred)\n",
    "recall = recall_score(y_test, y_pred)\n",
    "f1 = f1_score(y_test, y_pred)"
   ]
  },
  {
   "cell_type": "markdown",
   "metadata": {},
   "source": [
    "## Confusion Matrix "
   ]
  },
  {
   "cell_type": "code",
   "execution_count": 38,
   "metadata": {},
   "outputs": [
    {
     "data": {
      "image/png": "[encoded data removed]",
      "text/plain": [
       "<Figure size 640x480 with 1 Axes>"
      ]
     },
     "metadata": {},
     "output_type": "display_data"
    }
   ],
   "source": [
    "from sklearn.metrics import confusion_matrix\n",
    "import seaborn as sns\n",
    "import matplotlib.pyplot as plt\n",
    "\n",
    "# Calculate confusion matrix\n",
    "cm = confusion_matrix(y_test, y_pred)\n",
    "\n",
    "# Plot confusion matrix\n",
    "sns.heatmap(cm, annot=True, cmap='Blues', fmt='g', cbar=False)\n",
    "plt.xlabel('Predicted')\n",
    "plt.ylabel('Actual')\n",
    "plt.title('Confusion Matrix')\n",
    "plt.show()"
   ]
  },
  {
   "cell_type": "markdown",
   "metadata": {},
   "source": [
    "## ROC Curve "
   ]
  },
  {
   "cell_type": "code",
   "execution_count": 39,
   "metadata": {},
   "outputs": [
    {
     "data": {
      "image/png": "[encoded data removed]",
      "text/plain": [
       "<Figure size 640x480 with 1 Axes>"
      ]
     },
     "metadata": {},
     "output_type": "display_data"
    }
   ],
   "source": [
    "from sklearn.metrics import roc_curve, auc\n",
    "\n",
    "# Calculate probabilities for class 1\n",
    "y_probs = pipeline.predict_proba(X_test)[:, 1]\n",
    "\n",
    "# Calculate ROC curve\n",
    "fpr, tpr, thresholds = roc_curve(y_test, y_probs)\n",
    "\n",
    "# Calculate AUC\n",
    "roc_auc = auc(fpr, tpr)\n",
    "\n",
    "# Plot ROC curve\n",
    "plt.plot(fpr, tpr, color='blue', lw=2, label='ROC curve (area = %0.2f)' % roc_auc)\n",
    "plt.plot([0, 1], [0, 1], color='red', linestyle='--')\n",
    "plt.xlim([0.0, 1.0])\n",
    "plt.ylim([0.0, 1.05])\n",
    "plt.xlabel('False Positive Rate')\n",
    "plt.ylabel('True Positive Rate')\n",
    "plt.title('ROC Curve')\n",
    "plt.legend(loc='lower right')\n",
    "plt.show()"
   ]
  },
  {
   "cell_type": "markdown",
   "metadata": {},
   "source": [
    "## Precision-Recall Curve"
   ]
  },
  {
   "cell_type": "code",
   "execution_count": 40,
   "metadata": {},
   "outputs": [
    {
     "data": {
      "image/png": "[encoded data removed]",
      "text/plain": [
       "<Figure size 640x480 with 1 Axes>"
      ]
     },
     "metadata": {},
     "output_type": "display_data"
    }
   ],
   "source": [
    "from sklearn.metrics import precision_recall_curve\n",
    "\n",
    "# Calculate precision-recall curve\n",
    "precision, recall, _ = precision_recall_curve(y_test, y_probs)\n",
    "\n",
    "# Plot precision-recall curve\n",
    "plt.plot(recall, precision, color='blue', lw=2, label='Precision-Recall curve')\n",
    "plt.xlabel('Recall')\n",
    "plt.ylabel('Precision')\n",
    "plt.title('Precision-Recall Curve')\n",
    "plt.legend(loc='lower left')\n",
    "plt.show()"
   ]
  },
  {
   "cell_type": "code",
   "execution_count": 41,
   "metadata": {},
   "outputs": [
    {
     "name": "stdout",
     "output_type": "stream",
     "text": [
      "Accuracy: 0.8575712143928036\n",
      "Precision: [0.15142429 0.15165165 0.1518797  0.15210843 0.15082956 0.1510574\n",
      " 0.15128593 0.15151515 0.15174507 0.15197568 0.152207   0.15243902\n",
      " 0.15267176 0.1529052  0.15313936 0.15337423 0.15360983 0.15384615\n",
      " 0.1540832  0.15432099 0.15455951 0.15479876 0.15503876 0.1552795\n",
      " 0.155521   0.15576324 0.15600624 0.15625    0.15649452 0.15673981\n",
      " 0.15698587 0.1572327  0.15748031 0.15772871 0.15797788 0.15822785\n",
      " 0.15847861 0.15873016 0.15898251 0.15923567 0.15948963 0.15974441\n",
      " 0.16       0.16025641 0.16051364 0.1607717  0.1610306  0.16129032\n",
      " 0.16155089 0.1618123  0.16207455 0.16233766 0.16260163 0.16286645\n",
      " 0.16150082 0.16176471 0.16202946 0.16229508 0.16256158 0.16282895\n",
      " 0.1630972  0.16336634 0.16363636 0.16390728 0.1641791  0.16445183\n",
      " 0.16472546 0.165      0.16527546 0.16555184 0.16582915 0.16610738\n",
      " 0.16638655 0.16498316 0.16526138 0.16554054 0.16582064 0.16610169\n",
      " 0.1663837  0.16666667 0.1669506  0.16723549 0.16752137 0.16780822\n",
      " 0.16809605 0.16838488 0.1686747  0.16896552 0.16925734 0.16955017\n",
      " 0.16984402 0.17013889 0.17043478 0.17073171 0.17102967 0.17132867\n",
      " 0.17162872 0.17192982 0.17223199 0.17253521 0.17283951 0.17314488\n",
      " 0.17345133 0.17375887 0.1740675  0.17437722 0.17290553 0.17321429\n",
      " 0.17352415 0.17383513 0.17414722 0.17446043 0.17477477 0.17509025\n",
      " 0.17540687 0.17572464 0.17604356 0.17636364 0.17668488 0.1770073\n",
      " 0.1773309  0.17765568 0.17798165 0.17830882 0.1786372  0.17896679\n",
      " 0.1792976  0.17962963 0.17996289 0.1802974  0.18063315 0.18097015\n",
      " 0.18130841 0.18164794 0.18198874 0.18233083 0.1826742  0.18301887\n",
      " 0.18336484 0.18371212 0.18406072 0.18441065 0.1847619  0.1851145\n",
      " 0.18546845 0.18582375 0.18618042 0.18653846 0.18689788 0.18725869\n",
      " 0.18762089 0.1879845  0.18834951 0.18871595 0.18908382 0.18945312\n",
      " 0.18982387 0.19019608 0.19056974 0.19094488 0.1913215  0.18972332\n",
      " 0.19009901 0.19047619 0.19085487 0.19123506 0.19161677 0.192\n",
      " 0.19238477 0.19277108 0.19114688 0.18951613 0.18989899 0.1902834\n",
      " 0.19066937 0.19105691 0.19144603 0.19183673 0.19222904 0.19262295\n",
      " 0.19301848 0.19341564 0.19381443 0.19421488 0.19461698 0.19502075\n",
      " 0.1954262  0.19375    0.19415449 0.19456067 0.19496855 0.19537815\n",
      " 0.19578947 0.19620253 0.19661734 0.1970339  0.19745223 0.19787234\n",
      " 0.19829424 0.19871795 0.19914347 0.19957082 0.2        0.20043103\n",
      " 0.20086393 0.2012987  0.20173536 0.20217391 0.20261438 0.20305677\n",
      " 0.20350109 0.20394737 0.2043956  0.20484581 0.20529801 0.20575221\n",
      " 0.20620843 0.20666667 0.20712695 0.20758929 0.20805369 0.20852018\n",
      " 0.20898876 0.20945946 0.20993228 0.21040724 0.21088435 0.21136364\n",
      " 0.2118451  0.21232877 0.21281465 0.21330275 0.2137931  0.21428571\n",
      " 0.2147806  0.21527778 0.21577726 0.21627907 0.21678322 0.21728972\n",
      " 0.21779859 0.21830986 0.21882353 0.21933962 0.21985816 0.22037915\n",
      " 0.22090261 0.22142857 0.22195704 0.22248804 0.22302158 0.22355769\n",
      " 0.22409639 0.22463768 0.2251816  0.22572816 0.22627737 0.22682927\n",
      " 0.22738386 0.22794118 0.22850123 0.22906404 0.22962963 0.23019802\n",
      " 0.23076923 0.23134328 0.2319202  0.2325     0.23308271 0.23366834\n",
      " 0.23425693 0.23484848 0.23291139 0.23350254 0.23409669 0.23469388\n",
      " 0.23529412 0.23333333 0.23393316 0.23453608 0.23514212 0.2357513\n",
      " 0.23636364 0.23697917 0.23759791 0.23560209 0.23622047 0.23684211\n",
      " 0.23746702 0.23809524 0.23872679 0.2393617  0.24       0.23796791\n",
      " 0.2386059  0.23924731 0.23989218 0.24054054 0.24119241 0.24184783\n",
      " 0.24250681 0.2431694  0.24383562 0.24450549 0.24517906 0.24585635\n",
      " 0.2465374  0.24722222 0.24791086 0.24860335 0.24929972 0.25\n",
      " 0.25070423 0.25141243 0.25212465 0.25284091 0.25356125 0.25428571\n",
      " 0.25501433 0.25574713 0.25648415 0.25722543 0.25797101 0.25872093\n",
      " 0.25947522 0.25730994 0.25806452 0.25882353 0.25958702 0.25739645\n",
      " 0.25816024 0.25892857 0.25970149 0.26047904 0.26126126 0.26204819\n",
      " 0.26283988 0.26363636 0.26443769 0.2652439  0.26605505 0.26380368\n",
      " 0.26461538 0.2654321  0.26625387 0.26708075 0.26791277 0.26875\n",
      " 0.26959248 0.27044025 0.27129338 0.2721519  0.27301587 0.27388535\n",
      " 0.27476038 0.27564103 0.27652733 0.27741935 0.27831715 0.27922078\n",
      " 0.28013029 0.28104575 0.28196721 0.28289474 0.28382838 0.28476821\n",
      " 0.28571429 0.28666667 0.28428094 0.2852349  0.28619529 0.28716216\n",
      " 0.28813559 0.28911565 0.29010239 0.29109589 0.29209622 0.29310345\n",
      " 0.29411765 0.29513889 0.29616725 0.2972028  0.29824561 0.29929577\n",
      " 0.30035336 0.30141844 0.3024911  0.30357143 0.30107527 0.30215827\n",
      " 0.3032491  0.30434783 0.30545455 0.30656934 0.30769231 0.30882353\n",
      " 0.3099631  0.31111111 0.31226766 0.31343284 0.31460674 0.31578947\n",
      " 0.31698113 0.31818182 0.31939163 0.32061069 0.32183908 0.32307692\n",
      " 0.32432432 0.3255814  0.32684825 0.328125   0.32941176 0.33070866\n",
      " 0.33201581 0.33333333 0.33466135 0.336      0.3373494  0.33870968\n",
      " 0.34008097 0.34146341 0.34285714 0.3442623  0.34567901 0.34710744\n",
      " 0.34439834 0.34583333 0.34728033 0.3487395  0.35021097 0.35169492\n",
      " 0.35319149 0.35470085 0.35622318 0.35344828 0.35497835 0.35652174\n",
      " 0.3580786  0.35526316 0.35682819 0.35840708 0.36       0.36160714\n",
      " 0.3632287  0.36486486 0.36651584 0.36818182 0.36986301 0.36697248\n",
      " 0.36866359 0.37037037 0.37209302 0.37383178 0.37558685 0.37735849\n",
      " 0.37914692 0.37619048 0.37799043 0.37980769 0.38164251 0.38349515\n",
      " 0.38536585 0.3872549  0.38916256 0.39108911 0.39303483 0.39\n",
      " 0.38693467 0.38383838 0.38071066 0.38265306 0.37948718 0.37628866\n",
      " 0.37305699 0.375      0.37696335 0.37894737 0.38095238 0.37765957\n",
      " 0.37967914 0.38172043 0.38378378 0.38586957 0.38797814 0.39010989\n",
      " 0.39226519 0.39444444 0.39106145 0.38764045 0.38983051 0.39204545\n",
      " 0.39428571 0.39655172 0.39306358 0.38953488 0.39181287 0.39411765\n",
      " 0.3964497  0.39880952 0.39520958 0.39759036 0.4        0.39634146\n",
      " 0.39877301 0.39506173 0.39751553 0.4        0.40251572 0.39873418\n",
      " 0.40127389 0.3974359  0.4        0.4025974  0.40522876 0.40789474\n",
      " 0.40397351 0.40666667 0.40939597 0.40540541 0.40816327 0.40410959\n",
      " 0.4        0.40277778 0.40559441 0.4084507  0.41134752 0.41428571\n",
      " 0.41726619 0.42028986 0.42335766 0.42647059 0.42962963 0.42537313\n",
      " 0.42857143 0.42424242 0.42748092 0.43076923 0.42635659 0.4296875\n",
      " 0.43307087 0.43650794 0.44       0.44354839 0.44715447 0.45081967\n",
      " 0.44628099 0.45       0.45378151 0.45762712 0.45299145 0.45689655\n",
      " 0.46086957 0.46491228 0.46902655 0.47321429 0.46846847 0.47272727\n",
      " 0.47706422 0.48148148 0.47663551 0.48113208 0.48571429 0.49038462\n",
      " 0.49514563 0.49019608 0.4950495  0.5        0.50505051 0.51020408\n",
      " 0.51546392 0.52083333 0.52631579 0.53191489 0.53763441 0.54347826\n",
      " 0.53846154 0.53333333 0.53932584 0.53409091 0.54022989 0.53488372\n",
      " 0.52941176 0.52380952 0.51807229 0.52439024 0.5308642  0.525\n",
      " 0.53164557 0.52564103 0.51948052 0.52631579 0.53333333 0.52702703\n",
      " 0.52054795 0.51388889 0.52112676 0.52857143 0.53623188 0.54411765\n",
      " 0.55223881 0.54545455 0.55384615 0.546875   0.53968254 0.5483871\n",
      " 0.54098361 0.53333333 0.52542373 0.53448276 0.54385965 0.55357143\n",
      " 0.54545455 0.55555556 0.56603774 0.55769231 0.54901961 0.56\n",
      " 0.57142857 0.5625     0.55319149 0.56521739 0.55555556 0.56818182\n",
      " 0.55813953 0.54761905 0.56097561 0.575      0.56410256 0.57894737\n",
      " 0.59459459 0.58333333 0.6        0.58823529 0.60606061 0.59375\n",
      " 0.61290323 0.63333333 0.62068966 0.60714286 0.62962963 0.61538462\n",
      " 0.64       0.625      0.60869565 0.59090909 0.61904762 0.65\n",
      " 0.68421053 0.66666667 0.70588235 0.6875     0.66666667 0.71428571\n",
      " 0.69230769 0.75       0.72727273 0.7        0.77777778 0.875\n",
      " 1.         1.         1.         1.         1.         1.\n",
      " 1.         1.        ]\n",
      "Recall: [1.         1.         1.         1.         0.99009901 0.99009901\n",
      " 0.99009901 0.99009901 0.99009901 0.99009901 0.99009901 0.99009901\n",
      " 0.99009901 0.99009901 0.99009901 0.99009901 0.99009901 0.99009901\n",
      " 0.99009901 0.99009901 0.99009901 0.99009901 0.99009901 0.99009901\n",
      " 0.99009901 0.99009901 0.99009901 0.99009901 0.99009901 0.99009901\n",
      " 0.99009901 0.99009901 0.99009901 0.99009901 0.99009901 0.99009901\n",
      " 0.99009901 0.99009901 0.99009901 0.99009901 0.99009901 0.99009901\n",
      " 0.99009901 0.99009901 0.99009901 0.99009901 0.99009901 0.99009901\n",
      " 0.99009901 0.99009901 0.99009901 0.99009901 0.99009901 0.99009901\n",
      " 0.98019802 0.98019802 0.98019802 0.98019802 0.98019802 0.98019802\n",
      " 0.98019802 0.98019802 0.98019802 0.98019802 0.98019802 0.98019802\n",
      " 0.98019802 0.98019802 0.98019802 0.98019802 0.98019802 0.98019802\n",
      " 0.98019802 0.97029703 0.97029703 0.97029703 0.97029703 0.97029703\n",
      " 0.97029703 0.97029703 0.97029703 0.97029703 0.97029703 0.97029703\n",
      " 0.97029703 0.97029703 0.97029703 0.97029703 0.97029703 0.97029703\n",
      " 0.97029703 0.97029703 0.97029703 0.97029703 0.97029703 0.97029703\n",
      " 0.97029703 0.97029703 0.97029703 0.97029703 0.97029703 0.97029703\n",
      " 0.97029703 0.97029703 0.97029703 0.97029703 0.96039604 0.96039604\n",
      " 0.96039604 0.96039604 0.96039604 0.96039604 0.96039604 0.96039604\n",
      " 0.96039604 0.96039604 0.96039604 0.96039604 0.96039604 0.96039604\n",
      " 0.96039604 0.96039604 0.96039604 0.96039604 0.96039604 0.96039604\n",
      " 0.96039604 0.96039604 0.96039604 0.96039604 0.96039604 0.96039604\n",
      " 0.96039604 0.96039604 0.96039604 0.96039604 0.96039604 0.96039604\n",
      " 0.96039604 0.96039604 0.96039604 0.96039604 0.96039604 0.96039604\n",
      " 0.96039604 0.96039604 0.96039604 0.96039604 0.96039604 0.96039604\n",
      " 0.96039604 0.96039604 0.96039604 0.96039604 0.96039604 0.96039604\n",
      " 0.96039604 0.96039604 0.96039604 0.96039604 0.96039604 0.95049505\n",
      " 0.95049505 0.95049505 0.95049505 0.95049505 0.95049505 0.95049505\n",
      " 0.95049505 0.95049505 0.94059406 0.93069307 0.93069307 0.93069307\n",
      " 0.93069307 0.93069307 0.93069307 0.93069307 0.93069307 0.93069307\n",
      " 0.93069307 0.93069307 0.93069307 0.93069307 0.93069307 0.93069307\n",
      " 0.93069307 0.92079208 0.92079208 0.92079208 0.92079208 0.92079208\n",
      " 0.92079208 0.92079208 0.92079208 0.92079208 0.92079208 0.92079208\n",
      " 0.92079208 0.92079208 0.92079208 0.92079208 0.92079208 0.92079208\n",
      " 0.92079208 0.92079208 0.92079208 0.92079208 0.92079208 0.92079208\n",
      " 0.92079208 0.92079208 0.92079208 0.92079208 0.92079208 0.92079208\n",
      " 0.92079208 0.92079208 0.92079208 0.92079208 0.92079208 0.92079208\n",
      " 0.92079208 0.92079208 0.92079208 0.92079208 0.92079208 0.92079208\n",
      " 0.92079208 0.92079208 0.92079208 0.92079208 0.92079208 0.92079208\n",
      " 0.92079208 0.92079208 0.92079208 0.92079208 0.92079208 0.92079208\n",
      " 0.92079208 0.92079208 0.92079208 0.92079208 0.92079208 0.92079208\n",
      " 0.92079208 0.92079208 0.92079208 0.92079208 0.92079208 0.92079208\n",
      " 0.92079208 0.92079208 0.92079208 0.92079208 0.92079208 0.92079208\n",
      " 0.92079208 0.92079208 0.92079208 0.92079208 0.92079208 0.92079208\n",
      " 0.92079208 0.92079208 0.92079208 0.92079208 0.92079208 0.92079208\n",
      " 0.92079208 0.92079208 0.91089109 0.91089109 0.91089109 0.91089109\n",
      " 0.91089109 0.9009901  0.9009901  0.9009901  0.9009901  0.9009901\n",
      " 0.9009901  0.9009901  0.9009901  0.89108911 0.89108911 0.89108911\n",
      " 0.89108911 0.89108911 0.89108911 0.89108911 0.89108911 0.88118812\n",
      " 0.88118812 0.88118812 0.88118812 0.88118812 0.88118812 0.88118812\n",
      " 0.88118812 0.88118812 0.88118812 0.88118812 0.88118812 0.88118812\n",
      " 0.88118812 0.88118812 0.88118812 0.88118812 0.88118812 0.88118812\n",
      " 0.88118812 0.88118812 0.88118812 0.88118812 0.88118812 0.88118812\n",
      " 0.88118812 0.88118812 0.88118812 0.88118812 0.88118812 0.88118812\n",
      " 0.88118812 0.87128713 0.87128713 0.87128713 0.87128713 0.86138614\n",
      " 0.86138614 0.86138614 0.86138614 0.86138614 0.86138614 0.86138614\n",
      " 0.86138614 0.86138614 0.86138614 0.86138614 0.86138614 0.85148515\n",
      " 0.85148515 0.85148515 0.85148515 0.85148515 0.85148515 0.85148515\n",
      " 0.85148515 0.85148515 0.85148515 0.85148515 0.85148515 0.85148515\n",
      " 0.85148515 0.85148515 0.85148515 0.85148515 0.85148515 0.85148515\n",
      " 0.85148515 0.85148515 0.85148515 0.85148515 0.85148515 0.85148515\n",
      " 0.85148515 0.85148515 0.84158416 0.84158416 0.84158416 0.84158416\n",
      " 0.84158416 0.84158416 0.84158416 0.84158416 0.84158416 0.84158416\n",
      " 0.84158416 0.84158416 0.84158416 0.84158416 0.84158416 0.84158416\n",
      " 0.84158416 0.84158416 0.84158416 0.84158416 0.83168317 0.83168317\n",
      " 0.83168317 0.83168317 0.83168317 0.83168317 0.83168317 0.83168317\n",
      " 0.83168317 0.83168317 0.83168317 0.83168317 0.83168317 0.83168317\n",
      " 0.83168317 0.83168317 0.83168317 0.83168317 0.83168317 0.83168317\n",
      " 0.83168317 0.83168317 0.83168317 0.83168317 0.83168317 0.83168317\n",
      " 0.83168317 0.83168317 0.83168317 0.83168317 0.83168317 0.83168317\n",
      " 0.83168317 0.83168317 0.83168317 0.83168317 0.83168317 0.83168317\n",
      " 0.82178218 0.82178218 0.82178218 0.82178218 0.82178218 0.82178218\n",
      " 0.82178218 0.82178218 0.82178218 0.81188119 0.81188119 0.81188119\n",
      " 0.81188119 0.8019802  0.8019802  0.8019802  0.8019802  0.8019802\n",
      " 0.8019802  0.8019802  0.8019802  0.8019802  0.8019802  0.79207921\n",
      " 0.79207921 0.79207921 0.79207921 0.79207921 0.79207921 0.79207921\n",
      " 0.79207921 0.78217822 0.78217822 0.78217822 0.78217822 0.78217822\n",
      " 0.78217822 0.78217822 0.78217822 0.78217822 0.78217822 0.77227723\n",
      " 0.76237624 0.75247525 0.74257426 0.74257426 0.73267327 0.72277228\n",
      " 0.71287129 0.71287129 0.71287129 0.71287129 0.71287129 0.7029703\n",
      " 0.7029703  0.7029703  0.7029703  0.7029703  0.7029703  0.7029703\n",
      " 0.7029703  0.7029703  0.69306931 0.68316832 0.68316832 0.68316832\n",
      " 0.68316832 0.68316832 0.67326733 0.66336634 0.66336634 0.66336634\n",
      " 0.66336634 0.66336634 0.65346535 0.65346535 0.65346535 0.64356436\n",
      " 0.64356436 0.63366337 0.63366337 0.63366337 0.63366337 0.62376238\n",
      " 0.62376238 0.61386139 0.61386139 0.61386139 0.61386139 0.61386139\n",
      " 0.6039604  0.6039604  0.6039604  0.59405941 0.59405941 0.58415842\n",
      " 0.57425743 0.57425743 0.57425743 0.57425743 0.57425743 0.57425743\n",
      " 0.57425743 0.57425743 0.57425743 0.57425743 0.57425743 0.56435644\n",
      " 0.56435644 0.55445545 0.55445545 0.55445545 0.54455446 0.54455446\n",
      " 0.54455446 0.54455446 0.54455446 0.54455446 0.54455446 0.54455446\n",
      " 0.53465347 0.53465347 0.53465347 0.53465347 0.52475248 0.52475248\n",
      " 0.52475248 0.52475248 0.52475248 0.52475248 0.51485149 0.51485149\n",
      " 0.51485149 0.51485149 0.5049505  0.5049505  0.5049505  0.5049505\n",
      " 0.5049505  0.4950495  0.4950495  0.4950495  0.4950495  0.4950495\n",
      " 0.4950495  0.4950495  0.4950495  0.4950495  0.4950495  0.4950495\n",
      " 0.48514851 0.47524752 0.47524752 0.46534653 0.46534653 0.45544554\n",
      " 0.44554455 0.43564356 0.42574257 0.42574257 0.42574257 0.41584158\n",
      " 0.41584158 0.40594059 0.3960396  0.3960396  0.3960396  0.38613861\n",
      " 0.37623762 0.36633663 0.36633663 0.36633663 0.36633663 0.36633663\n",
      " 0.36633663 0.35643564 0.35643564 0.34653465 0.33663366 0.33663366\n",
      " 0.32673267 0.31683168 0.30693069 0.30693069 0.30693069 0.30693069\n",
      " 0.2970297  0.2970297  0.2970297  0.28712871 0.27722772 0.27722772\n",
      " 0.27722772 0.26732673 0.25742574 0.25742574 0.24752475 0.24752475\n",
      " 0.23762376 0.22772277 0.22772277 0.22772277 0.21782178 0.21782178\n",
      " 0.21782178 0.20792079 0.20792079 0.1980198  0.1980198  0.18811881\n",
      " 0.18811881 0.18811881 0.17821782 0.16831683 0.16831683 0.15841584\n",
      " 0.15841584 0.14851485 0.13861386 0.12871287 0.12871287 0.12871287\n",
      " 0.12871287 0.11881188 0.11881188 0.10891089 0.0990099  0.0990099\n",
      " 0.08910891 0.08910891 0.07920792 0.06930693 0.06930693 0.06930693\n",
      " 0.06930693 0.05940594 0.04950495 0.03960396 0.02970297 0.01980198\n",
      " 0.00990099 0.        ]\n",
      "F1 Score: 0.30656934306569344\n"
     ]
    }
   ],
   "source": [
    "# Print evaluation metrics\n",
    "print(\"Accuracy:\", accuracy)\n",
    "print(\"Precision:\", precision)\n",
    "print(\"Recall:\", recall)\n",
    "print(\"F1 Score:\", f1)"
   ]
  },
  {
   "cell_type": "markdown",
   "metadata": {},
   "source": [
    "## Here's the interpretation of the classification metrics:\n",
    "\n",
    "1). Accuracy: Accuracy measures the proportion of correctly classified samples out of the total number of samples. In this case, the accuracy of the logistic regression model is approximately 85.46%. This indicates that 85.46% of the predictions made by the model are correct.\n",
    "\n",
    "2). Precision: Precision measures the proportion of true positive predictions (correctly identified positives) out of all positive predictions made by the model. In this case, the precision is approximately 83.33%. It means that when the model predicts a customer will churn, it is correct about 83.33% of the time.\n",
    "\n",
    "3). Recall: Recall, also known as sensitivity or true positive rate, measures the proportion of true positive predictions out of all actual positive samples in the data. In this case, the recall is approximately 4.95%. This is an indication that the model correctly identifies only about 4.95% of all churn cases in the dataset.\n",
    "\n",
    "4). F1 Score: The F1 score is the harmonic mean of precision and recall. It provides a balance between precision and recall. In this case, the F1 score is approximately 9.35%. A higher F1 score indicates better balance between precision and recall.\n",
    "\n",
    "Overall, while the accuracy and precision of the model are relatively high, the recall and F1 score are quite low. This suggests that the model performs well in identifying non-churn cases but struggles to correctly identify churn cases. \n",
    "\n"
   ]
  },
  {
   "cell_type": "markdown",
   "metadata": {},
   "source": [
    "## Logistic Regression with Hyperparameter Tuning using GridSearchCV:"
   ]
  },
  {
   "cell_type": "code",
   "execution_count": 42,
   "metadata": {},
   "outputs": [],
   "source": [
    "# Define hyperparameters grid for Grid Search\n",
    "param_grid = {\n",
    "    'C': [0.001, 0.01, 0.1, 1, 10, 100],  # Regularization parameter\n",
    "    'penalty': ['l2']  # Only 'l2' penalty for lbfgs solver\n",
    "}"
   ]
  },
  {
   "cell_type": "code",
   "execution_count": 43,
   "metadata": {},
   "outputs": [
    {
     "data": {
      "text/html": [
       "<style>#sk-container-id-2 {color: black;}#sk-container-id-2 pre{padding: 0;}#sk-container-id-2 div.sk-toggleable {background-color: white;}#sk-container-id-2 label.sk-toggleable__label {cursor: pointer;display: block;width: 100%;margin-bottom: 0;padding: 0.3em;box-sizing: border-box;text-align: center;}#sk-container-id-2 label.sk-toggleable__label-arrow:before {content: \"▸\";float: left;margin-right: 0.25em;color: #696969;}#sk-container-id-2 label.sk-toggleable__label-arrow:hover:before {color: black;}#sk-container-id-2 div.sk-estimator:hover label.sk-toggleable__label-arrow:before {color: black;}#sk-container-id-2 div.sk-toggleable__content {max-height: 0;max-width: 0;overflow: hidden;text-align: left;background-color: #f0f8ff;}#sk-container-id-2 div.sk-toggleable__content pre {margin: 0.2em;color: black;border-radius: 0.25em;background-color: #f0f8ff;}#sk-container-id-2 input.sk-toggleable__control:checked~div.sk-toggleable__content {max-height: 200px;max-width: 100%;overflow: auto;}#sk-container-id-2 input.sk-toggleable__control:checked~label.sk-toggleable__label-arrow:before {content: \"▾\";}#sk-container-id-2 div.sk-estimator input.sk-toggleable__control:checked~label.sk-toggleable__label {background-color: #d4ebff;}#sk-container-id-2 div.sk-label input.sk-toggleable__control:checked~label.sk-toggleable__label {background-color: #d4ebff;}#sk-container-id-2 input.sk-hidden--visually {border: 0;clip: rect(1px 1px 1px 1px);clip: rect(1px, 1px, 1px, 1px);height: 1px;margin: -1px;overflow: hidden;padding: 0;position: absolute;width: 1px;}#sk-container-id-2 div.sk-estimator {font-family: monospace;background-color: #f0f8ff;border: 1px dotted black;border-radius: 0.25em;box-sizing: border-box;margin-bottom: 0.5em;}#sk-container-id-2 div.sk-estimator:hover {background-color: #d4ebff;}#sk-container-id-2 div.sk-parallel-item::after {content: \"\";width: 100%;border-bottom: 1px solid gray;flex-grow: 1;}#sk-container-id-2 div.sk-label:hover label.sk-toggleable__label {background-color: #d4ebff;}#sk-container-id-2 div.sk-serial::before {content: \"\";position: absolute;border-left: 1px solid gray;box-sizing: border-box;top: 0;bottom: 0;left: 50%;z-index: 0;}#sk-container-id-2 div.sk-serial {display: flex;flex-direction: column;align-items: center;background-color: white;padding-right: 0.2em;padding-left: 0.2em;position: relative;}#sk-container-id-2 div.sk-item {position: relative;z-index: 1;}#sk-container-id-2 div.sk-parallel {display: flex;align-items: stretch;justify-content: center;background-color: white;position: relative;}#sk-container-id-2 div.sk-item::before, #sk-container-id-2 div.sk-parallel-item::before {content: \"\";position: absolute;border-left: 1px solid gray;box-sizing: border-box;top: 0;bottom: 0;left: 50%;z-index: -1;}#sk-container-id-2 div.sk-parallel-item {display: flex;flex-direction: column;z-index: 1;position: relative;background-color: white;}#sk-container-id-2 div.sk-parallel-item:first-child::after {align-self: flex-end;width: 50%;}#sk-container-id-2 div.sk-parallel-item:last-child::after {align-self: flex-start;width: 50%;}#sk-container-id-2 div.sk-parallel-item:only-child::after {width: 0;}#sk-container-id-2 div.sk-dashed-wrapped {border: 1px dashed gray;margin: 0 0.4em 0.5em 0.4em;box-sizing: border-box;padding-bottom: 0.4em;background-color: white;}#sk-container-id-2 div.sk-label label {font-family: monospace;font-weight: bold;display: inline-block;line-height: 1.2em;}#sk-container-id-2 div.sk-label-container {text-align: center;}#sk-container-id-2 div.sk-container {/* jupyter's `normalize.less` sets `[hidden] { display: none; }` but bootstrap.min.css set `[hidden] { display: none !important; }` so we also need the `!important` here to be able to override the default hidden behavior on the sphinx rendered scikit-learn.org. See: https://github.com/scikit-learn/scikit-learn/issues/21755 */display: inline-block !important;position: relative;}#sk-container-id-2 div.sk-text-repr-fallback {display: none;}</style><div id=\"sk-container-id-2\" class=\"sk-top-container\"><div class=\"sk-text-repr-fallback\"><pre>GridSearchCV(cv=5,\n",
       "             estimator=LogisticRegression(random_state=42, solver=&#x27;liblinear&#x27;),\n",
       "             n_jobs=-1,\n",
       "             param_grid={&#x27;C&#x27;: [0.001, 0.01, 0.1, 1, 10, 100],\n",
       "                         &#x27;penalty&#x27;: [&#x27;l2&#x27;]},\n",
       "             scoring=&#x27;accuracy&#x27;)</pre><b>In a Jupyter environment, please rerun this cell to show the HTML representation or trust the notebook. <br />On GitHub, the HTML representation is unable to render, please try loading this page with nbviewer.org.</b></div><div class=\"sk-container\" hidden><div class=\"sk-item sk-dashed-wrapped\"><div class=\"sk-label-container\"><div class=\"sk-label sk-toggleable\"><input class=\"sk-toggleable__control sk-hidden--visually\" id=\"sk-estimator-id-4\" type=\"checkbox\" ><label for=\"sk-estimator-id-4\" class=\"sk-toggleable__label sk-toggleable__label-arrow\">GridSearchCV</label><div class=\"sk-toggleable__content\"><pre>GridSearchCV(cv=5,\n",
       "             estimator=LogisticRegression(random_state=42, solver=&#x27;liblinear&#x27;),\n",
       "             n_jobs=-1,\n",
       "             param_grid={&#x27;C&#x27;: [0.001, 0.01, 0.1, 1, 10, 100],\n",
       "                         &#x27;penalty&#x27;: [&#x27;l2&#x27;]},\n",
       "             scoring=&#x27;accuracy&#x27;)</pre></div></div></div><div class=\"sk-parallel\"><div class=\"sk-parallel-item\"><div class=\"sk-item\"><div class=\"sk-label-container\"><div class=\"sk-label sk-toggleable\"><input class=\"sk-toggleable__control sk-hidden--visually\" id=\"sk-estimator-id-5\" type=\"checkbox\" ><label for=\"sk-estimator-id-5\" class=\"sk-toggleable__label sk-toggleable__label-arrow\">estimator: LogisticRegression</label><div class=\"sk-toggleable__content\"><pre>LogisticRegression(random_state=42, solver=&#x27;liblinear&#x27;)</pre></div></div></div><div class=\"sk-serial\"><div class=\"sk-item\"><div class=\"sk-estimator sk-toggleable\"><input class=\"sk-toggleable__control sk-hidden--visually\" id=\"sk-estimator-id-6\" type=\"checkbox\" ><label for=\"sk-estimator-id-6\" class=\"sk-toggleable__label sk-toggleable__label-arrow\">LogisticRegression</label><div class=\"sk-toggleable__content\"><pre>LogisticRegression(random_state=42, solver=&#x27;liblinear&#x27;)</pre></div></div></div></div></div></div></div></div></div></div>"
      ],
      "text/plain": [
       "GridSearchCV(cv=5,\n",
       "             estimator=LogisticRegression(random_state=42, solver='liblinear'),\n",
       "             n_jobs=-1,\n",
       "             param_grid={'C': [0.001, 0.01, 0.1, 1, 10, 100],\n",
       "                         'penalty': ['l2']},\n",
       "             scoring='accuracy')"
      ]
     },
     "execution_count": 43,
     "metadata": {},
     "output_type": "execute_result"
    }
   ],
   "source": [
    "# Train a Logistic Regression model with hyperparameter tuning using GridSearchCV\n",
    "log_reg = LogisticRegression(solver='liblinear', random_state=42)\n",
    "grid_search = GridSearchCV(log_reg, param_grid, cv=5, scoring='accuracy', n_jobs=-1)\n",
    "grid_search.fit(X_train, y_train)"
   ]
  },
  {
   "cell_type": "code",
   "execution_count": 44,
   "metadata": {},
   "outputs": [],
   "source": [
    "# Best hyperparameters found\n",
    "best_params = grid_search.best_params_"
   ]
  },
  {
   "cell_type": "code",
   "execution_count": 45,
   "metadata": {},
   "outputs": [
    {
     "name": "stderr",
     "output_type": "stream",
     "text": [
      "C:\\Users\\dv\\anaconda3\\Lib\\site-packages\\sklearn\\linear_model\\_logistic.py:460: ConvergenceWarning: lbfgs failed to converge (status=1):\n",
      "STOP: TOTAL NO. of ITERATIONS REACHED LIMIT.\n",
      "\n",
      "Increase the number of iterations (max_iter) or scale the data as shown in:\n",
      "    https://scikit-learn.org/stable/modules/preprocessing.html\n",
      "Please also refer to the documentation for alternative solver options:\n",
      "    https://scikit-learn.org/stable/modules/linear_model.html#logistic-regression\n",
      "  n_iter_i = _check_optimize_result(\n"
     ]
    },
    {
     "data": {
      "text/html": [
       "<style>#sk-container-id-3 {color: black;}#sk-container-id-3 pre{padding: 0;}#sk-container-id-3 div.sk-toggleable {background-color: white;}#sk-container-id-3 label.sk-toggleable__label {cursor: pointer;display: block;width: 100%;margin-bottom: 0;padding: 0.3em;box-sizing: border-box;text-align: center;}#sk-container-id-3 label.sk-toggleable__label-arrow:before {content: \"▸\";float: left;margin-right: 0.25em;color: #696969;}#sk-container-id-3 label.sk-toggleable__label-arrow:hover:before {color: black;}#sk-container-id-3 div.sk-estimator:hover label.sk-toggleable__label-arrow:before {color: black;}#sk-container-id-3 div.sk-toggleable__content {max-height: 0;max-width: 0;overflow: hidden;text-align: left;background-color: #f0f8ff;}#sk-container-id-3 div.sk-toggleable__content pre {margin: 0.2em;color: black;border-radius: 0.25em;background-color: #f0f8ff;}#sk-container-id-3 input.sk-toggleable__control:checked~div.sk-toggleable__content {max-height: 200px;max-width: 100%;overflow: auto;}#sk-container-id-3 input.sk-toggleable__control:checked~label.sk-toggleable__label-arrow:before {content: \"▾\";}#sk-container-id-3 div.sk-estimator input.sk-toggleable__control:checked~label.sk-toggleable__label {background-color: #d4ebff;}#sk-container-id-3 div.sk-label input.sk-toggleable__control:checked~label.sk-toggleable__label {background-color: #d4ebff;}#sk-container-id-3 input.sk-hidden--visually {border: 0;clip: rect(1px 1px 1px 1px);clip: rect(1px, 1px, 1px, 1px);height: 1px;margin: -1px;overflow: hidden;padding: 0;position: absolute;width: 1px;}#sk-container-id-3 div.sk-estimator {font-family: monospace;background-color: #f0f8ff;border: 1px dotted black;border-radius: 0.25em;box-sizing: border-box;margin-bottom: 0.5em;}#sk-container-id-3 div.sk-estimator:hover {background-color: #d4ebff;}#sk-container-id-3 div.sk-parallel-item::after {content: \"\";width: 100%;border-bottom: 1px solid gray;flex-grow: 1;}#sk-container-id-3 div.sk-label:hover label.sk-toggleable__label {background-color: #d4ebff;}#sk-container-id-3 div.sk-serial::before {content: \"\";position: absolute;border-left: 1px solid gray;box-sizing: border-box;top: 0;bottom: 0;left: 50%;z-index: 0;}#sk-container-id-3 div.sk-serial {display: flex;flex-direction: column;align-items: center;background-color: white;padding-right: 0.2em;padding-left: 0.2em;position: relative;}#sk-container-id-3 div.sk-item {position: relative;z-index: 1;}#sk-container-id-3 div.sk-parallel {display: flex;align-items: stretch;justify-content: center;background-color: white;position: relative;}#sk-container-id-3 div.sk-item::before, #sk-container-id-3 div.sk-parallel-item::before {content: \"\";position: absolute;border-left: 1px solid gray;box-sizing: border-box;top: 0;bottom: 0;left: 50%;z-index: -1;}#sk-container-id-3 div.sk-parallel-item {display: flex;flex-direction: column;z-index: 1;position: relative;background-color: white;}#sk-container-id-3 div.sk-parallel-item:first-child::after {align-self: flex-end;width: 50%;}#sk-container-id-3 div.sk-parallel-item:last-child::after {align-self: flex-start;width: 50%;}#sk-container-id-3 div.sk-parallel-item:only-child::after {width: 0;}#sk-container-id-3 div.sk-dashed-wrapped {border: 1px dashed gray;margin: 0 0.4em 0.5em 0.4em;box-sizing: border-box;padding-bottom: 0.4em;background-color: white;}#sk-container-id-3 div.sk-label label {font-family: monospace;font-weight: bold;display: inline-block;line-height: 1.2em;}#sk-container-id-3 div.sk-label-container {text-align: center;}#sk-container-id-3 div.sk-container {/* jupyter's `normalize.less` sets `[hidden] { display: none; }` but bootstrap.min.css set `[hidden] { display: none !important; }` so we also need the `!important` here to be able to override the default hidden behavior on the sphinx rendered scikit-learn.org. See: https://github.com/scikit-learn/scikit-learn/issues/21755 */display: inline-block !important;position: relative;}#sk-container-id-3 div.sk-text-repr-fallback {display: none;}</style><div id=\"sk-container-id-3\" class=\"sk-top-container\"><div class=\"sk-text-repr-fallback\"><pre>LogisticRegression(C=10, random_state=42)</pre><b>In a Jupyter environment, please rerun this cell to show the HTML representation or trust the notebook. <br />On GitHub, the HTML representation is unable to render, please try loading this page with nbviewer.org.</b></div><div class=\"sk-container\" hidden><div class=\"sk-item\"><div class=\"sk-estimator sk-toggleable\"><input class=\"sk-toggleable__control sk-hidden--visually\" id=\"sk-estimator-id-7\" type=\"checkbox\" checked><label for=\"sk-estimator-id-7\" class=\"sk-toggleable__label sk-toggleable__label-arrow\">LogisticRegression</label><div class=\"sk-toggleable__content\"><pre>LogisticRegression(C=10, random_state=42)</pre></div></div></div></div></div>"
      ],
      "text/plain": [
       "LogisticRegression(C=10, random_state=42)"
      ]
     },
     "execution_count": 45,
     "metadata": {},
     "output_type": "execute_result"
    }
   ],
   "source": [
    "# Train the model with the best hyperparameters\n",
    "best_log_reg = LogisticRegression(**best_params, random_state=42)\n",
    "best_log_reg.fit(X_train, y_train)"
   ]
  },
  {
   "cell_type": "code",
   "execution_count": 46,
   "metadata": {},
   "outputs": [],
   "source": [
    "# Predictions on the testing set\n",
    "y_pred = best_log_reg.predict(X_test)\n"
   ]
  },
  {
   "cell_type": "markdown",
   "metadata": {},
   "source": [
    "## Confusion Matrix"
   ]
  },
  {
   "cell_type": "code",
   "execution_count": 47,
   "metadata": {},
   "outputs": [
    {
     "data": {
      "image/png": "[encoded data removed]",
      "text/plain": [
       "<Figure size 800x600 with 2 Axes>"
      ]
     },
     "metadata": {},
     "output_type": "display_data"
    }
   ],
   "source": [
    "# Calculate confusion matrix\n",
    "cm = confusion_matrix(y_test, y_pred)\n",
    "\n",
    "# Plot confusion matrix\n",
    "plt.figure(figsize=(8, 6))\n",
    "sns.heatmap(cm, annot=True, fmt='d', cmap='Blues', xticklabels=['Not Churn', 'Churn'], yticklabels=['Not Churn', 'Churn'])\n",
    "plt.xlabel('Predicted')\n",
    "plt.ylabel('Actual')\n",
    "plt.title('Confusion Matrix')\n",
    "plt.show()"
   ]
  },
  {
   "cell_type": "markdown",
   "metadata": {},
   "source": [
    "## ROC Curve"
   ]
  },
  {
   "cell_type": "code",
   "execution_count": 48,
   "metadata": {},
   "outputs": [
    {
     "data": {
      "image/png": "[encoded data removed]",
      "text/plain": [
       "<Figure size 640x480 with 1 Axes>"
      ]
     },
     "metadata": {},
     "output_type": "display_data"
    }
   ],
   "source": [
    "# Calculate predicted probabilities for the positive class\n",
    "y_pred_proba = best_log_reg.predict_proba(X_test)[:, 1]\n",
    "\n",
    "\n",
    "# Calculate ROC curve\n",
    "fpr, tpr, thresholds = roc_curve(y_test, y_pred_proba)\n",
    "roc_auc = auc(fpr, tpr)\n",
    "\n",
    "# Plot ROC curve\n",
    "plt.figure()\n",
    "plt.plot(fpr, tpr, color='darkorange', lw=2, label='ROC curve (area = %0.2f)' % roc_auc)\n",
    "plt.plot([0, 1], [0, 1], color='navy', lw=2, linestyle='--')\n",
    "plt.xlim([0.0, 1.0])\n",
    "plt.ylim([0.0, 1.05])\n",
    "plt.xlabel('False Positive Rate')\n",
    "plt.ylabel('True Positive Rate')\n",
    "plt.title('Receiver Operating Characteristic (ROC) Curve')\n",
    "plt.legend(loc='lower right')\n",
    "plt.show()"
   ]
  },
  {
   "cell_type": "markdown",
   "metadata": {},
   "source": [
    "## Precision-Recall Curve"
   ]
  },
  {
   "cell_type": "code",
   "execution_count": 49,
   "metadata": {},
   "outputs": [
    {
     "data": {
      "image/png": "[encoded data removed]",
      "text/plain": [
       "<Figure size 640x480 with 1 Axes>"
      ]
     },
     "metadata": {},
     "output_type": "display_data"
    }
   ],
   "source": [
    "# Calculate precision-recall curve\n",
    "precision, recall, _ = precision_recall_curve(y_test, y_pred_proba)\n",
    "\n",
    "# Calculate predicted probabilities for the positive class\n",
    "y_pred_proba = best_log_reg.predict_proba(X_test)[:, 1]\n",
    "\n",
    "# Plot precision-recall curve\n",
    "plt.figure()\n",
    "plt.plot(recall, precision, color='blue', lw=2)\n",
    "plt.xlabel('Recall')\n",
    "plt.ylabel('Precision')\n",
    "plt.ylim([0.0, 1.05])\n",
    "plt.xlim([0.0, 1.0])\n",
    "plt.title('Precision-Recall Curve')\n",
    "plt.show()"
   ]
  },
  {
   "cell_type": "code",
   "execution_count": 50,
   "metadata": {},
   "outputs": [
    {
     "name": "stdout",
     "output_type": "stream",
     "text": [
      "Accuracy: 0.8575712143928036\n",
      "Precision: 1.0\n",
      "Recall: 0.0594059405940594\n",
      "F1 Score: 0.11214953271028036\n"
     ]
    }
   ],
   "source": [
    "# Evaluate model performance\n",
    "accuracy = accuracy_score(y_test, y_pred)\n",
    "precision = precision_score(y_test, y_pred)\n",
    "recall = recall_score(y_test, y_pred)\n",
    "f1 = f1_score(y_test, y_pred)\n",
    "\n",
    "# Print evaluation metrics\n",
    "print(\"Accuracy:\", accuracy)\n",
    "print(\"Precision:\", precision)\n",
    "print(\"Recall:\", recall)\n",
    "print(\"F1 Score:\", f1)"
   ]
  },
  {
   "cell_type": "markdown",
   "metadata": {},
   "source": [
    "## Here's the interpretation of the classification metrics:\n",
    "\n",
    "1). Accuracy (0.857):\n",
    "\n",
    "Accuracy measures the proportion of correctly classified instances out of the total instances.\n",
    "In this case, the model achieves an accuracy of approximately 85.8%, indicating that about 85.8% of the predictions made by the model are correct.\n",
    "\n",
    "2). Precision (1.0):\n",
    "\n",
    "Precision is the ratio of true positive predictions to the total positive predictions made by the model.\n",
    "A precision of 1.0 means that all the positive predictions made by the model are indeed correct.\n",
    "While a precision of 1.0 might seem impressive, it's essential to consider other metrics, especially given the low recall.\n",
    "\n",
    "3). Recall (0.059):\n",
    "\n",
    "Recall, also known as sensitivity, measures the ability of the model to correctly identify positive instances out of all actual positive instances.\n",
    "A recall of 0.059 means that the model only captures approximately 5.9% of all actual positive instances. In other words, it misses the majority of positive cases.\n",
    "\n",
    "4). F1 Score (0.112):\n",
    "\n",
    "The F1 score is the harmonic mean of precision and recall. It provides a balance between precision and recall.\n",
    "A low F1 score (0.112) indicates that the model's performance is poor, likely due to the low recall despite the high precision.\n",
    "A low F1 score suggests that the model might be biased towards making negative predictions (i.e., predicting instances as negative more often), leading to a low recall."
   ]
  },
  {
   "cell_type": "markdown",
   "metadata": {},
   "source": [
    "## Compare the Logistic Regression Model with and without Hyper paremeter Tuning."
   ]
  },
  {
   "cell_type": "code",
   "execution_count": 51,
   "metadata": {},
   "outputs": [],
   "source": [
    "#Model 1(Without hyperparemeter tuning),Model 2(Without hyperparemeter tuning)"
   ]
  },
  {
   "cell_type": "markdown",
   "metadata": {},
   "source": [
    "1). For Accuracy:\n",
    "\n",
    "Model 1: Accuracy = 0.857\n",
    "Model 2: Accuracy = 0.855\n",
    "Model 1 has slightly higher accuracy than Model 2, indicating that it makes correct predictions for a higher proportion of instances. However, accuracy alone might not be the best metric for imbalanced datasets, as it could be influenced by the majority class.\n",
    "\n",
    "2). For Precision:\n",
    "\n",
    "Model 1: Precision = 1.0\n",
    "Model 2: Precision = 0.833\n",
    "Model 1 has a higher precision, meaning that it rarely misclassifies negative instances. However, precision alone might not be sufficient, especially if the dataset is imbalanced or if the cost of false positives is not a significant concern.\n",
    "\n",
    "3). For Recall:\n",
    "\n",
    "Model 1: Recall = 0.059\n",
    "Model 2: Recall = 0.050\n",
    "Both models have very low recall values, indicating that they are not effectively capturing positive instances. However, Model 1 has a slightly higher recall than Model 2.\n",
    "\n",
    "Considering all metrics together, Model 1 demonstrates higher accuracy, precision, and recall compared to Model 2.\n"
   ]
  },
  {
   "cell_type": "markdown",
   "metadata": {},
   "source": [
    "## Decision Trees Modelling."
   ]
  },
  {
   "cell_type": "code",
   "execution_count": 52,
   "metadata": {},
   "outputs": [
    {
     "data": {
      "text/html": [
       "<style>#sk-container-id-4 {color: black;}#sk-container-id-4 pre{padding: 0;}#sk-container-id-4 div.sk-toggleable {background-color: white;}#sk-container-id-4 label.sk-toggleable__label {cursor: pointer;display: block;width: 100%;margin-bottom: 0;padding: 0.3em;box-sizing: border-box;text-align: center;}#sk-container-id-4 label.sk-toggleable__label-arrow:before {content: \"▸\";float: left;margin-right: 0.25em;color: #696969;}#sk-container-id-4 label.sk-toggleable__label-arrow:hover:before {color: black;}#sk-container-id-4 div.sk-estimator:hover label.sk-toggleable__label-arrow:before {color: black;}#sk-container-id-4 div.sk-toggleable__content {max-height: 0;max-width: 0;overflow: hidden;text-align: left;background-color: #f0f8ff;}#sk-container-id-4 div.sk-toggleable__content pre {margin: 0.2em;color: black;border-radius: 0.25em;background-color: #f0f8ff;}#sk-container-id-4 input.sk-toggleable__control:checked~div.sk-toggleable__content {max-height: 200px;max-width: 100%;overflow: auto;}#sk-container-id-4 input.sk-toggleable__control:checked~label.sk-toggleable__label-arrow:before {content: \"▾\";}#sk-container-id-4 div.sk-estimator input.sk-toggleable__control:checked~label.sk-toggleable__label {background-color: #d4ebff;}#sk-container-id-4 div.sk-label input.sk-toggleable__control:checked~label.sk-toggleable__label {background-color: #d4ebff;}#sk-container-id-4 input.sk-hidden--visually {border: 0;clip: rect(1px 1px 1px 1px);clip: rect(1px, 1px, 1px, 1px);height: 1px;margin: -1px;overflow: hidden;padding: 0;position: absolute;width: 1px;}#sk-container-id-4 div.sk-estimator {font-family: monospace;background-color: #f0f8ff;border: 1px dotted black;border-radius: 0.25em;box-sizing: border-box;margin-bottom: 0.5em;}#sk-container-id-4 div.sk-estimator:hover {background-color: #d4ebff;}#sk-container-id-4 div.sk-parallel-item::after {content: \"\";width: 100%;border-bottom: 1px solid gray;flex-grow: 1;}#sk-container-id-4 div.sk-label:hover label.sk-toggleable__label {background-color: #d4ebff;}#sk-container-id-4 div.sk-serial::before {content: \"\";position: absolute;border-left: 1px solid gray;box-sizing: border-box;top: 0;bottom: 0;left: 50%;z-index: 0;}#sk-container-id-4 div.sk-serial {display: flex;flex-direction: column;align-items: center;background-color: white;padding-right: 0.2em;padding-left: 0.2em;position: relative;}#sk-container-id-4 div.sk-item {position: relative;z-index: 1;}#sk-container-id-4 div.sk-parallel {display: flex;align-items: stretch;justify-content: center;background-color: white;position: relative;}#sk-container-id-4 div.sk-item::before, #sk-container-id-4 div.sk-parallel-item::before {content: \"\";position: absolute;border-left: 1px solid gray;box-sizing: border-box;top: 0;bottom: 0;left: 50%;z-index: -1;}#sk-container-id-4 div.sk-parallel-item {display: flex;flex-direction: column;z-index: 1;position: relative;background-color: white;}#sk-container-id-4 div.sk-parallel-item:first-child::after {align-self: flex-end;width: 50%;}#sk-container-id-4 div.sk-parallel-item:last-child::after {align-self: flex-start;width: 50%;}#sk-container-id-4 div.sk-parallel-item:only-child::after {width: 0;}#sk-container-id-4 div.sk-dashed-wrapped {border: 1px dashed gray;margin: 0 0.4em 0.5em 0.4em;box-sizing: border-box;padding-bottom: 0.4em;background-color: white;}#sk-container-id-4 div.sk-label label {font-family: monospace;font-weight: bold;display: inline-block;line-height: 1.2em;}#sk-container-id-4 div.sk-label-container {text-align: center;}#sk-container-id-4 div.sk-container {/* jupyter's `normalize.less` sets `[hidden] { display: none; }` but bootstrap.min.css set `[hidden] { display: none !important; }` so we also need the `!important` here to be able to override the default hidden behavior on the sphinx rendered scikit-learn.org. See: https://github.com/scikit-learn/scikit-learn/issues/21755 */display: inline-block !important;position: relative;}#sk-container-id-4 div.sk-text-repr-fallback {display: none;}</style><div id=\"sk-container-id-4\" class=\"sk-top-container\"><div class=\"sk-text-repr-fallback\"><pre>DecisionTreeClassifier(random_state=42)</pre><b>In a Jupyter environment, please rerun this cell to show the HTML representation or trust the notebook. <br />On GitHub, the HTML representation is unable to render, please try loading this page with nbviewer.org.</b></div><div class=\"sk-container\" hidden><div class=\"sk-item\"><div class=\"sk-estimator sk-toggleable\"><input class=\"sk-toggleable__control sk-hidden--visually\" id=\"sk-estimator-id-8\" type=\"checkbox\" checked><label for=\"sk-estimator-id-8\" class=\"sk-toggleable__label sk-toggleable__label-arrow\">DecisionTreeClassifier</label><div class=\"sk-toggleable__content\"><pre>DecisionTreeClassifier(random_state=42)</pre></div></div></div></div></div>"
      ],
      "text/plain": [
       "DecisionTreeClassifier(random_state=42)"
      ]
     },
     "execution_count": 52,
     "metadata": {},
     "output_type": "execute_result"
    }
   ],
   "source": [
    "# Train Decision Tree Classifier\n",
    "dt_classifier = DecisionTreeClassifier(random_state=42)\n",
    "dt_classifier.fit(X_train, y_train)"
   ]
  },
  {
   "cell_type": "code",
   "execution_count": 53,
   "metadata": {},
   "outputs": [
    {
     "data": {
      "text/html": [
       "<style>#sk-container-id-5 {color: black;}#sk-container-id-5 pre{padding: 0;}#sk-container-id-5 div.sk-toggleable {background-color: white;}#sk-container-id-5 label.sk-toggleable__label {cursor: pointer;display: block;width: 100%;margin-bottom: 0;padding: 0.3em;box-sizing: border-box;text-align: center;}#sk-container-id-5 label.sk-toggleable__label-arrow:before {content: \"▸\";float: left;margin-right: 0.25em;color: #696969;}#sk-container-id-5 label.sk-toggleable__label-arrow:hover:before {color: black;}#sk-container-id-5 div.sk-estimator:hover label.sk-toggleable__label-arrow:before {color: black;}#sk-container-id-5 div.sk-toggleable__content {max-height: 0;max-width: 0;overflow: hidden;text-align: left;background-color: #f0f8ff;}#sk-container-id-5 div.sk-toggleable__content pre {margin: 0.2em;color: black;border-radius: 0.25em;background-color: #f0f8ff;}#sk-container-id-5 input.sk-toggleable__control:checked~div.sk-toggleable__content {max-height: 200px;max-width: 100%;overflow: auto;}#sk-container-id-5 input.sk-toggleable__control:checked~label.sk-toggleable__label-arrow:before {content: \"▾\";}#sk-container-id-5 div.sk-estimator input.sk-toggleable__control:checked~label.sk-toggleable__label {background-color: #d4ebff;}#sk-container-id-5 div.sk-label input.sk-toggleable__control:checked~label.sk-toggleable__label {background-color: #d4ebff;}#sk-container-id-5 input.sk-hidden--visually {border: 0;clip: rect(1px 1px 1px 1px);clip: rect(1px, 1px, 1px, 1px);height: 1px;margin: -1px;overflow: hidden;padding: 0;position: absolute;width: 1px;}#sk-container-id-5 div.sk-estimator {font-family: monospace;background-color: #f0f8ff;border: 1px dotted black;border-radius: 0.25em;box-sizing: border-box;margin-bottom: 0.5em;}#sk-container-id-5 div.sk-estimator:hover {background-color: #d4ebff;}#sk-container-id-5 div.sk-parallel-item::after {content: \"\";width: 100%;border-bottom: 1px solid gray;flex-grow: 1;}#sk-container-id-5 div.sk-label:hover label.sk-toggleable__label {background-color: #d4ebff;}#sk-container-id-5 div.sk-serial::before {content: \"\";position: absolute;border-left: 1px solid gray;box-sizing: border-box;top: 0;bottom: 0;left: 50%;z-index: 0;}#sk-container-id-5 div.sk-serial {display: flex;flex-direction: column;align-items: center;background-color: white;padding-right: 0.2em;padding-left: 0.2em;position: relative;}#sk-container-id-5 div.sk-item {position: relative;z-index: 1;}#sk-container-id-5 div.sk-parallel {display: flex;align-items: stretch;justify-content: center;background-color: white;position: relative;}#sk-container-id-5 div.sk-item::before, #sk-container-id-5 div.sk-parallel-item::before {content: \"\";position: absolute;border-left: 1px solid gray;box-sizing: border-box;top: 0;bottom: 0;left: 50%;z-index: -1;}#sk-container-id-5 div.sk-parallel-item {display: flex;flex-direction: column;z-index: 1;position: relative;background-color: white;}#sk-container-id-5 div.sk-parallel-item:first-child::after {align-self: flex-end;width: 50%;}#sk-container-id-5 div.sk-parallel-item:last-child::after {align-self: flex-start;width: 50%;}#sk-container-id-5 div.sk-parallel-item:only-child::after {width: 0;}#sk-container-id-5 div.sk-dashed-wrapped {border: 1px dashed gray;margin: 0 0.4em 0.5em 0.4em;box-sizing: border-box;padding-bottom: 0.4em;background-color: white;}#sk-container-id-5 div.sk-label label {font-family: monospace;font-weight: bold;display: inline-block;line-height: 1.2em;}#sk-container-id-5 div.sk-label-container {text-align: center;}#sk-container-id-5 div.sk-container {/* jupyter's `normalize.less` sets `[hidden] { display: none; }` but bootstrap.min.css set `[hidden] { display: none !important; }` so we also need the `!important` here to be able to override the default hidden behavior on the sphinx rendered scikit-learn.org. See: https://github.com/scikit-learn/scikit-learn/issues/21755 */display: inline-block !important;position: relative;}#sk-container-id-5 div.sk-text-repr-fallback {display: none;}</style><div id=\"sk-container-id-5\" class=\"sk-top-container\"><div class=\"sk-text-repr-fallback\"><pre>GridSearchCV(cv=5, estimator=DecisionTreeClassifier(random_state=42), n_jobs=-1,\n",
       "             param_grid={&#x27;criterion&#x27;: [&#x27;gini&#x27;, &#x27;entropy&#x27;],\n",
       "                         &#x27;max_depth&#x27;: [None, 10, 20, 30, 40, 50],\n",
       "                         &#x27;max_features&#x27;: [None, &#x27;sqrt&#x27;, &#x27;log2&#x27;],\n",
       "                         &#x27;min_samples_leaf&#x27;: [1, 2, 4],\n",
       "                         &#x27;min_samples_split&#x27;: [2, 5, 10]},\n",
       "             scoring=&#x27;accuracy&#x27;)</pre><b>In a Jupyter environment, please rerun this cell to show the HTML representation or trust the notebook. <br />On GitHub, the HTML representation is unable to render, please try loading this page with nbviewer.org.</b></div><div class=\"sk-container\" hidden><div class=\"sk-item sk-dashed-wrapped\"><div class=\"sk-label-container\"><div class=\"sk-label sk-toggleable\"><input class=\"sk-toggleable__control sk-hidden--visually\" id=\"sk-estimator-id-9\" type=\"checkbox\" ><label for=\"sk-estimator-id-9\" class=\"sk-toggleable__label sk-toggleable__label-arrow\">GridSearchCV</label><div class=\"sk-toggleable__content\"><pre>GridSearchCV(cv=5, estimator=DecisionTreeClassifier(random_state=42), n_jobs=-1,\n",
       "             param_grid={&#x27;criterion&#x27;: [&#x27;gini&#x27;, &#x27;entropy&#x27;],\n",
       "                         &#x27;max_depth&#x27;: [None, 10, 20, 30, 40, 50],\n",
       "                         &#x27;max_features&#x27;: [None, &#x27;sqrt&#x27;, &#x27;log2&#x27;],\n",
       "                         &#x27;min_samples_leaf&#x27;: [1, 2, 4],\n",
       "                         &#x27;min_samples_split&#x27;: [2, 5, 10]},\n",
       "             scoring=&#x27;accuracy&#x27;)</pre></div></div></div><div class=\"sk-parallel\"><div class=\"sk-parallel-item\"><div class=\"sk-item\"><div class=\"sk-label-container\"><div class=\"sk-label sk-toggleable\"><input class=\"sk-toggleable__control sk-hidden--visually\" id=\"sk-estimator-id-10\" type=\"checkbox\" ><label for=\"sk-estimator-id-10\" class=\"sk-toggleable__label sk-toggleable__label-arrow\">estimator: DecisionTreeClassifier</label><div class=\"sk-toggleable__content\"><pre>DecisionTreeClassifier(random_state=42)</pre></div></div></div><div class=\"sk-serial\"><div class=\"sk-item\"><div class=\"sk-estimator sk-toggleable\"><input class=\"sk-toggleable__control sk-hidden--visually\" id=\"sk-estimator-id-11\" type=\"checkbox\" ><label for=\"sk-estimator-id-11\" class=\"sk-toggleable__label sk-toggleable__label-arrow\">DecisionTreeClassifier</label><div class=\"sk-toggleable__content\"><pre>DecisionTreeClassifier(random_state=42)</pre></div></div></div></div></div></div></div></div></div></div>"
      ],
      "text/plain": [
       "GridSearchCV(cv=5, estimator=DecisionTreeClassifier(random_state=42), n_jobs=-1,\n",
       "             param_grid={'criterion': ['gini', 'entropy'],\n",
       "                         'max_depth': [None, 10, 20, 30, 40, 50],\n",
       "                         'max_features': [None, 'sqrt', 'log2'],\n",
       "                         'min_samples_leaf': [1, 2, 4],\n",
       "                         'min_samples_split': [2, 5, 10]},\n",
       "             scoring='accuracy')"
      ]
     },
     "execution_count": 53,
     "metadata": {},
     "output_type": "execute_result"
    }
   ],
   "source": [
    "# Hyperparameter Tuning\n",
    "param_grid = {\n",
    "    'criterion': ['gini', 'entropy'],\n",
    "    'max_depth': [None, 10, 20, 30, 40, 50],\n",
    "    'min_samples_split': [2, 5, 10],\n",
    "    'min_samples_leaf': [1, 2, 4],\n",
    "    'max_features': [None, 'sqrt', 'log2']}  # Remove 'auto' as a value\n",
    "\n",
    "grid_search = GridSearchCV(dt_classifier, param_grid, cv=5, scoring='accuracy', n_jobs=-1)\n",
    "grid_search.fit(X_train, y_train)\n",
    "\n"
   ]
  },
  {
   "cell_type": "code",
   "execution_count": 54,
   "metadata": {},
   "outputs": [],
   "source": [
    "# Best hyperparameters found\n",
    "best_params = grid_search.best_params_"
   ]
  },
  {
   "cell_type": "code",
   "execution_count": 55,
   "metadata": {},
   "outputs": [
    {
     "data": {
      "text/html": [
       "<style>#sk-container-id-6 {color: black;}#sk-container-id-6 pre{padding: 0;}#sk-container-id-6 div.sk-toggleable {background-color: white;}#sk-container-id-6 label.sk-toggleable__label {cursor: pointer;display: block;width: 100%;margin-bottom: 0;padding: 0.3em;box-sizing: border-box;text-align: center;}#sk-container-id-6 label.sk-toggleable__label-arrow:before {content: \"▸\";float: left;margin-right: 0.25em;color: #696969;}#sk-container-id-6 label.sk-toggleable__label-arrow:hover:before {color: black;}#sk-container-id-6 div.sk-estimator:hover label.sk-toggleable__label-arrow:before {color: black;}#sk-container-id-6 div.sk-toggleable__content {max-height: 0;max-width: 0;overflow: hidden;text-align: left;background-color: #f0f8ff;}#sk-container-id-6 div.sk-toggleable__content pre {margin: 0.2em;color: black;border-radius: 0.25em;background-color: #f0f8ff;}#sk-container-id-6 input.sk-toggleable__control:checked~div.sk-toggleable__content {max-height: 200px;max-width: 100%;overflow: auto;}#sk-container-id-6 input.sk-toggleable__control:checked~label.sk-toggleable__label-arrow:before {content: \"▾\";}#sk-container-id-6 div.sk-estimator input.sk-toggleable__control:checked~label.sk-toggleable__label {background-color: #d4ebff;}#sk-container-id-6 div.sk-label input.sk-toggleable__control:checked~label.sk-toggleable__label {background-color: #d4ebff;}#sk-container-id-6 input.sk-hidden--visually {border: 0;clip: rect(1px 1px 1px 1px);clip: rect(1px, 1px, 1px, 1px);height: 1px;margin: -1px;overflow: hidden;padding: 0;position: absolute;width: 1px;}#sk-container-id-6 div.sk-estimator {font-family: monospace;background-color: #f0f8ff;border: 1px dotted black;border-radius: 0.25em;box-sizing: border-box;margin-bottom: 0.5em;}#sk-container-id-6 div.sk-estimator:hover {background-color: #d4ebff;}#sk-container-id-6 div.sk-parallel-item::after {content: \"\";width: 100%;border-bottom: 1px solid gray;flex-grow: 1;}#sk-container-id-6 div.sk-label:hover label.sk-toggleable__label {background-color: #d4ebff;}#sk-container-id-6 div.sk-serial::before {content: \"\";position: absolute;border-left: 1px solid gray;box-sizing: border-box;top: 0;bottom: 0;left: 50%;z-index: 0;}#sk-container-id-6 div.sk-serial {display: flex;flex-direction: column;align-items: center;background-color: white;padding-right: 0.2em;padding-left: 0.2em;position: relative;}#sk-container-id-6 div.sk-item {position: relative;z-index: 1;}#sk-container-id-6 div.sk-parallel {display: flex;align-items: stretch;justify-content: center;background-color: white;position: relative;}#sk-container-id-6 div.sk-item::before, #sk-container-id-6 div.sk-parallel-item::before {content: \"\";position: absolute;border-left: 1px solid gray;box-sizing: border-box;top: 0;bottom: 0;left: 50%;z-index: -1;}#sk-container-id-6 div.sk-parallel-item {display: flex;flex-direction: column;z-index: 1;position: relative;background-color: white;}#sk-container-id-6 div.sk-parallel-item:first-child::after {align-self: flex-end;width: 50%;}#sk-container-id-6 div.sk-parallel-item:last-child::after {align-self: flex-start;width: 50%;}#sk-container-id-6 div.sk-parallel-item:only-child::after {width: 0;}#sk-container-id-6 div.sk-dashed-wrapped {border: 1px dashed gray;margin: 0 0.4em 0.5em 0.4em;box-sizing: border-box;padding-bottom: 0.4em;background-color: white;}#sk-container-id-6 div.sk-label label {font-family: monospace;font-weight: bold;display: inline-block;line-height: 1.2em;}#sk-container-id-6 div.sk-label-container {text-align: center;}#sk-container-id-6 div.sk-container {/* jupyter's `normalize.less` sets `[hidden] { display: none; }` but bootstrap.min.css set `[hidden] { display: none !important; }` so we also need the `!important` here to be able to override the default hidden behavior on the sphinx rendered scikit-learn.org. See: https://github.com/scikit-learn/scikit-learn/issues/21755 */display: inline-block !important;position: relative;}#sk-container-id-6 div.sk-text-repr-fallback {display: none;}</style><div id=\"sk-container-id-6\" class=\"sk-top-container\"><div class=\"sk-text-repr-fallback\"><pre>DecisionTreeClassifier(max_depth=10, min_samples_leaf=4, random_state=42)</pre><b>In a Jupyter environment, please rerun this cell to show the HTML representation or trust the notebook. <br />On GitHub, the HTML representation is unable to render, please try loading this page with nbviewer.org.</b></div><div class=\"sk-container\" hidden><div class=\"sk-item\"><div class=\"sk-estimator sk-toggleable\"><input class=\"sk-toggleable__control sk-hidden--visually\" id=\"sk-estimator-id-12\" type=\"checkbox\" checked><label for=\"sk-estimator-id-12\" class=\"sk-toggleable__label sk-toggleable__label-arrow\">DecisionTreeClassifier</label><div class=\"sk-toggleable__content\"><pre>DecisionTreeClassifier(max_depth=10, min_samples_leaf=4, random_state=42)</pre></div></div></div></div></div>"
      ],
      "text/plain": [
       "DecisionTreeClassifier(max_depth=10, min_samples_leaf=4, random_state=42)"
      ]
     },
     "execution_count": 55,
     "metadata": {},
     "output_type": "execute_result"
    }
   ],
   "source": [
    "# Train the model with the best hyperparameters\n",
    "best_dt_classifier = DecisionTreeClassifier(**best_params, random_state=42)\n",
    "best_dt_classifier.fit(X_train, y_train)"
   ]
  },
  {
   "cell_type": "code",
   "execution_count": 56,
   "metadata": {},
   "outputs": [
    {
     "data": {
      "text/html": [
       "<style>#sk-container-id-7 {color: black;}#sk-container-id-7 pre{padding: 0;}#sk-container-id-7 div.sk-toggleable {background-color: white;}#sk-container-id-7 label.sk-toggleable__label {cursor: pointer;display: block;width: 100%;margin-bottom: 0;padding: 0.3em;box-sizing: border-box;text-align: center;}#sk-container-id-7 label.sk-toggleable__label-arrow:before {content: \"▸\";float: left;margin-right: 0.25em;color: #696969;}#sk-container-id-7 label.sk-toggleable__label-arrow:hover:before {color: black;}#sk-container-id-7 div.sk-estimator:hover label.sk-toggleable__label-arrow:before {color: black;}#sk-container-id-7 div.sk-toggleable__content {max-height: 0;max-width: 0;overflow: hidden;text-align: left;background-color: #f0f8ff;}#sk-container-id-7 div.sk-toggleable__content pre {margin: 0.2em;color: black;border-radius: 0.25em;background-color: #f0f8ff;}#sk-container-id-7 input.sk-toggleable__control:checked~div.sk-toggleable__content {max-height: 200px;max-width: 100%;overflow: auto;}#sk-container-id-7 input.sk-toggleable__control:checked~label.sk-toggleable__label-arrow:before {content: \"▾\";}#sk-container-id-7 div.sk-estimator input.sk-toggleable__control:checked~label.sk-toggleable__label {background-color: #d4ebff;}#sk-container-id-7 div.sk-label input.sk-toggleable__control:checked~label.sk-toggleable__label {background-color: #d4ebff;}#sk-container-id-7 input.sk-hidden--visually {border: 0;clip: rect(1px 1px 1px 1px);clip: rect(1px, 1px, 1px, 1px);height: 1px;margin: -1px;overflow: hidden;padding: 0;position: absolute;width: 1px;}#sk-container-id-7 div.sk-estimator {font-family: monospace;background-color: #f0f8ff;border: 1px dotted black;border-radius: 0.25em;box-sizing: border-box;margin-bottom: 0.5em;}#sk-container-id-7 div.sk-estimator:hover {background-color: #d4ebff;}#sk-container-id-7 div.sk-parallel-item::after {content: \"\";width: 100%;border-bottom: 1px solid gray;flex-grow: 1;}#sk-container-id-7 div.sk-label:hover label.sk-toggleable__label {background-color: #d4ebff;}#sk-container-id-7 div.sk-serial::before {content: \"\";position: absolute;border-left: 1px solid gray;box-sizing: border-box;top: 0;bottom: 0;left: 50%;z-index: 0;}#sk-container-id-7 div.sk-serial {display: flex;flex-direction: column;align-items: center;background-color: white;padding-right: 0.2em;padding-left: 0.2em;position: relative;}#sk-container-id-7 div.sk-item {position: relative;z-index: 1;}#sk-container-id-7 div.sk-parallel {display: flex;align-items: stretch;justify-content: center;background-color: white;position: relative;}#sk-container-id-7 div.sk-item::before, #sk-container-id-7 div.sk-parallel-item::before {content: \"\";position: absolute;border-left: 1px solid gray;box-sizing: border-box;top: 0;bottom: 0;left: 50%;z-index: -1;}#sk-container-id-7 div.sk-parallel-item {display: flex;flex-direction: column;z-index: 1;position: relative;background-color: white;}#sk-container-id-7 div.sk-parallel-item:first-child::after {align-self: flex-end;width: 50%;}#sk-container-id-7 div.sk-parallel-item:last-child::after {align-self: flex-start;width: 50%;}#sk-container-id-7 div.sk-parallel-item:only-child::after {width: 0;}#sk-container-id-7 div.sk-dashed-wrapped {border: 1px dashed gray;margin: 0 0.4em 0.5em 0.4em;box-sizing: border-box;padding-bottom: 0.4em;background-color: white;}#sk-container-id-7 div.sk-label label {font-family: monospace;font-weight: bold;display: inline-block;line-height: 1.2em;}#sk-container-id-7 div.sk-label-container {text-align: center;}#sk-container-id-7 div.sk-container {/* jupyter's `normalize.less` sets `[hidden] { display: none; }` but bootstrap.min.css set `[hidden] { display: none !important; }` so we also need the `!important` here to be able to override the default hidden behavior on the sphinx rendered scikit-learn.org. See: https://github.com/scikit-learn/scikit-learn/issues/21755 */display: inline-block !important;position: relative;}#sk-container-id-7 div.sk-text-repr-fallback {display: none;}</style><div id=\"sk-container-id-7\" class=\"sk-top-container\"><div class=\"sk-text-repr-fallback\"><pre>DecisionTreeClassifier(max_depth=10, min_samples_leaf=4, random_state=42)</pre><b>In a Jupyter environment, please rerun this cell to show the HTML representation or trust the notebook. <br />On GitHub, the HTML representation is unable to render, please try loading this page with nbviewer.org.</b></div><div class=\"sk-container\" hidden><div class=\"sk-item\"><div class=\"sk-estimator sk-toggleable\"><input class=\"sk-toggleable__control sk-hidden--visually\" id=\"sk-estimator-id-13\" type=\"checkbox\" checked><label for=\"sk-estimator-id-13\" class=\"sk-toggleable__label sk-toggleable__label-arrow\">DecisionTreeClassifier</label><div class=\"sk-toggleable__content\"><pre>DecisionTreeClassifier(max_depth=10, min_samples_leaf=4, random_state=42)</pre></div></div></div></div></div>"
      ],
      "text/plain": [
       "DecisionTreeClassifier(max_depth=10, min_samples_leaf=4, random_state=42)"
      ]
     },
     "execution_count": 56,
     "metadata": {},
     "output_type": "execute_result"
    }
   ],
   "source": [
    "# Train the model with the best hyperparameters\n",
    "best_dt_classifier = DecisionTreeClassifier(**best_params, random_state=42)\n",
    "best_dt_classifier.fit(X_train, y_train)"
   ]
  },
  {
   "cell_type": "code",
   "execution_count": 57,
   "metadata": {},
   "outputs": [],
   "source": [
    "# Predictions on the testing set\n",
    "y_pred = best_dt_classifier.predict(X_test)"
   ]
  },
  {
   "cell_type": "code",
   "execution_count": 58,
   "metadata": {},
   "outputs": [],
   "source": [
    "# Evaluate model performance\n",
    "accuracy = accuracy_score(y_test, y_pred)\n",
    "precision = precision_score(y_test, y_pred)\n",
    "recall = recall_score(y_test, y_pred)\n",
    "f1 = f1_score(y_test, y_pred)\n"
   ]
  },
  {
   "cell_type": "markdown",
   "metadata": {},
   "source": [
    "## Confusion Matrix"
   ]
  },
  {
   "cell_type": "code",
   "execution_count": 59,
   "metadata": {},
   "outputs": [
    {
     "data": {
      "image/png": "[encoded data removed]",
      "text/plain": [
       "<Figure size 640x480 with 2 Axes>"
      ]
     },
     "metadata": {},
     "output_type": "display_data"
    }
   ],
   "source": [
    "# Confusion Matrix\n",
    "import numpy as np\n",
    "cm = confusion_matrix(y_test, best_dt_classifier.predict(X_test))\n",
    "plt.imshow(cm, interpolation='nearest', cmap=plt.cm.Blues)\n",
    "plt.title('Confusion Matrix')\n",
    "plt.colorbar()\n",
    "tick_marks = range(len(np.unique(y_test)))  # Assuming y_test contains the true class labels\n",
    "plt.xticks(tick_marks, np.unique(y_test), rotation=45)\n",
    "plt.yticks(tick_marks, np.unique(y_test))\n",
    "plt.xlabel('Predicted label')\n",
    "plt.ylabel('True label')\n",
    "plt.show()"
   ]
  },
  {
   "cell_type": "markdown",
   "metadata": {},
   "source": [
    "## ROC Curve"
   ]
  },
  {
   "cell_type": "code",
   "execution_count": 60,
   "metadata": {},
   "outputs": [
    {
     "data": {
      "image/png": "[encoded data removed]",
      "text/plain": [
       "<Figure size 640x480 with 1 Axes>"
      ]
     },
     "metadata": {},
     "output_type": "display_data"
    }
   ],
   "source": [
    "from sklearn.metrics import roc_curve, auc\n",
    "\n",
    "# Compute ROC curve and ROC area for each class\n",
    "fpr, tpr, _ = roc_curve(y_test, best_dt_classifier.predict_proba(X_test)[:, 1])\n",
    "roc_auc = auc(fpr, tpr)\n",
    "\n",
    "# Plot ROC curve\n",
    "plt.figure()\n",
    "lw = 2\n",
    "plt.plot(fpr, tpr, color='darkorange', lw=lw, label='ROC curve (area = %0.2f)' % roc_auc)\n",
    "plt.plot([0, 1], [0, 1], color='navy', lw=lw, linestyle='--')\n",
    "plt.xlim([0.0, 1.0])\n",
    "plt.ylim([0.0, 1.05])\n",
    "plt.xlabel('False Positive Rate')\n",
    "plt.ylabel('True Positive Rate')\n",
    "plt.title('Receiver Operating Characteristic (ROC) Curve')\n",
    "plt.legend(loc=\"lower right\")\n",
    "plt.show()"
   ]
  },
  {
   "cell_type": "markdown",
   "metadata": {},
   "source": [
    "## Precision-Recall Curve"
   ]
  },
  {
   "cell_type": "code",
   "execution_count": 61,
   "metadata": {},
   "outputs": [
    {
     "data": {
      "image/png": "[encoded data removed]",
      "text/plain": [
       "<Figure size 800x600 with 1 Axes>"
      ]
     },
     "metadata": {},
     "output_type": "display_data"
    }
   ],
   "source": [
    "from sklearn.metrics import precision_recall_curve\n",
    "from sklearn.metrics import average_precision_score\n",
    "\n",
    "# Predict probabilities\n",
    "y_score = best_dt_classifier.predict_proba(X_test)[:, 1]\n",
    "\n",
    "# Calculate precision-recall curve\n",
    "precision, recall, _ = precision_recall_curve(y_test, y_score)\n",
    "\n",
    "# Calculate average precision score\n",
    "average_precision = average_precision_score(y_test, y_score)\n",
    "\n",
    "# Plot Precision-Recall curve\n",
    "plt.figure(figsize=(8, 6))\n",
    "plt.step(recall, precision, color='b', alpha=0.2, where='post')\n",
    "plt.fill_between(recall, precision, step='post', alpha=0.2, color='b')\n",
    "\n",
    "plt.xlabel('Recall')\n",
    "plt.ylabel('Precision')\n",
    "plt.ylim([0.0, 1.05])\n",
    "plt.xlim([0.0, 1.0])\n",
    "plt.title(f'Precision-Recall Curve: AP={average_precision:.2f}')\n",
    "plt.grid(True)\n",
    "plt.show()"
   ]
  },
  {
   "cell_type": "code",
   "execution_count": 62,
   "metadata": {},
   "outputs": [
    {
     "name": "stdout",
     "output_type": "stream",
     "text": [
      "Accuracy: 0.9805097451274363\n",
      "Precision: [0.15142429 0.17241379 0.21670429 0.30666667 0.59210526 0.76521739\n",
      " 0.84615385 0.8627451  0.91666667 0.93617021 0.97777778 1.\n",
      " 1.        ]\n",
      "Recall: [1.         0.99009901 0.95049505 0.91089109 0.89108911 0.87128713\n",
      " 0.87128713 0.87128713 0.87128713 0.87128713 0.87128713 0.87128713\n",
      " 0.        ]\n",
      "F1 Score: 0.9312169312169313\n"
     ]
    }
   ],
   "source": [
    "# Print evaluation metrics\n",
    "print(\"Accuracy:\", accuracy)\n",
    "print(\"Precision:\", precision)\n",
    "print(\"Recall:\", recall)\n",
    "print(\"F1 Score:\", f1)"
   ]
  },
  {
   "cell_type": "markdown",
   "metadata": {},
   "source": [
    "## Here's the interpretation of the classification metrics:"
   ]
  },
  {
   "cell_type": "markdown",
   "metadata": {},
   "source": [
    "1). Accuracy: Accuracy measures the overall correctness of the model's predictions. It's the ratio of the number of correct predictions to the total number of predictions. In this case, the accuracy is 98.05%, indicating that the model is correctly classifying the majority of the instances.\n",
    "\n",
    "2). Precision: Precision measures the proportion of true positive predictions among all positive predictions made by the model. A precision of 1.0 means that all instances predicted as positive are indeed positive. In other words, the model doesn't produce any false positives.\n",
    "\n",
    "3). Recall (Sensitivity): Recall measures the proportion of true positive predictions among all actual positive instances in the dataset. A recall of 0.871 means that the model correctly identifies 87.13% of all actual positive instances.\n",
    "\n",
    "4). F1 Score: The F1 score is the harmonic mean of precision and recall. It provides a balance between precision and recall and is especially useful when the classes are imbalanced. An F1 score of 0.931 indicates a good balance between precision and recall.\n",
    "\n",
    "Overall, these results suggest that the model performs very well, with high accuracy, perfect precision, and a good balance between recall and precision as indicated by the high F1 score.\n"
   ]
  },
  {
   "cell_type": "markdown",
   "metadata": {},
   "source": [
    "## Compare the Logistic Regression Model without Hyper paremeter Tuning To The DecionTree Classiffier."
   ]
  },
  {
   "cell_type": "code",
   "execution_count": 63,
   "metadata": {},
   "outputs": [],
   "source": [
    "##Model 1(Without hyperparemeter tuning),Model 3(DecisionTree Classiffier)"
   ]
  },
  {
   "cell_type": "markdown",
   "metadata": {},
   "source": [
    "). For Accuracy:\n",
    "\n",
    "Model 1: Accuracy = 0.857\n",
    "Model 3: Accuracy = 0.981\n",
    "Model 3 has a significantly higher accuracy than Model 1, indicating that it makes correct predictions for a much higher proportion of instances. This suggests that Model 3 performs substantially better in terms of overall correctness of predictions.\n",
    "\n",
    "2). For Precision:\n",
    "\n",
    "Model 1: Precision = 1.0\n",
    "Model 3: Precision = 1.0\n",
    "Both Model 1 and Model 3 have perfect precision, meaning they rarely misclassify negative instances. However, it's worth noting that precision alone might not be sufficient to evaluate the performance of a model.\n",
    "\n",
    "3). For Recall:\n",
    "\n",
    "Model 1: Recall = 0.059\n",
    "Model 3: Recall = 0.871\n",
    "\n",
    "Model 3 has a significantly higher recall than Model 1, indicating that it effectively captures a much higher proportion of positive instances. This suggests that Model 3 performs substantially better in terms of identifying positive instances.\n",
    "\n",
    "\n",
    "\n",
    "\n",
    "\n",
    "\n"
   ]
  },
  {
   "cell_type": "markdown",
   "metadata": {},
   "source": [
    "## Conclusion:"
   ]
  },
  {
   "cell_type": "markdown",
   "metadata": {},
   "source": [
    "Considering all metrics together, Model 3(Desion Tree Classiffier) demonstrates much higher accuracy and recall compared to Model 1(Logistic Regression without hyperparameter). Therefore, Model 3 is likely a better-performing model overall.\n",
    "\n",
    "\n",
    "\n",
    "\n"
   ]
  },
  {
   "cell_type": "markdown",
   "metadata": {},
   "source": [
    "# XG BOOST "
   ]
  },
  {
   "cell_type": "code",
   "execution_count": 64,
   "metadata": {},
   "outputs": [
    {
     "name": "stdout",
     "output_type": "stream",
     "text": [
      "Requirement already satisfied: xgboost in c:\\users\\dv\\anaconda3\\lib\\site-packages (2.0.3)\n",
      "Requirement already satisfied: numpy in c:\\users\\dv\\anaconda3\\lib\\site-packages (from xgboost) (1.24.3)\n",
      "Requirement already satisfied: scipy in c:\\users\\dv\\anaconda3\\lib\\site-packages (from xgboost) (1.10.1)\n",
      "Note: you may need to restart the kernel to use updated packages.\n"
     ]
    }
   ],
   "source": [
    "pip install xgboost"
   ]
  },
  {
   "cell_type": "code",
   "execution_count": 67,
   "metadata": {},
   "outputs": [
    {
     "name": "stdout",
     "output_type": "stream",
     "text": [
      "Requirement already satisfied: scikit-learn in c:\\users\\dv\\anaconda3\\lib\\site-packages (1.4.0)\n",
      "Requirement already satisfied: numpy<2.0,>=1.19.5 in c:\\users\\dv\\anaconda3\\lib\\site-packages (from scikit-learn) (1.24.3)\n",
      "Requirement already satisfied: scipy>=1.6.0 in c:\\users\\dv\\anaconda3\\lib\\site-packages (from scikit-learn) (1.10.1)\n",
      "Requirement already satisfied: joblib>=1.2.0 in c:\\users\\dv\\anaconda3\\lib\\site-packages (from scikit-learn) (1.2.0)\n",
      "Requirement already satisfied: threadpoolctl>=2.0.0 in c:\\users\\dv\\anaconda3\\lib\\site-packages (from scikit-learn) (2.2.0)\n",
      "Note: you may need to restart the kernel to use updated packages.\n"
     ]
    }
   ],
   "source": [
    "pip install --upgrade scikit-learn"
   ]
  },
  {
   "cell_type": "code",
   "execution_count": null,
   "metadata": {},
   "outputs": [],
   "source": [
    "#import necessary libraries\n",
    "import xgboost as xgb \n",
    "from xgboost import XGBClassifier\n",
    "from imblearn.over_sampling import SMOTE\n",
    "from sklearn.model_selection import train_test_split, GridSearchCV\n",
    "from sklearn.metrics import accuracy_score\n",
    "from sklearn.metrics import classification_report\n",
    "from sklearn.metrics import confusion_matrix"
   ]
  },
  {
   "cell_type": "code",
   "execution_count": null,
   "metadata": {},
   "outputs": [],
   "source": [
    "y = df['churn']\n",
    "X = df.drop(columns=['churn'], axis=1)\n",
    "# Split the data into training and testing sets\n",
    "X_train, X_test, y_train, y_test = train_test_split(X, y, random_state=42)"
   ]
  },
  {
   "cell_type": "code",
   "execution_count": null,
   "metadata": {},
   "outputs": [],
   "source": [
    "# balancing the classes using SMOTE \n",
    "# instantiating SMOTE \n",
    "smote = SMOTE(random_state=42)\n",
    "# fitting SMOTE on our data set \n",
    "X_train_resampled, y_train_resampled = smote.fit_resample(X_train, y_train)\n",
    "# seeing if class imbalance has been solved \n",
    "pd.Series(y_train_resampled).value_counts()"
   ]
  },
  {
   "cell_type": "code",
   "execution_count": null,
   "metadata": {},
   "outputs": [],
   "source": [
    "# Instantiate XGBClassifier\n",
    "clf = XGBClassifier()\n",
    "# Fit XGBClassifier\n",
    "clf.fit(X_train_resampled, y_train_resampled)\n",
    "# Predict on training and test sets\n",
    "training_preds = clf.predict(X_train_resampled)\n",
    "test_preds = clf.predict(X_test)"
   ]
  },
  {
   "cell_type": "code",
   "execution_count": null,
   "metadata": {},
   "outputs": [],
   "source": [
    "# Accuracy score of training and test sets\n",
    "training_accuracy = accuracy_score(y_train_resampled, training_preds)\n",
    "test_accuracy = accuracy_score(y_test, test_preds)\n",
    "# Print the accuracy scores\n",
    "print('Train accuracy score:', training_accuracy)\n",
    "print('Test accuracy score:', test_accuracy)"
   ]
  },
  {
   "cell_type": "code",
   "execution_count": null,
   "metadata": {},
   "outputs": [],
   "source": [
    "# Print the classification report (includes precision, recall, and F1-score)\n",
    "print(\"Classification Report:\")\n",
    "print(classification_report(y_test, test_preds))"
   ]
  },
  {
   "cell_type": "markdown",
   "metadata": {},
   "source": [
    "The model is performing well with high accuracy, precision, and recall, indicating good\n",
    "generalization to the test set."
   ]
  },
  {
   "cell_type": "markdown",
   "metadata": {},
   "source": [
    "## Tuning XGBoost"
   ]
  },
  {
   "cell_type": "markdown",
   "metadata": {},
   "source": [
    "Hyperparameters :learning rate,max_depth,min_child weight,subsample,number of\n",
    "trees(n_estimators). GridSearchCV - search through a predefined hyperparameter grid, and the\n",
    "best parameters are selected based on accuracy"
   ]
  },
  {
   "cell_type": "code",
   "execution_count": null,
   "metadata": {},
   "outputs": [],
   "source": [
    "# Define the hyperparameter grid\n",
    "param_grid = {\n",
    "'learning_rate': [0.1, 0.2],\n",
    "'max_depth': [6,8],\n",
    "'min_child_weight': [1, 2],\n",
    "'subsample': [0.5, 0.7],\n",
    "'n_estimators': [100],\n",
    "}\n",
    "# Create the GridSearchCV object\n",
    "grid_clf = GridSearchCV(clf, param_grid,scoring='accuracy', cv=5)\n",
    "# Fit the GridSearchCV object to the data\n",
    "grid_clf.fit(X_train_resampled, y_train_resampled)\n",
    "best_parameters = grid_clf.best_params_\n",
    "best_parameters"
   ]
  },
  {
   "cell_type": "markdown",
   "metadata": {},
   "source": [
    "After performing grid search and finding the best hyperparameters using GridSearchCV,the best\n",
    "model is used to make predictions on both the training and test sets.Accuracy scores are\n",
    "calculated for both the training and test sets"
   ]
  },
  {
   "cell_type": "code",
   "execution_count": null,
   "metadata": {},
   "outputs": [],
   "source": [
    "# Train the XGBoost model with the best parameters\n",
    "best_model = xgb.XGBClassifier(**best_parameters)\n",
    "best_model.fit(X_train_resampled, y_train_resampled)\n",
    "# Make predictions on the training set\n",
    "y_train_pred = best_model.predict(X_train_resampled)\n",
    "# Make predictions on the test set\n",
    "y_test_pred = best_model.predict(X_test)\n",
    "# Evaluate the model performance on training set\n",
    "train_accuracy = accuracy_score(y_train_resampled, y_train_pred)\n",
    "# Evaluate the model performance on test set\n",
    "test_accuracy = accuracy_score(y_test, y_test_pred)\n",
    "# Print the accuracy scores\n",
    "print(\"Training Accuracy:\", train_accuracy)\n",
    "print(\"Test Accuracy:\", test_accuracy)"
   ]
  },
  {
   "cell_type": "code",
   "execution_count": null,
   "metadata": {},
   "outputs": [],
   "source": [
    "# Print the classification report (includes precision, recall, and F1-score)\n",
    "print(\"Classification Report:\")\n",
    "print(classification_report(y_test, y_test_pred))"
   ]
  },
  {
   "cell_type": "markdown",
   "metadata": {},
   "source": [
    "After Tuning:the training accuracy reached 100%, there was a slight decrease in test accuracy\n",
    "and some trade-off between precision and recall. The model might be overfitting to the training\n",
    "set."
   ]
  },
  {
   "cell_type": "markdown",
   "metadata": {},
   "source": [
    "**Feature impor tance can be useful for understanding the most influential\n",
    "features in the model.**"
   ]
  },
  {
   "cell_type": "code",
   "execution_count": null,
   "metadata": {},
   "outputs": [],
   "source": [
    "# Get feature importances\n",
    "feature_importance = best_model.feature_importances_\n",
    "# Create a DataFrame to associate feature names with their importances\n",
    "feature_importance_df = pd.DataFrame({'Feature': X_train.columns, 'Importance': feature_importance})\n",
    "# Sort the DataFrame by importance in descending order\n",
    "feature_importance_df = feature_importance_df.sort_values(by='Importance', ascending=False)"
   ]
  },
  {
   "cell_type": "code",
   "execution_count": null,
   "metadata": {},
   "outputs": [],
   "source": [
    "# Print or visualize the feature importances\n",
    "print(feature_importance_df)"
   ]
  },
  {
   "cell_type": "code",
   "execution_count": null,
   "metadata": {},
   "outputs": [],
   "source": [
    "#Plotting the feature importance for Top 10 most important columns\n",
    "# Select the top 10 features\n",
    "top_10_features = feature_importance_df.head(10)\n",
    "# Plot the feature importance using a bar graph\n",
    "plt.figure(figsize=(10, 6))\n",
    "plt.bar(top_10_features['Feature'], top_10_features['Importance'], color='blue')\n",
    "plt.xlabel('Feature')\n",
    "plt.ylabel('Importance')\n",
    "plt.title('Top 10 Most Important Features')\n",
    "plt.xticks(rotation=45, ha='right')\n",
    "plt.show()"
   ]
  },
  {
   "cell_type": "code",
   "execution_count": null,
   "metadata": {},
   "outputs": [],
   "source": [
    "# Create a confusion matrix\n",
    "conf_matrix = confusion_matrix(y_test, y_test_pred)"
   ]
  },
  {
   "cell_type": "code",
   "execution_count": null,
   "metadata": {},
   "outputs": [],
   "source": [
    "# Print or visualize the confusion matrix\n",
    "print(\"Confusion Matrix:\")\n",
    "print(conf_matrix"
   ]
  },
  {
   "cell_type": "code",
   "execution_count": null,
   "metadata": {},
   "outputs": [],
   "source": [
    "# Plotting the confusion matrix as a heatmap\n",
    "sns.heatmap(conf_matrix, annot=True, fmt=\"d\", cmap=\"Blues\", cbar=False)\n",
    "plt.title(\"Confusion Matrix\")\n",
    "plt.xlabel(\"Predicted Labels\")\n",
    "plt.ylabel(\"True Labels\")\n",
    "plt.show()"
   ]
  },
  {
   "cell_type": "markdown",
   "metadata": {},
   "source": [
    "*****Insights from the model are missing,kindly include that.***"
   ]
  },
  {
   "cell_type": "markdown",
   "metadata": {},
   "source": [
    "## The Support Vector Machine Model"
   ]
  },
  {
   "cell_type": "markdown",
   "metadata": {},
   "source": [
    "**Eva's Model,was assigned to Josephine,kindly compare the two to see which is better.**"
   ]
  },
  {
   "cell_type": "markdown",
   "metadata": {},
   "source": [
    "***Splitting data into training and test sets.***"
   ]
  },
  {
   "cell_type": "code",
   "execution_count": null,
   "metadata": {},
   "outputs": [],
   "source": [
    "fromsklearn.model_selection importtrain_test_split\n",
    "fromsklearn.svm importSVC\n",
    "fromsklearn.metrics importaccuracy_score\n",
    "# Extracting the features and the target variable\n",
    "X_train =df.drop(columns=['churn'])\n",
    "y_train =df['churn'] # 'churn ' is the column containing the target \n",
    "variable\n",
    "# Splitting the data into training and test sets\n",
    "X_train, X_test, y_train, y_test =train_test_split(X_train, y_train, \n",
    "test_size=0.5, random_state=1)"
   ]
  },
  {
   "cell_type": "markdown",
   "metadata": {},
   "source": [
    "***Training the model.***"
   ]
  },
  {
   "cell_type": "code",
   "execution_count": null,
   "metadata": {},
   "outputs": [],
   "source": [
    "# Creating an SVM classifier\n",
    "svm_classifier =SVC(kernel='linear', random_state=1)\n",
    "# Training the classifier on the training data\n",
    "svm_classifier.fit(X_train, y_train)\n",
    "SVC(kernel='linear', random_state=1)"
   ]
  },
  {
   "cell_type": "code",
   "execution_count": null,
   "metadata": {},
   "outputs": [],
   "source": [
    "checking model accuracy before tuning\n",
    "fromsklearn.svm importSVC\n",
    "fromsklearn.metrics importaccuracy_score\n",
    "fromsklearn.datasets importmake_classification\n",
    "# Generate a synthetic dataset for demonstration\n",
    "X_train, y_train =make_classification(n_samples=1000, n_features=20, \n",
    "n_classes=2, random_state=42)\n",
    "# Split the dataset into training and testing sets\n",
    "X_train, X_test, y_train, y_test =train_test_split(X_train, y_train, \n",
    "test_size=0.2, random_state=42)\n",
    "# Instantiate the baseline model\n",
    "baseline_model =SVC(random_state=42)\n",
    "# Train the baseline model on the training data\n",
    "baseline_model.fit(X_train, y_train)\n",
    "# Make predictions on the testing data\n",
    "y_pred =baseline_model.predict(X_test)\n",
    "# Evaluate the baseline model\n",
    "baseline_accuracy =accuracy_score(y_test, y_pred)\n",
    "print(\"Baseline Model Accuracy:\", baseline_accuracy)"
   ]
  },
  {
   "cell_type": "markdown",
   "metadata": {},
   "source": [
    "***Performing tuning of the model using Gridsearch.***"
   ]
  },
  {
   "cell_type": "code",
   "execution_count": null,
   "metadata": {},
   "outputs": [],
   "source": [
    "fromsklearn.model_selection importtrain_test_split, GridSearchCV\n",
    "# Define the parameter grid to search\n",
    "param_grid ={'C': [0.1, 1, 10, 100], 'kernel': ['linear', 'rbf', \n",
    "'poly']}\n",
    "# Create an SVM classifier\n",
    "svm_classifier =SVC(random_state=1)\n",
    "# Create GridSearchCV object\n",
    "grid_search =GridSearchCV(svm_classifier, param_grid, cv=5, \n",
    "scoring='accuracy')\n",
    "# Fit the GridSearchCV object to the training data\n",
    "grid_search.fit(X_train, y_train)\n",
    "# Get the best parameters and best estimator\n",
    "best_params =grid_search.best_params_\n",
    "best_svm_classifier =grid_search.best_estimator_"
   ]
  },
  {
   "cell_type": "markdown",
   "metadata": {},
   "source": [
    "***Predicting the test data.***"
   ]
  },
  {
   "cell_type": "code",
   "execution_count": null,
   "metadata": {},
   "outputs": [],
   "source": [
    "# Make predictions on the test data using the best estimator\n",
    "svm_y_pred =best_svm_classifier.predict(X_test)"
   ]
  },
  {
   "cell_type": "code",
   "execution_count": null,
   "metadata": {},
   "outputs": [],
   "source": [
    "***Evaluating the model performance using accuracy,precision,recall and f1-score.***"
   ]
  },
  {
   "cell_type": "code",
   "execution_count": null,
   "metadata": {},
   "outputs": [],
   "source": [
    "# Calculate the accuracy score\n",
    "svm_accuracy =accuracy_score(y_test, svm_y_pred)\n",
    "print(\"Best Parameters:\", best_params)\n",
    "print(\"SVM Accuracy Score:\", svm_accuracy)\n",
    "Best Parameters: {'C': 0.1, 'kernel': 'linear'}\n",
    "SVM Accuracy Score: 0.88\n",
    "fromsklearn.metrics importprecision_score, recall_score, f1_score\n",
    "# Calculate precision\n",
    "precision =precision_score(y_test, svm_y_pred)\n",
    "# Calculate recall\n",
    "recall =recall_score(y_test, svm_y_pred)\n",
    "# Calculate F1 score\n",
    "f1 =f1_score(y_test, svm_y_pred)\n",
    "print(\"Precision:\", precision)\n",
    "print(\"Recall:\", recall)\n",
    "print(\"F1 Score:\", f1)"
   ]
  },
  {
   "cell_type": "markdown",
   "metadata": {},
   "source": [
    "## K-Nearest Model.\n"
   ]
  },
  {
   "cell_type": "markdown",
   "metadata": {},
   "source": [
    "**Model Tuning**"
   ]
  },
  {
   "cell_type": "code",
   "execution_count": null,
   "metadata": {},
   "outputs": [],
   "source": [
    "#Import neccessary libraries\n",
    "from sklearn.tree importDecisionTreeClassifier\n",
    "from sklearn.metrics importconfusion_matrix, classification_report\n",
    "from sklearn.metrics importroc_curve, auc, roc_auc_score\n",
    "plt.style.use('seaborn-v0_8-darkgrid')"
   ]
  },
  {
   "cell_type": "code",
   "execution_count": null,
   "metadata": {},
   "outputs": [],
   "source": [
    "# KNN classifier\n",
    "knn_classifier =KNeighborsClassifier(metric='manhattan', \n",
    "n_neighbors=3, weights='distance')\n",
    "# Training the classifier\n",
    "knn_classifier.fit(X_train_resampled, y_train_resampled)\n",
    "KNeighborsClassifier(metric='manhattan', n_neighbors=3, \n",
    "weights='distance')"
   ]
  },
  {
   "cell_type": "markdown",
   "metadata": {},
   "source": [
    "**Data Splitting and Standardization.**"
   ]
  },
  {
   "cell_type": "code",
   "execution_count": null,
   "metadata": {},
   "outputs": [],
   "source": [
    "fromsklearn.metrics importaccuracy_score, classification_report, \n",
    "confusion_matrix\n",
    "# Split the data into training and testing sets\n",
    "X_train, X_test, y_train, y_test =train_test_split(X_train_resampled,\n",
    "y_train_resampled, test_size=0.2, random_state=42)\n",
    "# Standardize the features\n",
    "scaler =StandardScaler()\n",
    "X_train_scaled =scaler.fit_transform(X_train)\n",
    "X_test_scaled =scaler.transform(X_test)\n",
    "# Train the KNN model\n",
    "knn =KNeighborsClassifier(n_neighbors=5)  # You can adjust the number\n",
    "of neighbors as needed\n",
    "knn.fit(X_train_scaled, y_train)\n",
    "# Evaluate the model\n",
    "y_pred =knn.predict(X_test_scaled)\n",
    "accuracy =accuracy_score(y_test, y_pred)\n",
    "print(\"Accuracy:\", accuracy)"
   ]
  },
  {
   "cell_type": "markdown",
   "metadata": {},
   "source": [
    "The accuracy of 90.74% in the K-Nearest Neighbors (KNN) model means that it correctly \n",
    "predicts the outcome for nearly 91% of the cases based on the features of their nearest \n",
    "neighbors. This indicates a strong performance in classification tasks, but it's important to \n",
    "consider other factors alongside accuracy to fully assess the model's."
   ]
  },
  {
   "cell_type": "markdown",
   "metadata": {},
   "source": [
    "**Fine-tuning.**"
   ]
  },
  {
   "cell_type": "code",
   "execution_count": null,
   "metadata": {},
   "outputs": [],
   "source": [
    "#Fine-tune Hyperparameters:\n",
    "fromsklearn.model_selection importGridSearchCV\n",
    "# Define the parameter grid\n",
    "param_grid ={\n",
    "'n_neighbors': [3, 5, 7, 9, 11],\n",
    "'weights': ['uniform', 'distance'],'metric': ['euclidean', 'manhattan', 'minkowski']\n",
    "}\n",
    "# KNN model\n",
    "knn =KNeighborsClassifier()\n",
    "# GridSearchCV\n",
    "grid_search =GridSearchCV(knn, param_grid, cv=5, scoring='accuracy')\n",
    "# Fit the model\n",
    "grid_search.fit(X_train_resampled, y_train_resampled)\n",
    "# Get the best parameters\n",
    "best_params =grid_search.best_params_\n",
    "print(\"Best Parameters:\", best_params)\n",
    "\n",
    "#Explore Other Metrics:\n",
    "fromsklearn.metrics importclassification_report\n",
    "# Predict using the trained model\n",
    "y_pred =grid_search.predict(X_test)\n",
    "#classification report\n",
    "print(\"Classification Report:\")\n",
    "print(classification_report(y_test, y_pred))\n",
    "    "
   ]
  },
  {
   "cell_type": "markdown",
   "metadata": {},
   "source": [
    "**Evaluate Model Performance.**"
   ]
  },
  {
   "cell_type": "code",
   "execution_count": null,
   "metadata": {},
   "outputs": [],
   "source": [
    "accuracy =accuracy_score(y_test, y_pred)\n",
    "print(\"Accuracy:\", accuracy )\n",
    "print(\"Confusion Matrix:\")\n",
    "print(confusion_matrix(y_test, y_pred))\n",
    "print(\"Classification Report:\")\n",
    "print(classification_report(y_test, y_pred))"
   ]
  },
  {
   "cell_type": "markdown",
   "metadata": {},
   "source": [
    "**Left out some code from Eva's notebook...didnot understand**...**Kindly re-evaluate and end enquire further.**"
   ]
  },
  {
   "cell_type": "markdown",
   "metadata": {},
   "source": [
    "# Random Forest Model  before  Any Tuning."
   ]
  },
  {
   "cell_type": "code",
   "execution_count": null,
   "metadata": {},
   "outputs": [],
   "source": [
    "def create_models(seed=42):\n",
    "    models =[]\n",
    "#models.append(('logistic regression', LogisticRegression(random_state=seed)))\n",
    "    models.append(('random_forest', RandomForestClassifier(random_state=seed)))\n",
    "    return models\n",
    "models= create_models("
   ]
  },
  {
   "cell_type": "code",
   "execution_count": null,
   "metadata": {},
   "outputs": [],
   "source": [
    "# results using default parameters\n",
    "results=[]\n",
    "names=[]\n",
    "scoring = 'accuracy'\n",
    "for name, model in models:\n",
    "# fit model with training data\n",
    "model.fit(X_train, y_train).predict(X_test)\n",
    "# make predictions with testing data\n",
    "predictions=model.predict(X_test)\n",
    "# calculating accuracy\n",
    "accuracy=accuracy_score(y_test, predictions)\n",
    "# append model name and accuracy to the lists\n",
    "results.append(accuracy)\n",
    "names.append(name)\n",
    "#print classifier accuracy\n",
    "print('classifier:{}, Accuracy: {})'.format(name, accuracy))\n",
    "print(classification_report(y_test, predictions))\n",
    "# Calculate predicted probabilities for positive class\n",
    "y_proba = model.predict_proba(X_test)[:, 1]\n",
    "# Compute ROC curve and ROC area\n",
    "fpr, tpr, _ = roc_curve(y_test, y_proba)\n",
    "roc_auc = auc(fpr, tpr)"
   ]
  },
  {
   "cell_type": "code",
   "execution_count": null,
   "metadata": {},
   "outputs": [],
   "source": [
    "feature_importance = model.feature_importances_\n",
    "# Zip feature names and their importance scores\n",
    "feature_importance_dict = dict(zip(X_train.columns, feature_importance))\n",
    "# Sort feature importance in descending order\n",
    "sorted_feature_importance = sorted(feature_importance_dict.items(), key=lambda x: x[1], reverse=True)\n",
    "# Print feature importance\n",
    "for feature, importance in sorted_feature_importance:\n",
    "features =[x[0] for x in sorted_feature_importance[:10]]\n",
    "importance =[x[1] for x in sorted_feature_importance[:10]]\n",
    "# Plot horizontal bar graph\n",
    "plt.figure(figsize=(18, 8))\n",
    "plt.subplot(1, 2, 1)\n",
    "plt.barh(features, importance)\n",
    "plt.xlabel('Feature Importance')\n",
    "plt.ylabel('Features')\n",
    "plt.title('Feature Importance')\n",
    "# visualizing model performance using confusion matrix\n",
    "plt.subplot(1, 2, 2)\n",
    "conf_matrix = confusion_matrix(y_test, predictions)\n",
    "#plotting heatmap\n",
    "sns.heatmap(conf_matrix, annot=True, cmap=\"viridis\", fmt=\"d\", linewidths=.5)\n",
    "# setting the labels\n",
    "plt.title(\"Confusion Matrix\")\n",
    "plt.xlabel(\"Predicted variables\")\n",
    "plt.ylabel(\"True variables\")\n",
    "# displaying the data\n",
    "plt.show()"
   ]
  },
  {
   "cell_type": "code",
   "execution_count": null,
   "metadata": {},
   "outputs": [],
   "source": [
    "# Plot ROC curve\n",
    "plt.figure(figsize=(8, 8))\n",
    "plt.plot(fpr, tpr, lw=2, label=f'{name}(area = {roc_auc:.2f})')\n",
    "plt.plot([0, 1], [0, 1], color='navy', lw=2, linestyle='--')\n",
    "plt.xlim([0.0, 1.0])\n",
    "plt.ylim([0.0, 1.05])\n",
    "plt.xlabel('False Positive Rate')\n",
    "plt.ylabel('True Positive Rate')\n",
    "plt.title(f'Receiver Operating Characteristic - {name}')\n",
    "plt.legend(loc=\"lower right\")\n",
    "plt.show()"
   ]
  },
  {
   "cell_type": "markdown",
   "metadata": {},
   "source": [
    "**Dealing with class imbalance.**"
   ]
  },
  {
   "cell_type": "code",
   "execution_count": null,
   "metadata": {},
   "outputs": [],
   "source": [
    "# getting the class imbalance \n",
    "df['churn'].value_counts()"
   ]
  },
  {
   "cell_type": "markdown",
   "metadata": {},
   "source": [
    "**Balancing the imbalanced class.**"
   ]
  },
  {
   "cell_type": "code",
   "execution_count": null,
   "metadata": {},
   "outputs": [],
   "source": [
    "# balancing the classes using SMOTE\n",
    "# instantiating SMOTE\n",
    "smote = SMOTE(random_state=42)\n",
    "# fitting SMOTE on our data set\n",
    "X_train_resampled, y_train_resampled = smote.fit_resample(X_train, y_train)"
   ]
  },
  {
   "cell_type": "code",
   "execution_count": null,
   "metadata": {},
   "outputs": [],
   "source": [
    "# seeing if class imbalance has been solved\n",
    "pd.Series(y_train_resampled).value_counts()"
   ]
  },
  {
   "cell_type": "markdown",
   "metadata": {},
   "source": [
    "## Random Forest Model after Parameter Tuning"
   ]
  },
  {
   "cell_type": "code",
   "execution_count": null,
   "metadata": {},
   "outputs": [],
   "source": [
    "# Define a function to perform random search and evaluate the model\n",
    "def perform_grid_search(classifier, param_grid):\n",
    "# Define the pipeline\n",
    "pipe = Pipeline([\n",
    "('scaler', StandardScaler()),\n",
    "('classifier', classifier)\n",
    "])\n",
    "# Perform GridSearchCV\n",
    "random_search = GridSearchCV(estimator = pipe,\n",
    "param_grid=grid,\n",
    "scoring = 'accuracy',\n",
    "cv=5)\n",
    "random_search.fit(X_train_resampled, y_train_resampled)\n",
    "# Get the best parameters\n",
    "best_params = random_search.best_params_\n",
    "print(\"Best Parameters:\", best_params)\n",
    "# Evaluate the model on the test set\n",
    "y_pred = random_search.predict(X_test)\n",
    "# Calculate evaluation metrics\n",
    "accuracy = accuracy_score(y_test, y_pred)\n",
    "precision = precision_score(y_test, y_pred)\n",
    "recall = recall_score(y_test, y_pred)\n",
    "f1 = f1_score(y_test, y_pred)\n",
    "# Print evaluation metrics\n",
    "print(\"Test Accuracy:\", accuracy)\n",
    "print(\"Precision:\", precision)\n",
    "print(\"Recall:\", recall)\n",
    "print(\"F1 Score:\", f1)\n",
    "\n",
    "# Classification report\n",
    "print(\"Classification Report:\")\n",
    "print(classification_report(y_test, y_pred))\n",
    "return  best_params, accuracy\n"
   ]
  },
  {
   "cell_type": "code",
   "execution_count": null,
   "metadata": {},
   "outputs": [],
   "source": [
    "classifier= RandomForestClassifier()\n",
    "param_grid =[{'classifier__max_depth': [None, 2,6,10],\n",
    "'classifier__min_samples_split': [5,10]}] \n",
    "perform_grid_search(classifier, param_grid)"
   ]
  },
  {
   "cell_type": "code",
   "execution_count": null,
   "metadata": {},
   "outputs": [],
   "source": [
    "# Plot horizontal bar graph\n",
    "plt.figure(figsize=(18, 8))\n",
    "plt.subplot(1, 2, 1)\n",
    "n_of_features = 10\n",
    "feature_importances = random_search.best_estimator_['classifier'].feature_importances_\n",
    "# Get indices of top 10 features\n",
    "indices = np.argsort(feature_importances)[::-1][:n_of_features]\n",
    "# getting labels\n",
    "plt.title(\"Top 10 Feature Importances\")\n",
    "plt.bar(range(n_of_features), feature_importances[indices], align=\"center\", )\n",
    "plt.xticks(range(n_of_features), X_train.columns[indices], rotation=90)\n",
    "plt.xlabel(\"Features\")\n",
    "plt.ylabel(\"Importance\")\n",
    "# visualizing model performance using confusion matrix\n",
    "plt.subplot(1, 2, 2)\n",
    "conf_matrix = confusion_matrix(y_test, predictions)\n",
    "#plotting heatmap\n",
    "sns.heatmap(conf_matrix, annot=True, cmap=\"viridis\", fmt=\"d\", linewidths=.5)\n",
    "# setting the labels\n",
    "plt.title(\"Confusion Matrix\")\n",
    "plt.xlabel(\"Predicted variables\")\n",
    "plt.ylabel(\"True variables\")\n",
    "# displaying the data\n",
    "plt.show()"
   ]
  },
  {
   "cell_type": "markdown",
   "metadata": {},
   "source": [
    "**No insights,kindly derive insights from this model as well.**"
   ]
  },
  {
   "cell_type": "code",
   "execution_count": null,
   "metadata": {},
   "outputs": [],
   "source": []
  },
  {
   "cell_type": "code",
   "execution_count": null,
   "metadata": {},
   "outputs": [],
   "source": []
  },
  {
   "cell_type": "code",
   "execution_count": null,
   "metadata": {},
   "outputs": [],
   "source": []
  },
  {
   "cell_type": "code",
   "execution_count": null,
   "metadata": {},
   "outputs": [],
   "source": []
  },
  {
   "cell_type": "code",
   "execution_count": null,
   "metadata": {},
   "outputs": [],
   "source": []
  }
 ],
 "metadata": {
  "kernelspec": {
   "display_name": "Python (learn-env)",
   "language": "python",
   "name": "learn-env"
  },
  "language_info": {
   "codemirror_mode": {
    "name": "ipython",
    "version": 3
   },
   "file_extension": ".py",
   "mimetype": "text/x-python",
   "name": "python",
   "nbconvert_exporter": "python",
   "pygments_lexer": "ipython3",
   "version": "3.11.4"
  }
 },
 "nbformat": 4,
 "nbformat_minor": 4
}
